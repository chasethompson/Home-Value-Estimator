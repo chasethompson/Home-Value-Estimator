{
 "cells": [
  {
   "cell_type": "code",
   "execution_count": 1,
   "metadata": {},
   "outputs": [],
   "source": [
    "# setup our notebook environment\n",
    "\n",
    "import numpy as np\n",
    "import pandas as pd\n",
    "import seaborn as sns\n",
    "import matplotlib.pyplot as plt\n",
    "%matplotlib inline\n",
    "import gmaps\n",
    "import gmaps.datasets\n",
    "from pandas_profiling import ProfileReport\n",
    "\n",
    "from scipy.stats import norm, ttest_ind, pearsonr\n",
    "from sklearn.model_selection import train_test_split\n",
    "from sklearn.preprocessing import RobustScaler\n",
    "from sklearn.metrics import mean_squared_error, r2_score, explained_variance_score\n",
    "from sklearn.linear_model import LinearRegression\n",
    "from sklearn.feature_selection import RFE\n",
    "from math import sqrt\n",
    "\n",
    "import warnings\n",
    "warnings.filterwarnings(\"ignore\")\n",
    "\n",
    "from env import host, user, password\n",
    "import acquire\n",
    "import split_scale\n",
    "import explore"
   ]
  },
  {
   "cell_type": "markdown",
   "metadata": {},
   "source": [
    "## Deliverables\n",
    "\n",
    "What should the zillow team expect to receive from you? Again, as you were communicating to them, not to your instructors.\n",
    "\n",
    "A report (in the form of a presentation, both verbal and through a slides)\n",
    "\n",
    "1. The report/presentation slides should summarize your findings about the drivers of the single unit property values. This will come from the analysis you do during the exploration phase of the pipeline. In the report, you should have visualizations that support your main points.\n",
    "\n",
    "    The presentation should be no longer than 5 minutes, and consist of 3-5 slides.<br><br>\n",
    "   \n",
    "\n",
    "2. A github repository containing your work.\n",
    "\n",
    "    This repository should consist of at least 1 jupyter notebook that walks through the pipeline, but you may wish to split your work among 2 notebooks, one for exploration, and one for modeling.\n",
    "\n",
    "    Make sure your notebooks answer all the questions posed in the email from the Zillow data science team.\n",
    "\n",
    "    The repository should also contain the .py files necessary to reproduce your work, and your work must be reproducible by someone with their own env.py file.\n",
    "\n",
    "### Other Notes\n",
    "\n",
    "- For the first iteration of your model, use only square feet of the home, number of bedrooms, and number of bathrooms to estimate the properties assessed value, 'taxvaluedollarcnt'. You can expand this to other fields after you have completed an mvp (minimally viable product).\n",
    "- You will want to read and re-read the requirements given by your stakeholders to be sure you are meeting all of their needs and representing it in your data, report and model.\n",
    "- You will want to do some data validation or QA (quality assurance) to be sure the data you gather is what you think it is.\n",
    "- You will want to make sure you are using the best fields to represent square feet of home, number of bedrooms and number of bathrooms. \"Best\" meaning the most accurate and available information. Here you will need to do some data investigation in the database and use your domain expertise to make some judgement calls.\n",
    "\n",
    "***For use throughout:***\n",
    "\n",
    "## Data dictionary\n",
    "\n",
    "*Target Variable:*\n",
    "\n",
    "- **home_value** - formerly taxvaluedollarcnt, this was the data used to predict what someone would possible pay for a property\n",
    "\n",
    "*Independent Variable:*\n",
    "\n",
    "- **bathrooms** - formerly bathroomcnt, this is a count of total number of bathrooms a property has\n",
    "- **bedrooms** - formerly bedroomcnt, this is a count of the total number of bedrooms a property has\n",
    "- **sqft** - formerly calculatedfinishedsquarefeet, this was used in leiu of other squarefeet columns due to the high null count, and lack of clarity for where those calculations were coming from\n",
    "- **zip** - formerly regionidzip, the zip code of the property\n",
    "- **taxes** - formerly taxamount, the annual taxes accessed on the property\n",
    "- **SFR** - formerly propertylandusetypeid, there were numerous property types in the data, commercial, lot, etc. The deliverables to the team were to contain *single unit property values*, so we went with the single family residential type.\n",
    "- **fips** - county assigned fips numbers - 6037: Los Angeles County 6059: Orange County 6111: Venture County\n",
    "- **latitude** - property latitude\n",
    "- **longitude** - property longitude\n",
    "\n",
    "*Data Scaling*\n",
    "\n",
    "- **Min/Max Scaler** - The deliverables require us to use multiple continuous feautres to predict our target. The continuous features features consist of a different kinds of data - though all numeric - we need to scale our data. We've decided to use a Min/Max Scaler for this."
   ]
  },
  {
   "cell_type": "code",
   "execution_count": 2,
   "metadata": {},
   "outputs": [],
   "source": [
    "# function to query db and return df\n",
    "\n",
    "zillow = acquire.wrangle_zillow()"
   ]
  },
  {
   "cell_type": "code",
   "execution_count": 3,
   "metadata": {},
   "outputs": [
    {
     "data": {
      "text/html": [
       "<div>\n",
       "<style scoped>\n",
       "    .dataframe tbody tr th:only-of-type {\n",
       "        vertical-align: middle;\n",
       "    }\n",
       "\n",
       "    .dataframe tbody tr th {\n",
       "        vertical-align: top;\n",
       "    }\n",
       "\n",
       "    .dataframe thead th {\n",
       "        text-align: right;\n",
       "    }\n",
       "</style>\n",
       "<table border=\"1\" class=\"dataframe\">\n",
       "  <thead>\n",
       "    <tr style=\"text-align: right;\">\n",
       "      <th></th>\n",
       "      <th>bathrooms</th>\n",
       "      <th>bedrooms</th>\n",
       "      <th>sqft</th>\n",
       "      <th>zip</th>\n",
       "      <th>home_value</th>\n",
       "      <th>taxes</th>\n",
       "      <th>SFR</th>\n",
       "      <th>fips</th>\n",
       "      <th>latitude</th>\n",
       "      <th>longitude</th>\n",
       "    </tr>\n",
       "  </thead>\n",
       "  <tbody>\n",
       "    <tr>\n",
       "      <th>0</th>\n",
       "      <td>1.0</td>\n",
       "      <td>2.0</td>\n",
       "      <td>777.0</td>\n",
       "      <td>96126.0</td>\n",
       "      <td>558278.0</td>\n",
       "      <td>6643.18</td>\n",
       "      <td>261.0</td>\n",
       "      <td>6037.0</td>\n",
       "      <td>34082673.0</td>\n",
       "      <td>-118602442.0</td>\n",
       "    </tr>\n",
       "    <tr>\n",
       "      <th>1</th>\n",
       "      <td>2.0</td>\n",
       "      <td>3.0</td>\n",
       "      <td>1742.0</td>\n",
       "      <td>96412.0</td>\n",
       "      <td>1009645.0</td>\n",
       "      <td>12280.32</td>\n",
       "      <td>261.0</td>\n",
       "      <td>6037.0</td>\n",
       "      <td>34141567.0</td>\n",
       "      <td>-118458882.0</td>\n",
       "    </tr>\n",
       "    <tr>\n",
       "      <th>2</th>\n",
       "      <td>1.0</td>\n",
       "      <td>3.0</td>\n",
       "      <td>1088.0</td>\n",
       "      <td>97324.0</td>\n",
       "      <td>26825.0</td>\n",
       "      <td>404.13</td>\n",
       "      <td>261.0</td>\n",
       "      <td>6037.0</td>\n",
       "      <td>34519623.0</td>\n",
       "      <td>-117666454.0</td>\n",
       "    </tr>\n",
       "    <tr>\n",
       "      <th>3</th>\n",
       "      <td>3.0</td>\n",
       "      <td>4.0</td>\n",
       "      <td>2163.0</td>\n",
       "      <td>97318.0</td>\n",
       "      <td>188091.0</td>\n",
       "      <td>3123.44</td>\n",
       "      <td>261.0</td>\n",
       "      <td>6037.0</td>\n",
       "      <td>34676639.0</td>\n",
       "      <td>-118102365.0</td>\n",
       "    </tr>\n",
       "    <tr>\n",
       "      <th>4</th>\n",
       "      <td>2.0</td>\n",
       "      <td>3.0</td>\n",
       "      <td>1433.0</td>\n",
       "      <td>96424.0</td>\n",
       "      <td>1113198.0</td>\n",
       "      <td>14480.99</td>\n",
       "      <td>261.0</td>\n",
       "      <td>6037.0</td>\n",
       "      <td>34147136.0</td>\n",
       "      <td>-118434414.0</td>\n",
       "    </tr>\n",
       "  </tbody>\n",
       "</table>\n",
       "</div>"
      ],
      "text/plain": [
       "   bathrooms  bedrooms    sqft      zip  home_value     taxes    SFR    fips  \\\n",
       "0        1.0       2.0   777.0  96126.0    558278.0   6643.18  261.0  6037.0   \n",
       "1        2.0       3.0  1742.0  96412.0   1009645.0  12280.32  261.0  6037.0   \n",
       "2        1.0       3.0  1088.0  97324.0     26825.0    404.13  261.0  6037.0   \n",
       "3        3.0       4.0  2163.0  97318.0    188091.0   3123.44  261.0  6037.0   \n",
       "4        2.0       3.0  1433.0  96424.0   1113198.0  14480.99  261.0  6037.0   \n",
       "\n",
       "     latitude    longitude  \n",
       "0  34082673.0 -118602442.0  \n",
       "1  34141567.0 -118458882.0  \n",
       "2  34519623.0 -117666454.0  \n",
       "3  34676639.0 -118102365.0  \n",
       "4  34147136.0 -118434414.0  "
      ]
     },
     "execution_count": 3,
     "metadata": {},
     "output_type": "execute_result"
    }
   ],
   "source": [
    "zillow.head()"
   ]
  },
  {
   "cell_type": "code",
   "execution_count": 4,
   "metadata": {},
   "outputs": [
    {
     "data": {
      "text/html": [
       "<div>\n",
       "<style scoped>\n",
       "    .dataframe tbody tr th:only-of-type {\n",
       "        vertical-align: middle;\n",
       "    }\n",
       "\n",
       "    .dataframe tbody tr th {\n",
       "        vertical-align: top;\n",
       "    }\n",
       "\n",
       "    .dataframe thead th {\n",
       "        text-align: right;\n",
       "    }\n",
       "</style>\n",
       "<table border=\"1\" class=\"dataframe\">\n",
       "  <thead>\n",
       "    <tr style=\"text-align: right;\">\n",
       "      <th></th>\n",
       "      <th>bathrooms</th>\n",
       "      <th>bedrooms</th>\n",
       "      <th>sqft</th>\n",
       "      <th>zip</th>\n",
       "      <th>home_value</th>\n",
       "      <th>taxes</th>\n",
       "      <th>SFR</th>\n",
       "      <th>fips</th>\n",
       "      <th>latitude</th>\n",
       "      <th>longitude</th>\n",
       "    </tr>\n",
       "  </thead>\n",
       "  <tbody>\n",
       "    <tr>\n",
       "      <th>count</th>\n",
       "      <td>14990.000000</td>\n",
       "      <td>14990.000000</td>\n",
       "      <td>14990.000000</td>\n",
       "      <td>14982.000000</td>\n",
       "      <td>1.499000e+04</td>\n",
       "      <td>14989.000000</td>\n",
       "      <td>14990.0</td>\n",
       "      <td>14990.000000</td>\n",
       "      <td>1.499000e+04</td>\n",
       "      <td>1.499000e+04</td>\n",
       "    </tr>\n",
       "    <tr>\n",
       "      <th>mean</th>\n",
       "      <td>2.329153</td>\n",
       "      <td>3.316878</td>\n",
       "      <td>1943.132355</td>\n",
       "      <td>96651.749499</td>\n",
       "      <td>5.416945e+05</td>\n",
       "      <td>6597.894501</td>\n",
       "      <td>261.0</td>\n",
       "      <td>6049.381721</td>\n",
       "      <td>3.402249e+07</td>\n",
       "      <td>-1.181957e+08</td>\n",
       "    </tr>\n",
       "    <tr>\n",
       "      <th>std</th>\n",
       "      <td>1.019375</td>\n",
       "      <td>0.936250</td>\n",
       "      <td>1001.275394</td>\n",
       "      <td>4970.071943</td>\n",
       "      <td>7.309388e+05</td>\n",
       "      <td>8453.776520</td>\n",
       "      <td>0.0</td>\n",
       "      <td>21.225607</td>\n",
       "      <td>2.760549e+05</td>\n",
       "      <td>3.593028e+05</td>\n",
       "    </tr>\n",
       "    <tr>\n",
       "      <th>min</th>\n",
       "      <td>1.000000</td>\n",
       "      <td>1.000000</td>\n",
       "      <td>300.000000</td>\n",
       "      <td>95982.000000</td>\n",
       "      <td>1.050400e+04</td>\n",
       "      <td>51.260000</td>\n",
       "      <td>261.0</td>\n",
       "      <td>6037.000000</td>\n",
       "      <td>3.334085e+07</td>\n",
       "      <td>-1.193883e+08</td>\n",
       "    </tr>\n",
       "    <tr>\n",
       "      <th>25%</th>\n",
       "      <td>2.000000</td>\n",
       "      <td>3.000000</td>\n",
       "      <td>1276.000000</td>\n",
       "      <td>96208.000000</td>\n",
       "      <td>1.990028e+05</td>\n",
       "      <td>2710.810000</td>\n",
       "      <td>261.0</td>\n",
       "      <td>6037.000000</td>\n",
       "      <td>3.382366e+07</td>\n",
       "      <td>-1.184062e+08</td>\n",
       "    </tr>\n",
       "    <tr>\n",
       "      <th>50%</th>\n",
       "      <td>2.000000</td>\n",
       "      <td>3.000000</td>\n",
       "      <td>1680.000000</td>\n",
       "      <td>96414.000000</td>\n",
       "      <td>3.851740e+05</td>\n",
       "      <td>4776.080000</td>\n",
       "      <td>261.0</td>\n",
       "      <td>6037.000000</td>\n",
       "      <td>3.402708e+07</td>\n",
       "      <td>-1.181547e+08</td>\n",
       "    </tr>\n",
       "    <tr>\n",
       "      <th>75%</th>\n",
       "      <td>3.000000</td>\n",
       "      <td>4.000000</td>\n",
       "      <td>2346.000000</td>\n",
       "      <td>96996.000000</td>\n",
       "      <td>6.449650e+05</td>\n",
       "      <td>7678.440000</td>\n",
       "      <td>261.0</td>\n",
       "      <td>6059.000000</td>\n",
       "      <td>3.419064e+07</td>\n",
       "      <td>-1.179260e+08</td>\n",
       "    </tr>\n",
       "    <tr>\n",
       "      <th>max</th>\n",
       "      <td>11.000000</td>\n",
       "      <td>12.000000</td>\n",
       "      <td>15450.000000</td>\n",
       "      <td>399675.000000</td>\n",
       "      <td>2.385837e+07</td>\n",
       "      <td>276797.830000</td>\n",
       "      <td>261.0</td>\n",
       "      <td>6111.000000</td>\n",
       "      <td>3.477966e+07</td>\n",
       "      <td>-1.175554e+08</td>\n",
       "    </tr>\n",
       "  </tbody>\n",
       "</table>\n",
       "</div>"
      ],
      "text/plain": [
       "          bathrooms      bedrooms          sqft            zip    home_value  \\\n",
       "count  14990.000000  14990.000000  14990.000000   14982.000000  1.499000e+04   \n",
       "mean       2.329153      3.316878   1943.132355   96651.749499  5.416945e+05   \n",
       "std        1.019375      0.936250   1001.275394    4970.071943  7.309388e+05   \n",
       "min        1.000000      1.000000    300.000000   95982.000000  1.050400e+04   \n",
       "25%        2.000000      3.000000   1276.000000   96208.000000  1.990028e+05   \n",
       "50%        2.000000      3.000000   1680.000000   96414.000000  3.851740e+05   \n",
       "75%        3.000000      4.000000   2346.000000   96996.000000  6.449650e+05   \n",
       "max       11.000000     12.000000  15450.000000  399675.000000  2.385837e+07   \n",
       "\n",
       "               taxes      SFR          fips      latitude     longitude  \n",
       "count   14989.000000  14990.0  14990.000000  1.499000e+04  1.499000e+04  \n",
       "mean     6597.894501    261.0   6049.381721  3.402249e+07 -1.181957e+08  \n",
       "std      8453.776520      0.0     21.225607  2.760549e+05  3.593028e+05  \n",
       "min        51.260000    261.0   6037.000000  3.334085e+07 -1.193883e+08  \n",
       "25%      2710.810000    261.0   6037.000000  3.382366e+07 -1.184062e+08  \n",
       "50%      4776.080000    261.0   6037.000000  3.402708e+07 -1.181547e+08  \n",
       "75%      7678.440000    261.0   6059.000000  3.419064e+07 -1.179260e+08  \n",
       "max    276797.830000    261.0   6111.000000  3.477966e+07 -1.175554e+08  "
      ]
     },
     "execution_count": 4,
     "metadata": {},
     "output_type": "execute_result"
    }
   ],
   "source": [
    "zillow.describe()"
   ]
  },
  {
   "cell_type": "code",
   "execution_count": 5,
   "metadata": {},
   "outputs": [
    {
     "name": "stdout",
     "output_type": "stream",
     "text": [
      "<class 'pandas.core.frame.DataFrame'>\n",
      "RangeIndex: 14990 entries, 0 to 14989\n",
      "Data columns (total 10 columns):\n",
      " #   Column      Non-Null Count  Dtype  \n",
      "---  ------      --------------  -----  \n",
      " 0   bathrooms   14990 non-null  float64\n",
      " 1   bedrooms    14990 non-null  float64\n",
      " 2   sqft        14990 non-null  float64\n",
      " 3   zip         14982 non-null  float64\n",
      " 4   home_value  14990 non-null  float64\n",
      " 5   taxes       14989 non-null  float64\n",
      " 6   SFR         14990 non-null  float64\n",
      " 7   fips        14990 non-null  float64\n",
      " 8   latitude    14990 non-null  float64\n",
      " 9   longitude   14990 non-null  float64\n",
      "dtypes: float64(10)\n",
      "memory usage: 1.1 MB\n"
     ]
    }
   ],
   "source": [
    "zillow.info()"
   ]
  },
  {
   "cell_type": "code",
   "execution_count": 6,
   "metadata": {},
   "outputs": [
    {
     "data": {
      "text/plain": [
       "bathrooms     0\n",
       "bedrooms      0\n",
       "sqft          0\n",
       "zip           8\n",
       "home_value    0\n",
       "taxes         1\n",
       "SFR           0\n",
       "fips          0\n",
       "latitude      0\n",
       "longitude     0\n",
       "dtype: int64"
      ]
     },
     "execution_count": 6,
     "metadata": {},
     "output_type": "execute_result"
    }
   ],
   "source": [
    "zillow.isna().sum()"
   ]
  },
  {
   "cell_type": "code",
   "execution_count": 7,
   "metadata": {},
   "outputs": [],
   "source": [
    "# clean the data\n",
    "\n",
    "zillow = acquire.clean_zillow_data(zillow)"
   ]
  },
  {
   "cell_type": "code",
   "execution_count": 8,
   "metadata": {},
   "outputs": [
    {
     "data": {
      "text/html": [
       "<div>\n",
       "<style scoped>\n",
       "    .dataframe tbody tr th:only-of-type {\n",
       "        vertical-align: middle;\n",
       "    }\n",
       "\n",
       "    .dataframe tbody tr th {\n",
       "        vertical-align: top;\n",
       "    }\n",
       "\n",
       "    .dataframe thead th {\n",
       "        text-align: right;\n",
       "    }\n",
       "</style>\n",
       "<table border=\"1\" class=\"dataframe\">\n",
       "  <thead>\n",
       "    <tr style=\"text-align: right;\">\n",
       "      <th></th>\n",
       "      <th>bathrooms</th>\n",
       "      <th>bedrooms</th>\n",
       "      <th>sqft</th>\n",
       "      <th>zip</th>\n",
       "      <th>home_value</th>\n",
       "      <th>taxes</th>\n",
       "      <th>SFR</th>\n",
       "      <th>fips</th>\n",
       "      <th>latitude</th>\n",
       "      <th>longitude</th>\n",
       "    </tr>\n",
       "  </thead>\n",
       "  <tbody>\n",
       "    <tr>\n",
       "      <th>0</th>\n",
       "      <td>1</td>\n",
       "      <td>2</td>\n",
       "      <td>777</td>\n",
       "      <td>96126</td>\n",
       "      <td>558278</td>\n",
       "      <td>6643.18</td>\n",
       "      <td>261</td>\n",
       "      <td>6037</td>\n",
       "      <td>34.082673</td>\n",
       "      <td>-118.602442</td>\n",
       "    </tr>\n",
       "    <tr>\n",
       "      <th>1</th>\n",
       "      <td>2</td>\n",
       "      <td>3</td>\n",
       "      <td>1742</td>\n",
       "      <td>96412</td>\n",
       "      <td>1009645</td>\n",
       "      <td>12280.32</td>\n",
       "      <td>261</td>\n",
       "      <td>6037</td>\n",
       "      <td>34.141567</td>\n",
       "      <td>-118.458882</td>\n",
       "    </tr>\n",
       "    <tr>\n",
       "      <th>2</th>\n",
       "      <td>1</td>\n",
       "      <td>3</td>\n",
       "      <td>1088</td>\n",
       "      <td>97324</td>\n",
       "      <td>26825</td>\n",
       "      <td>404.13</td>\n",
       "      <td>261</td>\n",
       "      <td>6037</td>\n",
       "      <td>34.519623</td>\n",
       "      <td>-117.666454</td>\n",
       "    </tr>\n",
       "    <tr>\n",
       "      <th>3</th>\n",
       "      <td>3</td>\n",
       "      <td>4</td>\n",
       "      <td>2163</td>\n",
       "      <td>97318</td>\n",
       "      <td>188091</td>\n",
       "      <td>3123.44</td>\n",
       "      <td>261</td>\n",
       "      <td>6037</td>\n",
       "      <td>34.676639</td>\n",
       "      <td>-118.102365</td>\n",
       "    </tr>\n",
       "    <tr>\n",
       "      <th>4</th>\n",
       "      <td>2</td>\n",
       "      <td>3</td>\n",
       "      <td>1433</td>\n",
       "      <td>96424</td>\n",
       "      <td>1113198</td>\n",
       "      <td>14480.99</td>\n",
       "      <td>261</td>\n",
       "      <td>6037</td>\n",
       "      <td>34.147136</td>\n",
       "      <td>-118.434414</td>\n",
       "    </tr>\n",
       "  </tbody>\n",
       "</table>\n",
       "</div>"
      ],
      "text/plain": [
       "   bathrooms  bedrooms  sqft    zip  home_value     taxes  SFR  fips  \\\n",
       "0          1         2   777  96126      558278   6643.18  261  6037   \n",
       "1          2         3  1742  96412     1009645  12280.32  261  6037   \n",
       "2          1         3  1088  97324       26825    404.13  261  6037   \n",
       "3          3         4  2163  97318      188091   3123.44  261  6037   \n",
       "4          2         3  1433  96424     1113198  14480.99  261  6037   \n",
       "\n",
       "    latitude   longitude  \n",
       "0  34.082673 -118.602442  \n",
       "1  34.141567 -118.458882  \n",
       "2  34.519623 -117.666454  \n",
       "3  34.676639 -118.102365  \n",
       "4  34.147136 -118.434414  "
      ]
     },
     "execution_count": 8,
     "metadata": {},
     "output_type": "execute_result"
    }
   ],
   "source": [
    "zillow.head()"
   ]
  },
  {
   "cell_type": "code",
   "execution_count": 9,
   "metadata": {},
   "outputs": [
    {
     "name": "stdout",
     "output_type": "stream",
     "text": [
      "<class 'pandas.core.frame.DataFrame'>\n",
      "Int64Index: 14981 entries, 0 to 14989\n",
      "Data columns (total 10 columns):\n",
      " #   Column      Non-Null Count  Dtype  \n",
      "---  ------      --------------  -----  \n",
      " 0   bathrooms   14981 non-null  int64  \n",
      " 1   bedrooms    14981 non-null  int64  \n",
      " 2   sqft        14981 non-null  int64  \n",
      " 3   zip         14981 non-null  int64  \n",
      " 4   home_value  14981 non-null  int64  \n",
      " 5   taxes       14981 non-null  float64\n",
      " 6   SFR         14981 non-null  int64  \n",
      " 7   fips        14981 non-null  int64  \n",
      " 8   latitude    14981 non-null  float64\n",
      " 9   longitude   14981 non-null  float64\n",
      "dtypes: float64(3), int64(7)\n",
      "memory usage: 1.3 MB\n"
     ]
    }
   ],
   "source": [
    "zillow.info()"
   ]
  },
  {
   "cell_type": "code",
   "execution_count": null,
   "metadata": {},
   "outputs": [],
   "source": [
    "# run a pandas-profile on the df\n",
    "\n",
    "profile = ProfileReport(zillow, title='Pandas Profiling Report', html={'style':{'full_width':True}})"
   ]
  },
  {
   "cell_type": "code",
   "execution_count": null,
   "metadata": {},
   "outputs": [],
   "source": [
    "profile\n",
    "\n",
    "# getting some interesting findings here. not unexpected but interesting. taxes and home_value are correlated\n",
    "# zip is highly skewed\n",
    "# bedroom and bathroom interaction\n",
    "# etc."
   ]
  },
  {
   "cell_type": "code",
   "execution_count": 10,
   "metadata": {},
   "outputs": [],
   "source": [
    "# now to calculate the tax rate\n",
    "\n",
    "zillow['tax_rate'] = zillow['taxes'] / zillow['home_value']"
   ]
  },
  {
   "cell_type": "code",
   "execution_count": 11,
   "metadata": {},
   "outputs": [
    {
     "data": {
      "text/html": [
       "<div>\n",
       "<style scoped>\n",
       "    .dataframe tbody tr th:only-of-type {\n",
       "        vertical-align: middle;\n",
       "    }\n",
       "\n",
       "    .dataframe tbody tr th {\n",
       "        vertical-align: top;\n",
       "    }\n",
       "\n",
       "    .dataframe thead th {\n",
       "        text-align: right;\n",
       "    }\n",
       "</style>\n",
       "<table border=\"1\" class=\"dataframe\">\n",
       "  <thead>\n",
       "    <tr style=\"text-align: right;\">\n",
       "      <th></th>\n",
       "      <th>bathrooms</th>\n",
       "      <th>bedrooms</th>\n",
       "      <th>sqft</th>\n",
       "      <th>zip</th>\n",
       "      <th>home_value</th>\n",
       "      <th>taxes</th>\n",
       "      <th>SFR</th>\n",
       "      <th>fips</th>\n",
       "      <th>latitude</th>\n",
       "      <th>longitude</th>\n",
       "      <th>tax_rate</th>\n",
       "    </tr>\n",
       "  </thead>\n",
       "  <tbody>\n",
       "    <tr>\n",
       "      <th>0</th>\n",
       "      <td>1</td>\n",
       "      <td>2</td>\n",
       "      <td>777</td>\n",
       "      <td>96126</td>\n",
       "      <td>558278</td>\n",
       "      <td>6643.18</td>\n",
       "      <td>261</td>\n",
       "      <td>6037</td>\n",
       "      <td>34.082673</td>\n",
       "      <td>-118.602442</td>\n",
       "      <td>0.011899</td>\n",
       "    </tr>\n",
       "    <tr>\n",
       "      <th>1</th>\n",
       "      <td>2</td>\n",
       "      <td>3</td>\n",
       "      <td>1742</td>\n",
       "      <td>96412</td>\n",
       "      <td>1009645</td>\n",
       "      <td>12280.32</td>\n",
       "      <td>261</td>\n",
       "      <td>6037</td>\n",
       "      <td>34.141567</td>\n",
       "      <td>-118.458882</td>\n",
       "      <td>0.012163</td>\n",
       "    </tr>\n",
       "    <tr>\n",
       "      <th>2</th>\n",
       "      <td>1</td>\n",
       "      <td>3</td>\n",
       "      <td>1088</td>\n",
       "      <td>97324</td>\n",
       "      <td>26825</td>\n",
       "      <td>404.13</td>\n",
       "      <td>261</td>\n",
       "      <td>6037</td>\n",
       "      <td>34.519623</td>\n",
       "      <td>-117.666454</td>\n",
       "      <td>0.015065</td>\n",
       "    </tr>\n",
       "    <tr>\n",
       "      <th>3</th>\n",
       "      <td>3</td>\n",
       "      <td>4</td>\n",
       "      <td>2163</td>\n",
       "      <td>97318</td>\n",
       "      <td>188091</td>\n",
       "      <td>3123.44</td>\n",
       "      <td>261</td>\n",
       "      <td>6037</td>\n",
       "      <td>34.676639</td>\n",
       "      <td>-118.102365</td>\n",
       "      <td>0.016606</td>\n",
       "    </tr>\n",
       "    <tr>\n",
       "      <th>4</th>\n",
       "      <td>2</td>\n",
       "      <td>3</td>\n",
       "      <td>1433</td>\n",
       "      <td>96424</td>\n",
       "      <td>1113198</td>\n",
       "      <td>14480.99</td>\n",
       "      <td>261</td>\n",
       "      <td>6037</td>\n",
       "      <td>34.147136</td>\n",
       "      <td>-118.434414</td>\n",
       "      <td>0.013008</td>\n",
       "    </tr>\n",
       "  </tbody>\n",
       "</table>\n",
       "</div>"
      ],
      "text/plain": [
       "   bathrooms  bedrooms  sqft    zip  home_value     taxes  SFR  fips  \\\n",
       "0          1         2   777  96126      558278   6643.18  261  6037   \n",
       "1          2         3  1742  96412     1009645  12280.32  261  6037   \n",
       "2          1         3  1088  97324       26825    404.13  261  6037   \n",
       "3          3         4  2163  97318      188091   3123.44  261  6037   \n",
       "4          2         3  1433  96424     1113198  14480.99  261  6037   \n",
       "\n",
       "    latitude   longitude  tax_rate  \n",
       "0  34.082673 -118.602442  0.011899  \n",
       "1  34.141567 -118.458882  0.012163  \n",
       "2  34.519623 -117.666454  0.015065  \n",
       "3  34.676639 -118.102365  0.016606  \n",
       "4  34.147136 -118.434414  0.013008  "
      ]
     },
     "execution_count": 11,
     "metadata": {},
     "output_type": "execute_result"
    }
   ],
   "source": [
    "zillow.head()"
   ]
  },
  {
   "cell_type": "code",
   "execution_count": 12,
   "metadata": {},
   "outputs": [],
   "source": [
    "# now to add the county for the FIPS numbers provided from the db\n",
    "# using this resource here\n",
    "# https://www.google.com/url?sa=t&rct=j&q=&esrc=s&source=web&cd=2&ved=2ahUKEwi27cfmn9noAhVNnKwKHSFhBNgQFjABegQIBRAB&url=https%3A%2F%2Fwww2.census.gov%2Fprograms-surveys%2Fpopest%2Fgeographies%2F2017%2Fall-geocodes-v2017.xlsx&usg=AOvVaw1o_RYNM9evsn9LJdV2iXC1\n",
    "# it will download an excel file of the 2017 fips codes, as they can change annually\n",
    "\n",
    "zillow['county_name'] = zillow['fips'].map({6037: 'Los Angeles', 6059: 'Orange', 6111: 'Ventura'})"
   ]
  },
  {
   "cell_type": "code",
   "execution_count": 13,
   "metadata": {},
   "outputs": [
    {
     "data": {
      "text/html": [
       "<div>\n",
       "<style scoped>\n",
       "    .dataframe tbody tr th:only-of-type {\n",
       "        vertical-align: middle;\n",
       "    }\n",
       "\n",
       "    .dataframe tbody tr th {\n",
       "        vertical-align: top;\n",
       "    }\n",
       "\n",
       "    .dataframe thead th {\n",
       "        text-align: right;\n",
       "    }\n",
       "</style>\n",
       "<table border=\"1\" class=\"dataframe\">\n",
       "  <thead>\n",
       "    <tr style=\"text-align: right;\">\n",
       "      <th></th>\n",
       "      <th>bathrooms</th>\n",
       "      <th>bedrooms</th>\n",
       "      <th>sqft</th>\n",
       "      <th>zip</th>\n",
       "      <th>home_value</th>\n",
       "      <th>taxes</th>\n",
       "      <th>SFR</th>\n",
       "      <th>fips</th>\n",
       "      <th>latitude</th>\n",
       "      <th>longitude</th>\n",
       "      <th>tax_rate</th>\n",
       "      <th>county_name</th>\n",
       "    </tr>\n",
       "  </thead>\n",
       "  <tbody>\n",
       "    <tr>\n",
       "      <th>10073</th>\n",
       "      <td>3</td>\n",
       "      <td>6</td>\n",
       "      <td>2763</td>\n",
       "      <td>96998</td>\n",
       "      <td>920084</td>\n",
       "      <td>13051.90</td>\n",
       "      <td>261</td>\n",
       "      <td>6059</td>\n",
       "      <td>33.558785</td>\n",
       "      <td>-117.631640</td>\n",
       "      <td>0.014186</td>\n",
       "      <td>Orange</td>\n",
       "    </tr>\n",
       "    <tr>\n",
       "      <th>10030</th>\n",
       "      <td>3</td>\n",
       "      <td>4</td>\n",
       "      <td>3257</td>\n",
       "      <td>96978</td>\n",
       "      <td>1432404</td>\n",
       "      <td>15143.22</td>\n",
       "      <td>261</td>\n",
       "      <td>6059</td>\n",
       "      <td>33.657653</td>\n",
       "      <td>-117.884031</td>\n",
       "      <td>0.010572</td>\n",
       "      <td>Orange</td>\n",
       "    </tr>\n",
       "    <tr>\n",
       "      <th>10485</th>\n",
       "      <td>1</td>\n",
       "      <td>2</td>\n",
       "      <td>956</td>\n",
       "      <td>97066</td>\n",
       "      <td>342663</td>\n",
       "      <td>3814.76</td>\n",
       "      <td>261</td>\n",
       "      <td>6059</td>\n",
       "      <td>33.793966</td>\n",
       "      <td>-117.862347</td>\n",
       "      <td>0.011133</td>\n",
       "      <td>Orange</td>\n",
       "    </tr>\n",
       "    <tr>\n",
       "      <th>13986</th>\n",
       "      <td>2</td>\n",
       "      <td>3</td>\n",
       "      <td>1641</td>\n",
       "      <td>96384</td>\n",
       "      <td>275781</td>\n",
       "      <td>3693.40</td>\n",
       "      <td>261</td>\n",
       "      <td>6111</td>\n",
       "      <td>34.142431</td>\n",
       "      <td>-118.830898</td>\n",
       "      <td>0.013393</td>\n",
       "      <td>Ventura</td>\n",
       "    </tr>\n",
       "    <tr>\n",
       "      <th>9507</th>\n",
       "      <td>2</td>\n",
       "      <td>4</td>\n",
       "      <td>1614</td>\n",
       "      <td>96206</td>\n",
       "      <td>334965</td>\n",
       "      <td>3976.15</td>\n",
       "      <td>261</td>\n",
       "      <td>6037</td>\n",
       "      <td>33.868296</td>\n",
       "      <td>-118.044412</td>\n",
       "      <td>0.011870</td>\n",
       "      <td>Los Angeles</td>\n",
       "    </tr>\n",
       "    <tr>\n",
       "      <th>14883</th>\n",
       "      <td>3</td>\n",
       "      <td>5</td>\n",
       "      <td>2781</td>\n",
       "      <td>96385</td>\n",
       "      <td>870746</td>\n",
       "      <td>9339.10</td>\n",
       "      <td>261</td>\n",
       "      <td>6111</td>\n",
       "      <td>34.170141</td>\n",
       "      <td>-118.831220</td>\n",
       "      <td>0.010725</td>\n",
       "      <td>Ventura</td>\n",
       "    </tr>\n",
       "    <tr>\n",
       "      <th>5118</th>\n",
       "      <td>2</td>\n",
       "      <td>4</td>\n",
       "      <td>1750</td>\n",
       "      <td>96229</td>\n",
       "      <td>353535</td>\n",
       "      <td>4852.82</td>\n",
       "      <td>261</td>\n",
       "      <td>6037</td>\n",
       "      <td>33.822198</td>\n",
       "      <td>-118.266020</td>\n",
       "      <td>0.013727</td>\n",
       "      <td>Los Angeles</td>\n",
       "    </tr>\n",
       "    <tr>\n",
       "      <th>14209</th>\n",
       "      <td>2</td>\n",
       "      <td>5</td>\n",
       "      <td>2510</td>\n",
       "      <td>96384</td>\n",
       "      <td>795774</td>\n",
       "      <td>9091.50</td>\n",
       "      <td>261</td>\n",
       "      <td>6111</td>\n",
       "      <td>34.143980</td>\n",
       "      <td>-118.845527</td>\n",
       "      <td>0.011425</td>\n",
       "      <td>Ventura</td>\n",
       "    </tr>\n",
       "    <tr>\n",
       "      <th>2114</th>\n",
       "      <td>1</td>\n",
       "      <td>3</td>\n",
       "      <td>946</td>\n",
       "      <td>96113</td>\n",
       "      <td>161662</td>\n",
       "      <td>2415.71</td>\n",
       "      <td>261</td>\n",
       "      <td>6037</td>\n",
       "      <td>33.911751</td>\n",
       "      <td>-118.187891</td>\n",
       "      <td>0.014943</td>\n",
       "      <td>Los Angeles</td>\n",
       "    </tr>\n",
       "    <tr>\n",
       "      <th>626</th>\n",
       "      <td>3</td>\n",
       "      <td>6</td>\n",
       "      <td>3692</td>\n",
       "      <td>95986</td>\n",
       "      <td>1247333</td>\n",
       "      <td>15162.37</td>\n",
       "      <td>261</td>\n",
       "      <td>6037</td>\n",
       "      <td>34.060489</td>\n",
       "      <td>-118.313809</td>\n",
       "      <td>0.012156</td>\n",
       "      <td>Los Angeles</td>\n",
       "    </tr>\n",
       "    <tr>\n",
       "      <th>189</th>\n",
       "      <td>3</td>\n",
       "      <td>4</td>\n",
       "      <td>1996</td>\n",
       "      <td>96492</td>\n",
       "      <td>328194</td>\n",
       "      <td>4194.72</td>\n",
       "      <td>261</td>\n",
       "      <td>6037</td>\n",
       "      <td>33.989177</td>\n",
       "      <td>-117.887078</td>\n",
       "      <td>0.012781</td>\n",
       "      <td>Los Angeles</td>\n",
       "    </tr>\n",
       "    <tr>\n",
       "      <th>14499</th>\n",
       "      <td>3</td>\n",
       "      <td>3</td>\n",
       "      <td>2097</td>\n",
       "      <td>96385</td>\n",
       "      <td>328111</td>\n",
       "      <td>3776.74</td>\n",
       "      <td>261</td>\n",
       "      <td>6111</td>\n",
       "      <td>34.215979</td>\n",
       "      <td>-118.835619</td>\n",
       "      <td>0.011511</td>\n",
       "      <td>Ventura</td>\n",
       "    </tr>\n",
       "    <tr>\n",
       "      <th>11149</th>\n",
       "      <td>2</td>\n",
       "      <td>4</td>\n",
       "      <td>2020</td>\n",
       "      <td>96990</td>\n",
       "      <td>296740</td>\n",
       "      <td>3761.44</td>\n",
       "      <td>261</td>\n",
       "      <td>6059</td>\n",
       "      <td>33.765338</td>\n",
       "      <td>-118.039070</td>\n",
       "      <td>0.012676</td>\n",
       "      <td>Orange</td>\n",
       "    </tr>\n",
       "    <tr>\n",
       "      <th>3124</th>\n",
       "      <td>2</td>\n",
       "      <td>2</td>\n",
       "      <td>1320</td>\n",
       "      <td>97328</td>\n",
       "      <td>114486</td>\n",
       "      <td>2233.63</td>\n",
       "      <td>261</td>\n",
       "      <td>6037</td>\n",
       "      <td>34.562751</td>\n",
       "      <td>-118.064083</td>\n",
       "      <td>0.019510</td>\n",
       "      <td>Los Angeles</td>\n",
       "    </tr>\n",
       "    <tr>\n",
       "      <th>13163</th>\n",
       "      <td>2</td>\n",
       "      <td>2</td>\n",
       "      <td>1882</td>\n",
       "      <td>96996</td>\n",
       "      <td>341325</td>\n",
       "      <td>3224.70</td>\n",
       "      <td>261</td>\n",
       "      <td>6059</td>\n",
       "      <td>33.653406</td>\n",
       "      <td>-117.627754</td>\n",
       "      <td>0.009448</td>\n",
       "      <td>Orange</td>\n",
       "    </tr>\n",
       "    <tr>\n",
       "      <th>13501</th>\n",
       "      <td>2</td>\n",
       "      <td>4</td>\n",
       "      <td>2289</td>\n",
       "      <td>97026</td>\n",
       "      <td>387569</td>\n",
       "      <td>4277.32</td>\n",
       "      <td>261</td>\n",
       "      <td>6059</td>\n",
       "      <td>33.847309</td>\n",
       "      <td>-117.778975</td>\n",
       "      <td>0.011036</td>\n",
       "      <td>Orange</td>\n",
       "    </tr>\n",
       "    <tr>\n",
       "      <th>7004</th>\n",
       "      <td>3</td>\n",
       "      <td>3</td>\n",
       "      <td>1614</td>\n",
       "      <td>96485</td>\n",
       "      <td>147253</td>\n",
       "      <td>1940.69</td>\n",
       "      <td>261</td>\n",
       "      <td>6037</td>\n",
       "      <td>34.125716</td>\n",
       "      <td>-117.874624</td>\n",
       "      <td>0.013179</td>\n",
       "      <td>Los Angeles</td>\n",
       "    </tr>\n",
       "    <tr>\n",
       "      <th>5664</th>\n",
       "      <td>2</td>\n",
       "      <td>4</td>\n",
       "      <td>1596</td>\n",
       "      <td>96173</td>\n",
       "      <td>455000</td>\n",
       "      <td>5737.32</td>\n",
       "      <td>261</td>\n",
       "      <td>6037</td>\n",
       "      <td>33.941904</td>\n",
       "      <td>-118.039244</td>\n",
       "      <td>0.012609</td>\n",
       "      <td>Los Angeles</td>\n",
       "    </tr>\n",
       "    <tr>\n",
       "      <th>12058</th>\n",
       "      <td>1</td>\n",
       "      <td>2</td>\n",
       "      <td>1216</td>\n",
       "      <td>96986</td>\n",
       "      <td>414213</td>\n",
       "      <td>4299.56</td>\n",
       "      <td>261</td>\n",
       "      <td>6059</td>\n",
       "      <td>33.746012</td>\n",
       "      <td>-117.636749</td>\n",
       "      <td>0.010380</td>\n",
       "      <td>Orange</td>\n",
       "    </tr>\n",
       "    <tr>\n",
       "      <th>2480</th>\n",
       "      <td>2</td>\n",
       "      <td>2</td>\n",
       "      <td>1296</td>\n",
       "      <td>96116</td>\n",
       "      <td>1759614</td>\n",
       "      <td>20710.98</td>\n",
       "      <td>261</td>\n",
       "      <td>6037</td>\n",
       "      <td>34.031448</td>\n",
       "      <td>-118.717878</td>\n",
       "      <td>0.011770</td>\n",
       "      <td>Los Angeles</td>\n",
       "    </tr>\n",
       "  </tbody>\n",
       "</table>\n",
       "</div>"
      ],
      "text/plain": [
       "       bathrooms  bedrooms  sqft    zip  home_value     taxes  SFR  fips  \\\n",
       "10073          3         6  2763  96998      920084  13051.90  261  6059   \n",
       "10030          3         4  3257  96978     1432404  15143.22  261  6059   \n",
       "10485          1         2   956  97066      342663   3814.76  261  6059   \n",
       "13986          2         3  1641  96384      275781   3693.40  261  6111   \n",
       "9507           2         4  1614  96206      334965   3976.15  261  6037   \n",
       "14883          3         5  2781  96385      870746   9339.10  261  6111   \n",
       "5118           2         4  1750  96229      353535   4852.82  261  6037   \n",
       "14209          2         5  2510  96384      795774   9091.50  261  6111   \n",
       "2114           1         3   946  96113      161662   2415.71  261  6037   \n",
       "626            3         6  3692  95986     1247333  15162.37  261  6037   \n",
       "189            3         4  1996  96492      328194   4194.72  261  6037   \n",
       "14499          3         3  2097  96385      328111   3776.74  261  6111   \n",
       "11149          2         4  2020  96990      296740   3761.44  261  6059   \n",
       "3124           2         2  1320  97328      114486   2233.63  261  6037   \n",
       "13163          2         2  1882  96996      341325   3224.70  261  6059   \n",
       "13501          2         4  2289  97026      387569   4277.32  261  6059   \n",
       "7004           3         3  1614  96485      147253   1940.69  261  6037   \n",
       "5664           2         4  1596  96173      455000   5737.32  261  6037   \n",
       "12058          1         2  1216  96986      414213   4299.56  261  6059   \n",
       "2480           2         2  1296  96116     1759614  20710.98  261  6037   \n",
       "\n",
       "        latitude   longitude  tax_rate  county_name  \n",
       "10073  33.558785 -117.631640  0.014186       Orange  \n",
       "10030  33.657653 -117.884031  0.010572       Orange  \n",
       "10485  33.793966 -117.862347  0.011133       Orange  \n",
       "13986  34.142431 -118.830898  0.013393      Ventura  \n",
       "9507   33.868296 -118.044412  0.011870  Los Angeles  \n",
       "14883  34.170141 -118.831220  0.010725      Ventura  \n",
       "5118   33.822198 -118.266020  0.013727  Los Angeles  \n",
       "14209  34.143980 -118.845527  0.011425      Ventura  \n",
       "2114   33.911751 -118.187891  0.014943  Los Angeles  \n",
       "626    34.060489 -118.313809  0.012156  Los Angeles  \n",
       "189    33.989177 -117.887078  0.012781  Los Angeles  \n",
       "14499  34.215979 -118.835619  0.011511      Ventura  \n",
       "11149  33.765338 -118.039070  0.012676       Orange  \n",
       "3124   34.562751 -118.064083  0.019510  Los Angeles  \n",
       "13163  33.653406 -117.627754  0.009448       Orange  \n",
       "13501  33.847309 -117.778975  0.011036       Orange  \n",
       "7004   34.125716 -117.874624  0.013179  Los Angeles  \n",
       "5664   33.941904 -118.039244  0.012609  Los Angeles  \n",
       "12058  33.746012 -117.636749  0.010380       Orange  \n",
       "2480   34.031448 -118.717878  0.011770  Los Angeles  "
      ]
     },
     "execution_count": 13,
     "metadata": {},
     "output_type": "execute_result"
    }
   ],
   "source": [
    "# checking to see a spread across the data for county_name visiiblity\n",
    "zillow.sample(20)"
   ]
  },
  {
   "cell_type": "code",
   "execution_count": 14,
   "metadata": {},
   "outputs": [],
   "source": [
    "# Create Distributions of the Tax Rates by County:\n",
    "\n",
    "# Using the above resource we found a breakdown of fips numbers form 2017\n",
    "# with this information we know all the counties are in California\n",
    "\n",
    "# Below is a breakdown of the county representation in our data, and the corresponding tax rates and distribution.\n",
    "\n",
    "county_distribution = pd.DataFrame(zillow.groupby('county_name').county_name.count())\n",
    "county_distribution.columns = ['count']"
   ]
  },
  {
   "cell_type": "code",
   "execution_count": 15,
   "metadata": {},
   "outputs": [
    {
     "data": {
      "text/html": [
       "<div>\n",
       "<style scoped>\n",
       "    .dataframe tbody tr th:only-of-type {\n",
       "        vertical-align: middle;\n",
       "    }\n",
       "\n",
       "    .dataframe tbody tr th {\n",
       "        vertical-align: top;\n",
       "    }\n",
       "\n",
       "    .dataframe thead th {\n",
       "        text-align: right;\n",
       "    }\n",
       "</style>\n",
       "<table border=\"1\" class=\"dataframe\">\n",
       "  <thead>\n",
       "    <tr style=\"text-align: right;\">\n",
       "      <th></th>\n",
       "      <th>count</th>\n",
       "    </tr>\n",
       "    <tr>\n",
       "      <th>county_name</th>\n",
       "      <th></th>\n",
       "    </tr>\n",
       "  </thead>\n",
       "  <tbody>\n",
       "    <tr>\n",
       "      <th>Los Angeles</th>\n",
       "      <td>9601</td>\n",
       "    </tr>\n",
       "    <tr>\n",
       "      <th>Orange</th>\n",
       "      <td>4093</td>\n",
       "    </tr>\n",
       "    <tr>\n",
       "      <th>Ventura</th>\n",
       "      <td>1287</td>\n",
       "    </tr>\n",
       "  </tbody>\n",
       "</table>\n",
       "</div>"
      ],
      "text/plain": [
       "             count\n",
       "county_name       \n",
       "Los Angeles   9601\n",
       "Orange        4093\n",
       "Ventura       1287"
      ]
     },
     "execution_count": 15,
     "metadata": {},
     "output_type": "execute_result"
    }
   ],
   "source": [
    "county_distribution"
   ]
  },
  {
   "cell_type": "code",
   "execution_count": 16,
   "metadata": {},
   "outputs": [],
   "source": [
    "county_distribution['frequency'] = zillow['county_name'].value_counts(normalize=True)"
   ]
  },
  {
   "cell_type": "code",
   "execution_count": 17,
   "metadata": {},
   "outputs": [
    {
     "data": {
      "text/html": [
       "<div>\n",
       "<style scoped>\n",
       "    .dataframe tbody tr th:only-of-type {\n",
       "        vertical-align: middle;\n",
       "    }\n",
       "\n",
       "    .dataframe tbody tr th {\n",
       "        vertical-align: top;\n",
       "    }\n",
       "\n",
       "    .dataframe thead th {\n",
       "        text-align: right;\n",
       "    }\n",
       "</style>\n",
       "<table border=\"1\" class=\"dataframe\">\n",
       "  <thead>\n",
       "    <tr style=\"text-align: right;\">\n",
       "      <th></th>\n",
       "      <th>count</th>\n",
       "      <th>frequency</th>\n",
       "    </tr>\n",
       "    <tr>\n",
       "      <th>county_name</th>\n",
       "      <th></th>\n",
       "      <th></th>\n",
       "    </tr>\n",
       "  </thead>\n",
       "  <tbody>\n",
       "    <tr>\n",
       "      <th>Los Angeles</th>\n",
       "      <td>9601</td>\n",
       "      <td>0.640878</td>\n",
       "    </tr>\n",
       "    <tr>\n",
       "      <th>Orange</th>\n",
       "      <td>4093</td>\n",
       "      <td>0.273213</td>\n",
       "    </tr>\n",
       "    <tr>\n",
       "      <th>Ventura</th>\n",
       "      <td>1287</td>\n",
       "      <td>0.085909</td>\n",
       "    </tr>\n",
       "  </tbody>\n",
       "</table>\n",
       "</div>"
      ],
      "text/plain": [
       "             count  frequency\n",
       "county_name                  \n",
       "Los Angeles   9601   0.640878\n",
       "Orange        4093   0.273213\n",
       "Ventura       1287   0.085909"
      ]
     },
     "execution_count": 17,
     "metadata": {},
     "output_type": "execute_result"
    }
   ],
   "source": [
    "county_distribution"
   ]
  },
  {
   "cell_type": "code",
   "execution_count": 18,
   "metadata": {},
   "outputs": [],
   "source": [
    "county_distribution['percentage'] = round(county_distribution['frequency'] * 100)"
   ]
  },
  {
   "cell_type": "code",
   "execution_count": 19,
   "metadata": {},
   "outputs": [
    {
     "data": {
      "text/html": [
       "<div>\n",
       "<style scoped>\n",
       "    .dataframe tbody tr th:only-of-type {\n",
       "        vertical-align: middle;\n",
       "    }\n",
       "\n",
       "    .dataframe tbody tr th {\n",
       "        vertical-align: top;\n",
       "    }\n",
       "\n",
       "    .dataframe thead th {\n",
       "        text-align: right;\n",
       "    }\n",
       "</style>\n",
       "<table border=\"1\" class=\"dataframe\">\n",
       "  <thead>\n",
       "    <tr style=\"text-align: right;\">\n",
       "      <th></th>\n",
       "      <th>count</th>\n",
       "      <th>frequency</th>\n",
       "      <th>percentage</th>\n",
       "    </tr>\n",
       "    <tr>\n",
       "      <th>county_name</th>\n",
       "      <th></th>\n",
       "      <th></th>\n",
       "      <th></th>\n",
       "    </tr>\n",
       "  </thead>\n",
       "  <tbody>\n",
       "    <tr>\n",
       "      <th>Los Angeles</th>\n",
       "      <td>9601</td>\n",
       "      <td>0.640878</td>\n",
       "      <td>64.0</td>\n",
       "    </tr>\n",
       "    <tr>\n",
       "      <th>Orange</th>\n",
       "      <td>4093</td>\n",
       "      <td>0.273213</td>\n",
       "      <td>27.0</td>\n",
       "    </tr>\n",
       "    <tr>\n",
       "      <th>Ventura</th>\n",
       "      <td>1287</td>\n",
       "      <td>0.085909</td>\n",
       "      <td>9.0</td>\n",
       "    </tr>\n",
       "  </tbody>\n",
       "</table>\n",
       "</div>"
      ],
      "text/plain": [
       "             count  frequency  percentage\n",
       "county_name                              \n",
       "Los Angeles   9601   0.640878        64.0\n",
       "Orange        4093   0.273213        27.0\n",
       "Ventura       1287   0.085909         9.0"
      ]
     },
     "execution_count": 19,
     "metadata": {},
     "output_type": "execute_result"
    }
   ],
   "source": [
    "county_distribution"
   ]
  },
  {
   "cell_type": "code",
   "execution_count": 20,
   "metadata": {},
   "outputs": [],
   "source": [
    "# looked at the count of properties in each county, and my df is made up of 64% Los Angeles County \n",
    "# properties, 27% Orange County, and 9% Ventura County."
   ]
  },
  {
   "cell_type": "code",
   "execution_count": 21,
   "metadata": {},
   "outputs": [],
   "source": [
    "county_median_tax_rate = pd.DataFrame(round(zillow.groupby('county_name').tax_rate.median(), 3) * 100)\n",
    "county_median_tax_rate.columns = ['tax_rate']"
   ]
  },
  {
   "cell_type": "code",
   "execution_count": 22,
   "metadata": {},
   "outputs": [
    {
     "data": {
      "text/html": [
       "<div>\n",
       "<style scoped>\n",
       "    .dataframe tbody tr th:only-of-type {\n",
       "        vertical-align: middle;\n",
       "    }\n",
       "\n",
       "    .dataframe tbody tr th {\n",
       "        vertical-align: top;\n",
       "    }\n",
       "\n",
       "    .dataframe thead th {\n",
       "        text-align: right;\n",
       "    }\n",
       "</style>\n",
       "<table border=\"1\" class=\"dataframe\">\n",
       "  <thead>\n",
       "    <tr style=\"text-align: right;\">\n",
       "      <th></th>\n",
       "      <th>tax_rate</th>\n",
       "    </tr>\n",
       "    <tr>\n",
       "      <th>county_name</th>\n",
       "      <th></th>\n",
       "    </tr>\n",
       "  </thead>\n",
       "  <tbody>\n",
       "    <tr>\n",
       "      <th>Los Angeles</th>\n",
       "      <td>1.3</td>\n",
       "    </tr>\n",
       "    <tr>\n",
       "      <th>Orange</th>\n",
       "      <td>1.2</td>\n",
       "    </tr>\n",
       "    <tr>\n",
       "      <th>Ventura</th>\n",
       "      <td>1.1</td>\n",
       "    </tr>\n",
       "  </tbody>\n",
       "</table>\n",
       "</div>"
      ],
      "text/plain": [
       "             tax_rate\n",
       "county_name          \n",
       "Los Angeles       1.3\n",
       "Orange            1.2\n",
       "Ventura           1.1"
      ]
     },
     "execution_count": 22,
     "metadata": {},
     "output_type": "execute_result"
    }
   ],
   "source": [
    "county_median_tax_rate"
   ]
  },
  {
   "cell_type": "markdown",
   "metadata": {},
   "source": [
    "### regarding tax rates, it seems that LA county has the high tax rate, but there isn't too much of a difference between the rates"
   ]
  },
  {
   "cell_type": "code",
   "execution_count": 23,
   "metadata": {},
   "outputs": [],
   "source": [
    "# lets visualize this data\n",
    "los_angeles_tax_dist = zillow[zillow.county_name == \"Los Angeles\"].tax_rate\n",
    "orange_tax_dist = zillow[zillow.county_name == \"Orange\"].tax_rate\n",
    "ventura_tax_dist = zillow[zillow.county_name == \"Ventura\"].tax_rate"
   ]
  },
  {
   "cell_type": "code",
   "execution_count": 24,
   "metadata": {},
   "outputs": [
    {
     "data": {
      "text/plain": [
       "Text(0.5, 1.0, '2017 Tax Distribution for Los Angeles County')"
      ]
     },
     "execution_count": 24,
     "metadata": {},
     "output_type": "execute_result"
    },
    {
     "data": {
      "image/png": "[encoded data removed]",
      "text/plain": [
       "<Figure size 432x288 with 1 Axes>"
      ]
     },
     "metadata": {
      "needs_background": "light"
     },
     "output_type": "display_data"
    }
   ],
   "source": [
    "sns.distplot(los_angeles_tax_dist, color = 'Red')\n",
    "plt.xlim(0, 0.04)\n",
    "plt.ylabel('count')\n",
    "plt.title('2017 Tax Distribution for Los Angeles County')"
   ]
  },
  {
   "cell_type": "code",
   "execution_count": 25,
   "metadata": {},
   "outputs": [
    {
     "data": {
      "text/plain": [
       "Text(0.5, 1.0, '2017 Tax Distribution for Orange County')"
      ]
     },
     "execution_count": 25,
     "metadata": {},
     "output_type": "execute_result"
    },
    {
     "data": {
      "image/png": "[encoded data removed]",
      "text/plain": [
       "<Figure size 432x288 with 1 Axes>"
      ]
     },
     "metadata": {
      "needs_background": "light"
     },
     "output_type": "display_data"
    }
   ],
   "source": [
    "sns.distplot(orange_tax_dist, color = 'Orange')\n",
    "plt.xlim(0, 0.04)\n",
    "plt.ylabel('count')\n",
    "plt.title('2017 Tax Distribution for Orange County')"
   ]
  },
  {
   "cell_type": "code",
   "execution_count": 26,
   "metadata": {},
   "outputs": [
    {
     "data": {
      "text/plain": [
       "Text(0.5, 1.0, '2017 Tax Distribution for Orange County')"
      ]
     },
     "execution_count": 26,
     "metadata": {},
     "output_type": "execute_result"
    },
    {
     "data": {
      "image/png": "[encoded data removed]",
      "text/plain": [
       "<Figure size 432x288 with 1 Axes>"
      ]
     },
     "metadata": {
      "needs_background": "light"
     },
     "output_type": "display_data"
    }
   ],
   "source": [
    "sns.distplot(ventura_tax_dist, color = 'Blue')\n",
    "plt.xlim(0, 0.04)\n",
    "plt.ylabel('count')\n",
    "plt.title('2017 Tax Distribution for Orange County')"
   ]
  },
  {
   "cell_type": "code",
   "execution_count": 27,
   "metadata": {},
   "outputs": [],
   "source": [
    "# spliting the data into train, test\n",
    "# 80/20 train to test\n",
    "# setting seed at 19 for reproducibilty\n",
    "\n",
    "train, test = split_scale.split_my_data(zillow, .8, 19)"
   ]
  },
  {
   "cell_type": "code",
   "execution_count": 28,
   "metadata": {},
   "outputs": [
    {
     "data": {
      "text/html": [
       "<div>\n",
       "<style scoped>\n",
       "    .dataframe tbody tr th:only-of-type {\n",
       "        vertical-align: middle;\n",
       "    }\n",
       "\n",
       "    .dataframe tbody tr th {\n",
       "        vertical-align: top;\n",
       "    }\n",
       "\n",
       "    .dataframe thead th {\n",
       "        text-align: right;\n",
       "    }\n",
       "</style>\n",
       "<table border=\"1\" class=\"dataframe\">\n",
       "  <thead>\n",
       "    <tr style=\"text-align: right;\">\n",
       "      <th></th>\n",
       "      <th>bathrooms</th>\n",
       "      <th>bedrooms</th>\n",
       "      <th>sqft</th>\n",
       "      <th>zip</th>\n",
       "      <th>home_value</th>\n",
       "      <th>taxes</th>\n",
       "      <th>SFR</th>\n",
       "      <th>fips</th>\n",
       "      <th>latitude</th>\n",
       "      <th>longitude</th>\n",
       "      <th>tax_rate</th>\n",
       "      <th>county_name</th>\n",
       "    </tr>\n",
       "  </thead>\n",
       "  <tbody>\n",
       "    <tr>\n",
       "      <th>2472</th>\n",
       "      <td>1</td>\n",
       "      <td>2</td>\n",
       "      <td>1534</td>\n",
       "      <td>96025</td>\n",
       "      <td>44060</td>\n",
       "      <td>710.71</td>\n",
       "      <td>261</td>\n",
       "      <td>6037</td>\n",
       "      <td>33.964190</td>\n",
       "      <td>-118.298631</td>\n",
       "      <td>0.016131</td>\n",
       "      <td>Los Angeles</td>\n",
       "    </tr>\n",
       "    <tr>\n",
       "      <th>882</th>\n",
       "      <td>2</td>\n",
       "      <td>3</td>\n",
       "      <td>1284</td>\n",
       "      <td>96524</td>\n",
       "      <td>87477</td>\n",
       "      <td>1308.40</td>\n",
       "      <td>261</td>\n",
       "      <td>6037</td>\n",
       "      <td>34.069180</td>\n",
       "      <td>-117.893127</td>\n",
       "      <td>0.014957</td>\n",
       "      <td>Los Angeles</td>\n",
       "    </tr>\n",
       "    <tr>\n",
       "      <th>9554</th>\n",
       "      <td>1</td>\n",
       "      <td>1</td>\n",
       "      <td>1291</td>\n",
       "      <td>96469</td>\n",
       "      <td>75400</td>\n",
       "      <td>1359.82</td>\n",
       "      <td>261</td>\n",
       "      <td>6037</td>\n",
       "      <td>34.109815</td>\n",
       "      <td>-117.719070</td>\n",
       "      <td>0.018035</td>\n",
       "      <td>Los Angeles</td>\n",
       "    </tr>\n",
       "    <tr>\n",
       "      <th>8611</th>\n",
       "      <td>3</td>\n",
       "      <td>4</td>\n",
       "      <td>3189</td>\n",
       "      <td>96377</td>\n",
       "      <td>767381</td>\n",
       "      <td>14843.51</td>\n",
       "      <td>261</td>\n",
       "      <td>6037</td>\n",
       "      <td>34.463258</td>\n",
       "      <td>-118.565064</td>\n",
       "      <td>0.019343</td>\n",
       "      <td>Los Angeles</td>\n",
       "    </tr>\n",
       "    <tr>\n",
       "      <th>4082</th>\n",
       "      <td>2</td>\n",
       "      <td>2</td>\n",
       "      <td>1608</td>\n",
       "      <td>96446</td>\n",
       "      <td>747702</td>\n",
       "      <td>12202.59</td>\n",
       "      <td>261</td>\n",
       "      <td>6037</td>\n",
       "      <td>34.161519</td>\n",
       "      <td>-118.385615</td>\n",
       "      <td>0.016320</td>\n",
       "      <td>Los Angeles</td>\n",
       "    </tr>\n",
       "  </tbody>\n",
       "</table>\n",
       "</div>"
      ],
      "text/plain": [
       "      bathrooms  bedrooms  sqft    zip  home_value     taxes  SFR  fips  \\\n",
       "2472          1         2  1534  96025       44060    710.71  261  6037   \n",
       "882           2         3  1284  96524       87477   1308.40  261  6037   \n",
       "9554          1         1  1291  96469       75400   1359.82  261  6037   \n",
       "8611          3         4  3189  96377      767381  14843.51  261  6037   \n",
       "4082          2         2  1608  96446      747702  12202.59  261  6037   \n",
       "\n",
       "       latitude   longitude  tax_rate  county_name  \n",
       "2472  33.964190 -118.298631  0.016131  Los Angeles  \n",
       "882   34.069180 -117.893127  0.014957  Los Angeles  \n",
       "9554  34.109815 -117.719070  0.018035  Los Angeles  \n",
       "8611  34.463258 -118.565064  0.019343  Los Angeles  \n",
       "4082  34.161519 -118.385615  0.016320  Los Angeles  "
      ]
     },
     "execution_count": 28,
     "metadata": {},
     "output_type": "execute_result"
    }
   ],
   "source": [
    "train.head()"
   ]
  },
  {
   "cell_type": "code",
   "execution_count": 29,
   "metadata": {
    "scrolled": true
   },
   "outputs": [
    {
     "data": {
      "text/plain": [
       "(11984, 12)"
      ]
     },
     "execution_count": 29,
     "metadata": {},
     "output_type": "execute_result"
    }
   ],
   "source": [
    "train.shape"
   ]
  },
  {
   "cell_type": "code",
   "execution_count": 30,
   "metadata": {},
   "outputs": [
    {
     "name": "stdout",
     "output_type": "stream",
     "text": [
      "<class 'pandas.core.frame.DataFrame'>\n",
      "Int64Index: 11984 entries, 2472 to 13922\n",
      "Data columns (total 12 columns):\n",
      " #   Column       Non-Null Count  Dtype  \n",
      "---  ------       --------------  -----  \n",
      " 0   bathrooms    11984 non-null  int64  \n",
      " 1   bedrooms     11984 non-null  int64  \n",
      " 2   sqft         11984 non-null  int64  \n",
      " 3   zip          11984 non-null  int64  \n",
      " 4   home_value   11984 non-null  int64  \n",
      " 5   taxes        11984 non-null  float64\n",
      " 6   SFR          11984 non-null  int64  \n",
      " 7   fips         11984 non-null  int64  \n",
      " 8   latitude     11984 non-null  float64\n",
      " 9   longitude    11984 non-null  float64\n",
      " 10  tax_rate     11984 non-null  float64\n",
      " 11  county_name  11984 non-null  object \n",
      "dtypes: float64(4), int64(7), object(1)\n",
      "memory usage: 1.2+ MB\n"
     ]
    }
   ],
   "source": [
    "train.info()"
   ]
  },
  {
   "cell_type": "code",
   "execution_count": 31,
   "metadata": {},
   "outputs": [],
   "source": [
    "# split our data into X and y train/test\n",
    "\n",
    "X_train = train[['sqft', 'bedrooms', 'bathrooms']]\n",
    "y_train = train[['home_value']]\n",
    "X_test = test[['sqft', 'bedrooms', 'bathrooms']]\n",
    "y_test = test[['home_value']]"
   ]
  },
  {
   "cell_type": "code",
   "execution_count": 32,
   "metadata": {
    "scrolled": true
   },
   "outputs": [
    {
     "data": {
      "text/html": [
       "<div>\n",
       "<style scoped>\n",
       "    .dataframe tbody tr th:only-of-type {\n",
       "        vertical-align: middle;\n",
       "    }\n",
       "\n",
       "    .dataframe tbody tr th {\n",
       "        vertical-align: top;\n",
       "    }\n",
       "\n",
       "    .dataframe thead th {\n",
       "        text-align: right;\n",
       "    }\n",
       "</style>\n",
       "<table border=\"1\" class=\"dataframe\">\n",
       "  <thead>\n",
       "    <tr style=\"text-align: right;\">\n",
       "      <th></th>\n",
       "      <th>sqft</th>\n",
       "      <th>bedrooms</th>\n",
       "      <th>bathrooms</th>\n",
       "    </tr>\n",
       "  </thead>\n",
       "  <tbody>\n",
       "    <tr>\n",
       "      <th>2472</th>\n",
       "      <td>1534</td>\n",
       "      <td>2</td>\n",
       "      <td>1</td>\n",
       "    </tr>\n",
       "    <tr>\n",
       "      <th>882</th>\n",
       "      <td>1284</td>\n",
       "      <td>3</td>\n",
       "      <td>2</td>\n",
       "    </tr>\n",
       "    <tr>\n",
       "      <th>9554</th>\n",
       "      <td>1291</td>\n",
       "      <td>1</td>\n",
       "      <td>1</td>\n",
       "    </tr>\n",
       "    <tr>\n",
       "      <th>8611</th>\n",
       "      <td>3189</td>\n",
       "      <td>4</td>\n",
       "      <td>3</td>\n",
       "    </tr>\n",
       "    <tr>\n",
       "      <th>4082</th>\n",
       "      <td>1608</td>\n",
       "      <td>2</td>\n",
       "      <td>2</td>\n",
       "    </tr>\n",
       "  </tbody>\n",
       "</table>\n",
       "</div>"
      ],
      "text/plain": [
       "      sqft  bedrooms  bathrooms\n",
       "2472  1534         2          1\n",
       "882   1284         3          2\n",
       "9554  1291         1          1\n",
       "8611  3189         4          3\n",
       "4082  1608         2          2"
      ]
     },
     "execution_count": 32,
     "metadata": {},
     "output_type": "execute_result"
    }
   ],
   "source": [
    "X_train.head()"
   ]
  },
  {
   "cell_type": "code",
   "execution_count": 33,
   "metadata": {},
   "outputs": [
    {
     "data": {
      "text/html": [
       "<div>\n",
       "<style scoped>\n",
       "    .dataframe tbody tr th:only-of-type {\n",
       "        vertical-align: middle;\n",
       "    }\n",
       "\n",
       "    .dataframe tbody tr th {\n",
       "        vertical-align: top;\n",
       "    }\n",
       "\n",
       "    .dataframe thead th {\n",
       "        text-align: right;\n",
       "    }\n",
       "</style>\n",
       "<table border=\"1\" class=\"dataframe\">\n",
       "  <thead>\n",
       "    <tr style=\"text-align: right;\">\n",
       "      <th></th>\n",
       "      <th>home_value</th>\n",
       "    </tr>\n",
       "  </thead>\n",
       "  <tbody>\n",
       "    <tr>\n",
       "      <th>2472</th>\n",
       "      <td>44060</td>\n",
       "    </tr>\n",
       "    <tr>\n",
       "      <th>882</th>\n",
       "      <td>87477</td>\n",
       "    </tr>\n",
       "    <tr>\n",
       "      <th>9554</th>\n",
       "      <td>75400</td>\n",
       "    </tr>\n",
       "    <tr>\n",
       "      <th>8611</th>\n",
       "      <td>767381</td>\n",
       "    </tr>\n",
       "    <tr>\n",
       "      <th>4082</th>\n",
       "      <td>747702</td>\n",
       "    </tr>\n",
       "  </tbody>\n",
       "</table>\n",
       "</div>"
      ],
      "text/plain": [
       "      home_value\n",
       "2472       44060\n",
       "882        87477\n",
       "9554       75400\n",
       "8611      767381\n",
       "4082      747702"
      ]
     },
     "execution_count": 33,
     "metadata": {},
     "output_type": "execute_result"
    }
   ],
   "source": [
    "y_train.head()"
   ]
  },
  {
   "cell_type": "markdown",
   "metadata": {},
   "source": [
    "The deliverables require us to use multiple continuous feautres to predict our target. The continuous features features consist of a different kinds of data - though all numeric - we need to scale our data. We've decided to use a Min/Max Scaler for this."
   ]
  },
  {
   "cell_type": "code",
   "execution_count": 34,
   "metadata": {},
   "outputs": [],
   "source": [
    "scaler, trained_scaled, test_scaled = split_scale.min_max_scaler(X_train, X_test)"
   ]
  },
  {
   "cell_type": "code",
   "execution_count": 35,
   "metadata": {
    "scrolled": true
   },
   "outputs": [
    {
     "data": {
      "text/html": [
       "<div>\n",
       "<style scoped>\n",
       "    .dataframe tbody tr th:only-of-type {\n",
       "        vertical-align: middle;\n",
       "    }\n",
       "\n",
       "    .dataframe tbody tr th {\n",
       "        vertical-align: top;\n",
       "    }\n",
       "\n",
       "    .dataframe thead th {\n",
       "        text-align: right;\n",
       "    }\n",
       "</style>\n",
       "<table border=\"1\" class=\"dataframe\">\n",
       "  <thead>\n",
       "    <tr style=\"text-align: right;\">\n",
       "      <th></th>\n",
       "      <th>sqft</th>\n",
       "      <th>bedrooms</th>\n",
       "      <th>bathrooms</th>\n",
       "    </tr>\n",
       "  </thead>\n",
       "  <tbody>\n",
       "    <tr>\n",
       "      <th>2472</th>\n",
       "      <td>0.081452</td>\n",
       "      <td>0.090909</td>\n",
       "      <td>0.0</td>\n",
       "    </tr>\n",
       "    <tr>\n",
       "      <th>882</th>\n",
       "      <td>0.064950</td>\n",
       "      <td>0.181818</td>\n",
       "      <td>0.1</td>\n",
       "    </tr>\n",
       "    <tr>\n",
       "      <th>9554</th>\n",
       "      <td>0.065413</td>\n",
       "      <td>0.000000</td>\n",
       "      <td>0.0</td>\n",
       "    </tr>\n",
       "    <tr>\n",
       "      <th>8611</th>\n",
       "      <td>0.190693</td>\n",
       "      <td>0.272727</td>\n",
       "      <td>0.2</td>\n",
       "    </tr>\n",
       "    <tr>\n",
       "      <th>4082</th>\n",
       "      <td>0.086337</td>\n",
       "      <td>0.090909</td>\n",
       "      <td>0.1</td>\n",
       "    </tr>\n",
       "  </tbody>\n",
       "</table>\n",
       "</div>"
      ],
      "text/plain": [
       "          sqft  bedrooms  bathrooms\n",
       "2472  0.081452  0.090909        0.0\n",
       "882   0.064950  0.181818        0.1\n",
       "9554  0.065413  0.000000        0.0\n",
       "8611  0.190693  0.272727        0.2\n",
       "4082  0.086337  0.090909        0.1"
      ]
     },
     "execution_count": 35,
     "metadata": {},
     "output_type": "execute_result"
    }
   ],
   "source": [
    "trained_scaled.head()"
   ]
  },
  {
   "cell_type": "code",
   "execution_count": 56,
   "metadata": {},
   "outputs": [
    {
     "data": {
      "text/plain": [
       "(11984, 3)"
      ]
     },
     "execution_count": 56,
     "metadata": {},
     "output_type": "execute_result"
    }
   ],
   "source": [
    "trained_scaled.shape"
   ]
  },
  {
   "cell_type": "code",
   "execution_count": 57,
   "metadata": {},
   "outputs": [
    {
     "data": {
      "text/html": [
       "<div>\n",
       "<style scoped>\n",
       "    .dataframe tbody tr th:only-of-type {\n",
       "        vertical-align: middle;\n",
       "    }\n",
       "\n",
       "    .dataframe tbody tr th {\n",
       "        vertical-align: top;\n",
       "    }\n",
       "\n",
       "    .dataframe thead th {\n",
       "        text-align: right;\n",
       "    }\n",
       "</style>\n",
       "<table border=\"1\" class=\"dataframe\">\n",
       "  <thead>\n",
       "    <tr style=\"text-align: right;\">\n",
       "      <th></th>\n",
       "      <th>sqft</th>\n",
       "      <th>bedrooms</th>\n",
       "      <th>bathrooms</th>\n",
       "    </tr>\n",
       "  </thead>\n",
       "  <tbody>\n",
       "    <tr>\n",
       "      <th>14292</th>\n",
       "      <td>0.087393</td>\n",
       "      <td>0.272727</td>\n",
       "      <td>0.1</td>\n",
       "    </tr>\n",
       "    <tr>\n",
       "      <th>4251</th>\n",
       "      <td>0.118020</td>\n",
       "      <td>0.272727</td>\n",
       "      <td>0.2</td>\n",
       "    </tr>\n",
       "    <tr>\n",
       "      <th>2552</th>\n",
       "      <td>0.154587</td>\n",
       "      <td>0.090909</td>\n",
       "      <td>0.1</td>\n",
       "    </tr>\n",
       "    <tr>\n",
       "      <th>11363</th>\n",
       "      <td>0.094455</td>\n",
       "      <td>0.181818</td>\n",
       "      <td>0.1</td>\n",
       "    </tr>\n",
       "    <tr>\n",
       "      <th>10143</th>\n",
       "      <td>0.058482</td>\n",
       "      <td>0.181818</td>\n",
       "      <td>0.0</td>\n",
       "    </tr>\n",
       "  </tbody>\n",
       "</table>\n",
       "</div>"
      ],
      "text/plain": [
       "           sqft  bedrooms  bathrooms\n",
       "14292  0.087393  0.272727        0.1\n",
       "4251   0.118020  0.272727        0.2\n",
       "2552   0.154587  0.090909        0.1\n",
       "11363  0.094455  0.181818        0.1\n",
       "10143  0.058482  0.181818        0.0"
      ]
     },
     "execution_count": 57,
     "metadata": {},
     "output_type": "execute_result"
    }
   ],
   "source": [
    "test_scaled.head()"
   ]
  },
  {
   "cell_type": "code",
   "execution_count": null,
   "metadata": {},
   "outputs": [],
   "source": []
  },
  {
   "cell_type": "markdown",
   "metadata": {},
   "source": [
    "# Data exploration\n",
    "\n",
    "## Goal: Address each of the questions you posed in your planning and brainstorming and any others you have come up with along the way through visual or statistical analysis.\n",
    "\n",
    "### Which independent variables do you think influence the value of a home?\n",
    "\n",
    "The general hypothesis is that the variables that influence the value of home are square feet, bedrooms, and bathrooms.\n",
    "\n",
    "More square footage, or room count, the higher the potential value.\n",
    "\n",
    "This seems to be a overly simplistic, as home ammenties, location, schools in the area, etc. will have additional influence, and potentially more.\n",
    "\n",
    "However, for the team deliverables we will look at these three variables."
   ]
  },
  {
   "cell_type": "code",
   "execution_count": 36,
   "metadata": {},
   "outputs": [
    {
     "data": {
      "image/png": "[encoded data removed]",
      "text/plain": [
       "<Figure size 720x720 with 2 Axes>"
      ]
     },
     "metadata": {
      "needs_background": "light"
     },
     "output_type": "display_data"
    }
   ],
   "source": [
    "plt.figure(figsize=(10,10))\n",
    "cor = train[['bathrooms','bedrooms','sqft','tax_rate', 'home_value', 'taxes']].corr()\n",
    "sns.heatmap(cor,annot=True,cmap=plt.cm.Blues)\n",
    "plt.show()"
   ]
  },
  {
   "cell_type": "code",
   "execution_count": 37,
   "metadata": {
    "scrolled": false
   },
   "outputs": [
    {
     "data": {
      "text/plain": [
       "<matplotlib.axes._subplots.AxesSubplot at 0x12fbfbdd0>"
      ]
     },
     "execution_count": 37,
     "metadata": {},
     "output_type": "execute_result"
    },
    {
     "data": {
      "image/png": "[encoded data removed]",
      "text/plain": [
       "<Figure size 432x288 with 1 Axes>"
      ]
     },
     "metadata": {
      "needs_background": "light"
     },
     "output_type": "display_data"
    }
   ],
   "source": [
    "sns.distplot(zillow.bedrooms)"
   ]
  },
  {
   "cell_type": "code",
   "execution_count": 38,
   "metadata": {},
   "outputs": [
    {
     "data": {
      "text/plain": [
       "<matplotlib.axes._subplots.AxesSubplot at 0x1300a61d0>"
      ]
     },
     "execution_count": 38,
     "metadata": {},
     "output_type": "execute_result"
    },
    {
     "data": {
      "image/png": "[encoded data removed]",
      "text/plain": [
       "<Figure size 432x288 with 1 Axes>"
      ]
     },
     "metadata": {
      "needs_background": "light"
     },
     "output_type": "display_data"
    }
   ],
   "source": [
    "sns.distplot(zillow.bathrooms)"
   ]
  },
  {
   "cell_type": "code",
   "execution_count": 39,
   "metadata": {},
   "outputs": [
    {
     "data": {
      "text/plain": [
       "<matplotlib.axes._subplots.AxesSubplot at 0x1304b8210>"
      ]
     },
     "execution_count": 39,
     "metadata": {},
     "output_type": "execute_result"
    },
    {
     "data": {
      "image/png": "[encoded data removed]",
      "text/plain": [
       "<Figure size 432x288 with 1 Axes>"
      ]
     },
     "metadata": {
      "needs_background": "light"
     },
     "output_type": "display_data"
    }
   ],
   "source": [
    "sns.distplot(zillow.sqft)"
   ]
  },
  {
   "cell_type": "code",
   "execution_count": 40,
   "metadata": {},
   "outputs": [
    {
     "data": {
      "text/plain": [
       "<matplotlib.axes._subplots.AxesSubplot at 0x12f2fae90>"
      ]
     },
     "execution_count": 40,
     "metadata": {},
     "output_type": "execute_result"
    },
    {
     "data": {
      "image/png": "[encoded data removed]",
      "text/plain": [
       "<Figure size 1152x792 with 2 Axes>"
      ]
     },
     "metadata": {
      "needs_background": "light"
     },
     "output_type": "display_data"
    }
   ],
   "source": [
    "plt.figure(figsize = (16,11))\n",
    "sns.heatmap(train.corr(), cmap = 'Blues', annot = True )"
   ]
  },
  {
   "cell_type": "code",
   "execution_count": 41,
   "metadata": {
    "scrolled": false
   },
   "outputs": [
    {
     "data": {
      "image/png": "[encoded data removed]",
      "text/plain": [
       "<Figure size 540x540 with 12 Axes>"
      ]
     },
     "metadata": {
      "needs_background": "light"
     },
     "output_type": "display_data"
    }
   ],
   "source": [
    "explore.plot_variable_pairs(trained_scaled)"
   ]
  },
  {
   "cell_type": "markdown",
   "metadata": {},
   "source": [
    "Before moving forward, we need to take a look at the above graph. It is clear that all the features the team is asking us to look into are highly correlated. It won't necessarily be the case, but we need to keep this in mind during the modeling phase."
   ]
  },
  {
   "cell_type": "markdown",
   "metadata": {},
   "source": [
    "Run at least 1 t-test and 1 correlation test"
   ]
  },
  {
   "cell_type": "markdown",
   "metadata": {},
   "source": [
    "### Is there a difference in home value between 1 or 3 bedrooms?\n",
    "\n",
    "> $H_0$: There is no difference in home value between having 1 bedroom vs 3 bedrooms\n",
    "\n",
    "> $H_a$: There is a difference in home value between having 1 bedroom vs 3 bedrooms"
   ]
  },
  {
   "cell_type": "code",
   "execution_count": 42,
   "metadata": {},
   "outputs": [
    {
     "data": {
      "text/plain": [
       "(-1.7798802305297217, 0.07515152458241406)"
      ]
     },
     "execution_count": 42,
     "metadata": {},
     "output_type": "execute_result"
    }
   ],
   "source": [
    "alpha = .05\n",
    "\n",
    "x1 = train[train.bedrooms == 1].home_value\n",
    "x2 = train[train.bedrooms == 3].home_value\n",
    "\n",
    "r, p = ttest_ind(x1, x2)\n",
    "r, p"
   ]
  },
  {
   "cell_type": "code",
   "execution_count": 43,
   "metadata": {},
   "outputs": [
    {
     "name": "stdout",
     "output_type": "stream",
     "text": [
      "\n",
      "Because p (0.0752) > alpha (.05), we reject the null hypothesis that \n",
      "there is a difference in home value between having 1 bedroom vs 3 bedrooms.\n",
      "\n"
     ]
    }
   ],
   "source": [
    "print(f'''\n",
    "Because p ({p:.4f}) > alpha (.05), we reject the null hypothesis that \n",
    "there is a difference in home value between having 1 bedroom vs 3 bedrooms.\n",
    "''')"
   ]
  },
  {
   "cell_type": "markdown",
   "metadata": {},
   "source": [
    "### Does sqft correlate with home vale?\n",
    "\n",
    "> $H_0$: There is no linear relationship between sqft and home value\n",
    "\n",
    "> $H_a$: There is a linear relationship between sqft and home value"
   ]
  },
  {
   "cell_type": "code",
   "execution_count": 44,
   "metadata": {},
   "outputs": [
    {
     "name": "stdout",
     "output_type": "stream",
     "text": [
      "r = 0.6181225448649552\n",
      "p = 0.0\n"
     ]
    }
   ],
   "source": [
    "x = train.sqft\n",
    "y = train.home_value\n",
    "\n",
    "r, p = pearsonr(x, y)\n",
    "\n",
    "print('r =', r)\n",
    "print('p =', p)"
   ]
  },
  {
   "cell_type": "code",
   "execution_count": 45,
   "metadata": {},
   "outputs": [
    {
     "name": "stdout",
     "output_type": "stream",
     "text": [
      "\n",
      "Because p (0.0) > alpha (.05), we reject the null hypothesis that there is no linear relationship\n",
      "between sqft and home value.\n",
      "\n"
     ]
    }
   ],
   "source": [
    "print(f'''\n",
    "Because p ({p:.1f}) > alpha (.05), we reject the null hypothesis that there is no linear relationship\n",
    "between sqft and home value.\n",
    "''')"
   ]
  },
  {
   "cell_type": "code",
   "execution_count": 47,
   "metadata": {
    "scrolled": false
   },
   "outputs": [
    {
     "data": {
      "application/vnd.jupyter.widget-view+json": {
       "model_id": "2b6970ac576e41d29ea1bfff747f2cfa",
       "version_major": 2,
       "version_minor": 0
      },
      "text/plain": [
       "Map(configuration={'api_key': None}, data_bounds=[(33.47028635063115, -118.91369264050678), (34.57459745525633…"
      ]
     },
     "metadata": {},
     "output_type": "display_data"
    }
   ],
   "source": [
    "# Fun visual using lat and long\n",
    "\n",
    "fig = gmaps.Map(layout={'width': '1000px', 'height': '400px', 'padding': '10px'})\n",
    "fig.add_layer(gmaps.heatmap_layer(zillow[['latitude', 'longitude']], weights=zillow['home_value']))\n",
    "fig"
   ]
  },
  {
   "cell_type": "markdown",
   "metadata": {},
   "source": [
    "# Modeling\n",
    "\n",
    "## Goal: develop a regression model that performs better than a baseline.\n",
    "\n",
    "Our data has now been wrangled, cleaned, and scaled, so let's create our models. We're going to use a Linear Regression model, this is due to the strong linear correlations previously noted. However, the previously noted issues with highly correlated features will need to be considered throughout.\n",
    "\n",
    "We'll create a new DataFrame called predictions to hold all of our model predictions, our baseline, and the actual value found in the data. It is also what we will use to calculated our mean error metrics."
   ]
  },
  {
   "cell_type": "code",
   "execution_count": 48,
   "metadata": {},
   "outputs": [],
   "source": [
    "# first I want to create dataframe to contain our actual values and model performance\n",
    "\n",
    "prediction_train=pd.DataFrame({'actual':y_train.home_value})"
   ]
  },
  {
   "cell_type": "code",
   "execution_count": 50,
   "metadata": {},
   "outputs": [
    {
     "data": {
      "text/html": [
       "<div>\n",
       "<style scoped>\n",
       "    .dataframe tbody tr th:only-of-type {\n",
       "        vertical-align: middle;\n",
       "    }\n",
       "\n",
       "    .dataframe tbody tr th {\n",
       "        vertical-align: top;\n",
       "    }\n",
       "\n",
       "    .dataframe thead th {\n",
       "        text-align: right;\n",
       "    }\n",
       "</style>\n",
       "<table border=\"1\" class=\"dataframe\">\n",
       "  <thead>\n",
       "    <tr style=\"text-align: right;\">\n",
       "      <th></th>\n",
       "      <th>actual</th>\n",
       "    </tr>\n",
       "  </thead>\n",
       "  <tbody>\n",
       "    <tr>\n",
       "      <th>2472</th>\n",
       "      <td>44060</td>\n",
       "    </tr>\n",
       "    <tr>\n",
       "      <th>882</th>\n",
       "      <td>87477</td>\n",
       "    </tr>\n",
       "    <tr>\n",
       "      <th>9554</th>\n",
       "      <td>75400</td>\n",
       "    </tr>\n",
       "    <tr>\n",
       "      <th>8611</th>\n",
       "      <td>767381</td>\n",
       "    </tr>\n",
       "    <tr>\n",
       "      <th>4082</th>\n",
       "      <td>747702</td>\n",
       "    </tr>\n",
       "  </tbody>\n",
       "</table>\n",
       "</div>"
      ],
      "text/plain": [
       "      actual\n",
       "2472   44060\n",
       "882    87477\n",
       "9554   75400\n",
       "8611  767381\n",
       "4082  747702"
      ]
     },
     "execution_count": 50,
     "metadata": {},
     "output_type": "execute_result"
    }
   ],
   "source": [
    "prediction_train.head()"
   ]
  },
  {
   "cell_type": "code",
   "execution_count": 52,
   "metadata": {},
   "outputs": [],
   "source": [
    "# we will create a baseline, so we have something to measure our models performance against\n",
    "# this will be a mean of the values found in the data\n",
    "\n",
    "baseline_train = np.array([y_train.mean()[0]]*len(y_train))\n",
    "prediction_train['baseline'] = baseline_train"
   ]
  },
  {
   "cell_type": "code",
   "execution_count": 53,
   "metadata": {
    "scrolled": true
   },
   "outputs": [
    {
     "data": {
      "text/html": [
       "<div>\n",
       "<style scoped>\n",
       "    .dataframe tbody tr th:only-of-type {\n",
       "        vertical-align: middle;\n",
       "    }\n",
       "\n",
       "    .dataframe tbody tr th {\n",
       "        vertical-align: top;\n",
       "    }\n",
       "\n",
       "    .dataframe thead th {\n",
       "        text-align: right;\n",
       "    }\n",
       "</style>\n",
       "<table border=\"1\" class=\"dataframe\">\n",
       "  <thead>\n",
       "    <tr style=\"text-align: right;\">\n",
       "      <th></th>\n",
       "      <th>actual</th>\n",
       "      <th>baseline</th>\n",
       "    </tr>\n",
       "  </thead>\n",
       "  <tbody>\n",
       "    <tr>\n",
       "      <th>2472</th>\n",
       "      <td>44060</td>\n",
       "      <td>537604.919726</td>\n",
       "    </tr>\n",
       "    <tr>\n",
       "      <th>882</th>\n",
       "      <td>87477</td>\n",
       "      <td>537604.919726</td>\n",
       "    </tr>\n",
       "    <tr>\n",
       "      <th>9554</th>\n",
       "      <td>75400</td>\n",
       "      <td>537604.919726</td>\n",
       "    </tr>\n",
       "    <tr>\n",
       "      <th>8611</th>\n",
       "      <td>767381</td>\n",
       "      <td>537604.919726</td>\n",
       "    </tr>\n",
       "    <tr>\n",
       "      <th>4082</th>\n",
       "      <td>747702</td>\n",
       "      <td>537604.919726</td>\n",
       "    </tr>\n",
       "  </tbody>\n",
       "</table>\n",
       "</div>"
      ],
      "text/plain": [
       "      actual       baseline\n",
       "2472   44060  537604.919726\n",
       "882    87477  537604.919726\n",
       "9554   75400  537604.919726\n",
       "8611  767381  537604.919726\n",
       "4082  747702  537604.919726"
      ]
     },
     "execution_count": 53,
     "metadata": {},
     "output_type": "execute_result"
    }
   ],
   "source": [
    "prediction_train.head()"
   ]
  },
  {
   "cell_type": "code",
   "execution_count": 55,
   "metadata": {},
   "outputs": [
    {
     "ename": "ValueError",
     "evalue": "Found input variables with inconsistent numbers of samples: [11984, 2997]",
     "output_type": "error",
     "traceback": [
      "\u001b[0;31m---------------------------------------------------------------------------\u001b[0m",
      "\u001b[0;31mValueError\u001b[0m                                Traceback (most recent call last)",
      "\u001b[0;32m<ipython-input-55-bf5ad41acedd>\u001b[0m in \u001b[0;36m<module>\u001b[0;34m\u001b[0m\n\u001b[1;32m      5\u001b[0m \u001b[0;34m\u001b[0m\u001b[0m\n\u001b[1;32m      6\u001b[0m \u001b[0mlm\u001b[0m \u001b[0;34m=\u001b[0m \u001b[0mLinearRegression\u001b[0m\u001b[0;34m(\u001b[0m\u001b[0;34m)\u001b[0m\u001b[0;34m\u001b[0m\u001b[0;34m\u001b[0m\u001b[0m\n\u001b[0;32m----> 7\u001b[0;31m \u001b[0mlm\u001b[0m\u001b[0;34m.\u001b[0m\u001b[0mfit\u001b[0m\u001b[0;34m(\u001b[0m\u001b[0mX_lm1\u001b[0m\u001b[0;34m,\u001b[0m \u001b[0my_lm1\u001b[0m\u001b[0;34m)\u001b[0m\u001b[0;34m\u001b[0m\u001b[0;34m\u001b[0m\u001b[0m\n\u001b[0m\u001b[1;32m      8\u001b[0m \u001b[0mprediction_train\u001b[0m\u001b[0;34m[\u001b[0m\u001b[0;34m'lm_bathrooms'\u001b[0m\u001b[0;34m]\u001b[0m \u001b[0;34m=\u001b[0m \u001b[0mlm\u001b[0m\u001b[0;34m.\u001b[0m\u001b[0mpredict\u001b[0m\u001b[0;34m(\u001b[0m\u001b[0mX_lm1\u001b[0m\u001b[0;34m)\u001b[0m\u001b[0;34m\u001b[0m\u001b[0;34m\u001b[0m\u001b[0m\n",
      "\u001b[0;32m/usr/local/anaconda3/lib/python3.7/site-packages/sklearn/linear_model/base.py\u001b[0m in \u001b[0;36mfit\u001b[0;34m(self, X, y, sample_weight)\u001b[0m\n\u001b[1;32m    461\u001b[0m         \u001b[0mn_jobs_\u001b[0m \u001b[0;34m=\u001b[0m \u001b[0mself\u001b[0m\u001b[0;34m.\u001b[0m\u001b[0mn_jobs\u001b[0m\u001b[0;34m\u001b[0m\u001b[0;34m\u001b[0m\u001b[0m\n\u001b[1;32m    462\u001b[0m         X, y = check_X_y(X, y, accept_sparse=['csr', 'csc', 'coo'],\n\u001b[0;32m--> 463\u001b[0;31m                          y_numeric=True, multi_output=True)\n\u001b[0m\u001b[1;32m    464\u001b[0m \u001b[0;34m\u001b[0m\u001b[0m\n\u001b[1;32m    465\u001b[0m         \u001b[0;32mif\u001b[0m \u001b[0msample_weight\u001b[0m \u001b[0;32mis\u001b[0m \u001b[0;32mnot\u001b[0m \u001b[0;32mNone\u001b[0m \u001b[0;32mand\u001b[0m \u001b[0mnp\u001b[0m\u001b[0;34m.\u001b[0m\u001b[0matleast_1d\u001b[0m\u001b[0;34m(\u001b[0m\u001b[0msample_weight\u001b[0m\u001b[0;34m)\u001b[0m\u001b[0;34m.\u001b[0m\u001b[0mndim\u001b[0m \u001b[0;34m>\u001b[0m \u001b[0;36m1\u001b[0m\u001b[0;34m:\u001b[0m\u001b[0;34m\u001b[0m\u001b[0;34m\u001b[0m\u001b[0m\n",
      "\u001b[0;32m/usr/local/anaconda3/lib/python3.7/site-packages/sklearn/utils/validation.py\u001b[0m in \u001b[0;36mcheck_X_y\u001b[0;34m(X, y, accept_sparse, accept_large_sparse, dtype, order, copy, force_all_finite, ensure_2d, allow_nd, multi_output, ensure_min_samples, ensure_min_features, y_numeric, warn_on_dtype, estimator)\u001b[0m\n\u001b[1;32m    727\u001b[0m         \u001b[0my\u001b[0m \u001b[0;34m=\u001b[0m \u001b[0my\u001b[0m\u001b[0;34m.\u001b[0m\u001b[0mastype\u001b[0m\u001b[0;34m(\u001b[0m\u001b[0mnp\u001b[0m\u001b[0;34m.\u001b[0m\u001b[0mfloat64\u001b[0m\u001b[0;34m)\u001b[0m\u001b[0;34m\u001b[0m\u001b[0;34m\u001b[0m\u001b[0m\n\u001b[1;32m    728\u001b[0m \u001b[0;34m\u001b[0m\u001b[0m\n\u001b[0;32m--> 729\u001b[0;31m     \u001b[0mcheck_consistent_length\u001b[0m\u001b[0;34m(\u001b[0m\u001b[0mX\u001b[0m\u001b[0;34m,\u001b[0m \u001b[0my\u001b[0m\u001b[0;34m)\u001b[0m\u001b[0;34m\u001b[0m\u001b[0;34m\u001b[0m\u001b[0m\n\u001b[0m\u001b[1;32m    730\u001b[0m \u001b[0;34m\u001b[0m\u001b[0m\n\u001b[1;32m    731\u001b[0m     \u001b[0;32mreturn\u001b[0m \u001b[0mX\u001b[0m\u001b[0;34m,\u001b[0m \u001b[0my\u001b[0m\u001b[0;34m\u001b[0m\u001b[0;34m\u001b[0m\u001b[0m\n",
      "\u001b[0;32m/usr/local/anaconda3/lib/python3.7/site-packages/sklearn/utils/validation.py\u001b[0m in \u001b[0;36mcheck_consistent_length\u001b[0;34m(*arrays)\u001b[0m\n\u001b[1;32m    203\u001b[0m     \u001b[0;32mif\u001b[0m \u001b[0mlen\u001b[0m\u001b[0;34m(\u001b[0m\u001b[0muniques\u001b[0m\u001b[0;34m)\u001b[0m \u001b[0;34m>\u001b[0m \u001b[0;36m1\u001b[0m\u001b[0;34m:\u001b[0m\u001b[0;34m\u001b[0m\u001b[0;34m\u001b[0m\u001b[0m\n\u001b[1;32m    204\u001b[0m         raise ValueError(\"Found input variables with inconsistent numbers of\"\n\u001b[0;32m--> 205\u001b[0;31m                          \" samples: %r\" % [int(l) for l in lengths])\n\u001b[0m\u001b[1;32m    206\u001b[0m \u001b[0;34m\u001b[0m\u001b[0m\n\u001b[1;32m    207\u001b[0m \u001b[0;34m\u001b[0m\u001b[0m\n",
      "\u001b[0;31mValueError\u001b[0m: Found input variables with inconsistent numbers of samples: [11984, 2997]"
     ]
    }
   ],
   "source": [
    "# our first model will be bathrooms by themselves\n",
    "\n",
    "X_lm1 = trained_scaled[['bathrooms']]\n",
    "y_lm1 = test_scaled\n",
    "\n",
    "lm = LinearRegression()\n",
    "lm.fit(X_lm1, y_lm1)\n",
    "prediction_train['lm_bathrooms'] = lm.predict(X_lm1)"
   ]
  },
  {
   "cell_type": "code",
   "execution_count": null,
   "metadata": {},
   "outputs": [],
   "source": [
    "lm = LinearRegression()\n",
    "\n",
    "lm.fit(X_train,y_train)\n",
    "\n",
    "lm_predictions=lm.predict(X_train)\n",
    "\n",
    "predictions_train['lm']= lm_predictions"
   ]
  },
  {
   "cell_type": "code",
   "execution_count": null,
   "metadata": {},
   "outputs": [],
   "source": [
    "predictions_train.head()"
   ]
  },
  {
   "cell_type": "code",
   "execution_count": null,
   "metadata": {},
   "outputs": [],
   "source": [
    "predictions_train['residuals'] = predictions_train.lm - predictions_train.actual"
   ]
  },
  {
   "cell_type": "code",
   "execution_count": null,
   "metadata": {},
   "outputs": [],
   "source": [
    "predictions_train.head()"
   ]
  },
  {
   "cell_type": "code",
   "execution_count": null,
   "metadata": {},
   "outputs": [],
   "source": [
    "plt.figure(figsize=(16,9))\n",
    "\n",
    "plt.scatter(x = predictions_train.actual, y = predictions_train.residuals)\n",
    "plt.title('Residual Plot')\n",
    "plt.xlabel('actual (y)')\n",
    "plt.ylabel('Residuals')\n",
    "\n",
    "plt.show"
   ]
  },
  {
   "cell_type": "markdown",
   "metadata": {},
   "source": [
    "### Well, there is definitely something here. Let's some evaluatation to put some numbers to what we're seeing."
   ]
  },
  {
   "cell_type": "markdown",
   "metadata": {},
   "source": [
    "## Evaluate our model to get the RMSE and $R^2$ values"
   ]
  },
  {
   "cell_type": "code",
   "execution_count": null,
   "metadata": {},
   "outputs": [],
   "source": [
    "predictions_train.head()"
   ]
  },
  {
   "cell_type": "code",
   "execution_count": null,
   "metadata": {},
   "outputs": [],
   "source": [
    "def regression_errors(df):\n",
    "    \"\"\"\n",
    "    Return a DataFrame with the SSE, ESS, TSS, MSE, RMSE for the y variable\n",
    "    \n",
    "    \"\"\"\n",
    "    #SSE\n",
    "    SSE = mean_squared_error(df.actual, df.lm) * len(df)\n",
    "    #ESS\n",
    "    ESS = sum((df.lm - df['actual'].mean())**2)\n",
    "    #TSS\n",
    "    TSS = SSE + ESS\n",
    "    #MSE\n",
    "    MSE = mean_squared_error(df.actual, df.lm)\n",
    "    #RMSE\n",
    "    RMSE = sqrt(mean_squared_error(df.actual, df.lm))\n",
    "    \n",
    "    return SSE, ESS, TSS, MSE, RMSE"
   ]
  },
  {
   "cell_type": "code",
   "execution_count": null,
   "metadata": {},
   "outputs": [],
   "source": [
    "SSE, ESS, TSS, MSE, RMSE = regression_errors(predictions_train)"
   ]
  },
  {
   "cell_type": "code",
   "execution_count": null,
   "metadata": {},
   "outputs": [],
   "source": [
    "print(f'SSE: {round(SSE, 3)}')\n",
    "print(f'ESS: {round(ESS, 3)}')\n",
    "print(f'TSS: {round(TSS, 3)}')\n",
    "print(f'MSE: {round(MSE, 3)}')\n",
    "print(f'RMSE: {round(RMSE,3)}')"
   ]
  },
  {
   "cell_type": "code",
   "execution_count": null,
   "metadata": {},
   "outputs": [],
   "source": [
    "r2 = r2_score(predictions_train.actual, predictions_train.lm)"
   ]
  },
  {
   "cell_type": "code",
   "execution_count": null,
   "metadata": {},
   "outputs": [],
   "source": [
    "r2"
   ]
  },
  {
   "cell_type": "code",
   "execution_count": null,
   "metadata": {},
   "outputs": [],
   "source": []
  }
 ],
 "metadata": {
  "kernelspec": {
   "display_name": "Python 3",
   "language": "python",
   "name": "python3"
  },
  "language_info": {
   "codemirror_mode": {
    "name": "ipython",
    "version": 3
   },
   "file_extension": ".py",
   "mimetype": "text/x-python",
   "name": "python",
   "nbconvert_exporter": "python",
   "pygments_lexer": "ipython3",
   "version": "3.7.4"
  }
 },
 "nbformat": 4,
 "nbformat_minor": 2
}
