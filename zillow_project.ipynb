{
 "cells": [
  {
   "cell_type": "code",
   "execution_count": 1,
   "metadata": {},
   "outputs": [],
   "source": [
    "# setup our notebook environment\n",
    "\n",
    "import numpy as np\n",
    "import pandas as pd\n",
    "import seaborn as sns\n",
    "import matplotlib.pyplot as plt\n",
    "%matplotlib inline\n",
    "import gmaps\n",
    "import gmaps.datasets\n",
    "from pandas_profiling import ProfileReport\n",
    "\n",
    "from scipy.stats import norm, ttest_ind, pearsonr\n",
    "from sklearn.model_selection import train_test_split\n",
    "from sklearn.preprocessing import RobustScaler\n",
    "from sklearn.metrics import mean_squared_error, r2_score, explained_variance_score\n",
    "from sklearn.linear_model import LinearRegression\n",
    "from sklearn.feature_selection import RFE\n",
    "from math import sqrt\n",
    "\n",
    "import warnings\n",
    "warnings.filterwarnings(\"ignore\")\n",
    "\n",
    "from env import host, user, password\n",
    "import acquire\n",
    "import split_scale"
   ]
  },
  {
   "cell_type": "markdown",
   "metadata": {},
   "source": [
    "## Deliverables\n",
    "\n",
    "What should the zillow team expect to receive from you? Again, as you were communicating to them, not to your instructors.\n",
    "\n",
    "A report (in the form of a presentation, both verbal and through a slides)\n",
    "\n",
    "1. The report/presentation slides should summarize your findings about the drivers of the single unit property values. This will come from the analysis you do during the exploration phase of the pipeline. In the report, you should have visualizations that support your main points.\n",
    "\n",
    "    The presentation should be no longer than 5 minutes, and consist of 3-5 slides.<br><br>\n",
    "   \n",
    "\n",
    "2. A github repository containing your work.\n",
    "\n",
    "    This repository should consist of at least 1 jupyter notebook that walks through the pipeline, but you may wish to split your work among 2 notebooks, one for exploration, and one for modeling.\n",
    "\n",
    "    Make sure your notebooks answer all the questions posed in the email from the Zillow data science team.\n",
    "\n",
    "    The repository should also contain the .py files necessary to reproduce your work, and your work must be reproducible by someone with their own env.py file.\n",
    "\n",
    "### Other Notes\n",
    "\n",
    "- For the first iteration of your model, use only square feet of the home, number of bedrooms, and number of bathrooms to estimate the properties assessed value, 'taxvaluedollarcnt'. You can expand this to other fields after you have completed an mvp (minimally viable product).\n",
    "- You will want to read and re-read the requirements given by your stakeholders to be sure you are meeting all of their needs and representing it in your data, report and model.\n",
    "- You will want to do some data validation or QA (quality assurance) to be sure the data you gather is what you think it is.\n",
    "- You will want to make sure you are using the best fields to represent square feet of home, number of bedrooms and number of bathrooms. \"Best\" meaning the most accurate and available information. Here you will need to do some data investigation in the database and use your domain expertise to make some judgement calls.\n",
    "\n",
    "***For use throughout:***\n",
    "\n",
    "## Data dictionary\n",
    "\n",
    "*Target Variable:*\n",
    "\n",
    "- **home_value** - formerly taxvaluedollarcnt, this was the data used to predict what someone would possible pay for a property\n",
    "\n",
    "*Independent Variable:*\n",
    "\n",
    "- **bathrooms** - formerly bathroomcnt, this is a count of total number of bathrooms a property has\n",
    "- **bedrooms** - formerly bedroomcnt, this is a count of the total number of bedrooms a property has\n",
    "- **sqft** - formerly calculatedfinishedsquarefeet, this was used in leiu of other squarefeet columns due to the high null count, and lack of clarity for where those calculations were coming from\n",
    "- **zip** - formerly regionidzip, the zip code of the property\n",
    "- **taxes** - formerly taxamount, the annual taxes accessed on the property\n",
    "- **SFR** - formerly propertylandusetypeid, there were numerous property types in the data, commercial, lot, etc. The deliverables to the team were to contain *single unit property values*, so we went with the single family residential type.\n",
    "- **fips** - county assigned fips numbers - 6037: Los Angeles County 6059: Orange County 6111: Venture County\n",
    "- **latitude** - property latitude\n",
    "- **longitude** - property longitude\n",
    "\n",
    "*Data Scaling*\n",
    "\n",
    "- **Robust Scaler** - Due to the nature of the data we went with the IQR Robust scaler. Outliers with the data, the varied use of numbers, as meaurements(sqft), cost(home_value), quantity(beds/baths), made the use of this particular scaler make sense."
   ]
  },
  {
   "cell_type": "code",
   "execution_count": 2,
   "metadata": {},
   "outputs": [],
   "source": [
    "# function to query db and return df\n",
    "\n",
    "zillow = acquire.wrangle_zillow()"
   ]
  },
  {
   "cell_type": "code",
   "execution_count": 3,
   "metadata": {},
   "outputs": [
    {
     "data": {
      "text/html": [
       "<div>\n",
       "<style scoped>\n",
       "    .dataframe tbody tr th:only-of-type {\n",
       "        vertical-align: middle;\n",
       "    }\n",
       "\n",
       "    .dataframe tbody tr th {\n",
       "        vertical-align: top;\n",
       "    }\n",
       "\n",
       "    .dataframe thead th {\n",
       "        text-align: right;\n",
       "    }\n",
       "</style>\n",
       "<table border=\"1\" class=\"dataframe\">\n",
       "  <thead>\n",
       "    <tr style=\"text-align: right;\">\n",
       "      <th></th>\n",
       "      <th>bathrooms</th>\n",
       "      <th>bedrooms</th>\n",
       "      <th>sqft</th>\n",
       "      <th>zip</th>\n",
       "      <th>home_value</th>\n",
       "      <th>taxes</th>\n",
       "      <th>SFR</th>\n",
       "      <th>fips</th>\n",
       "      <th>latitude</th>\n",
       "      <th>longitude</th>\n",
       "    </tr>\n",
       "  </thead>\n",
       "  <tbody>\n",
       "    <tr>\n",
       "      <th>0</th>\n",
       "      <td>2.0</td>\n",
       "      <td>3.0</td>\n",
       "      <td>1900.0</td>\n",
       "      <td>96414.0</td>\n",
       "      <td>102890.0</td>\n",
       "      <td>1366.18</td>\n",
       "      <td>261.0</td>\n",
       "      <td>6037.0</td>\n",
       "      <td>34203666.0</td>\n",
       "      <td>-118454021.0</td>\n",
       "    </tr>\n",
       "    <tr>\n",
       "      <th>1</th>\n",
       "      <td>5.0</td>\n",
       "      <td>4.0</td>\n",
       "      <td>4611.0</td>\n",
       "      <td>96337.0</td>\n",
       "      <td>2589352.0</td>\n",
       "      <td>32250.78</td>\n",
       "      <td>261.0</td>\n",
       "      <td>6037.0</td>\n",
       "      <td>34137969.0</td>\n",
       "      <td>-118678815.0</td>\n",
       "    </tr>\n",
       "    <tr>\n",
       "      <th>2</th>\n",
       "      <td>2.0</td>\n",
       "      <td>4.0</td>\n",
       "      <td>1902.0</td>\n",
       "      <td>96469.0</td>\n",
       "      <td>607000.0</td>\n",
       "      <td>7295.24</td>\n",
       "      <td>261.0</td>\n",
       "      <td>6037.0</td>\n",
       "      <td>34112028.0</td>\n",
       "      <td>-117747321.0</td>\n",
       "    </tr>\n",
       "    <tr>\n",
       "      <th>3</th>\n",
       "      <td>1.0</td>\n",
       "      <td>2.0</td>\n",
       "      <td>764.0</td>\n",
       "      <td>96229.0</td>\n",
       "      <td>38473.0</td>\n",
       "      <td>915.17</td>\n",
       "      <td>261.0</td>\n",
       "      <td>6037.0</td>\n",
       "      <td>33834888.0</td>\n",
       "      <td>-118281058.0</td>\n",
       "    </tr>\n",
       "    <tr>\n",
       "      <th>4</th>\n",
       "      <td>2.0</td>\n",
       "      <td>4.0</td>\n",
       "      <td>2554.0</td>\n",
       "      <td>96339.0</td>\n",
       "      <td>355165.0</td>\n",
       "      <td>4553.51</td>\n",
       "      <td>261.0</td>\n",
       "      <td>6037.0</td>\n",
       "      <td>34210434.0</td>\n",
       "      <td>-118644312.0</td>\n",
       "    </tr>\n",
       "  </tbody>\n",
       "</table>\n",
       "</div>"
      ],
      "text/plain": [
       "   bathrooms  bedrooms    sqft      zip  home_value     taxes    SFR    fips  \\\n",
       "0        2.0       3.0  1900.0  96414.0    102890.0   1366.18  261.0  6037.0   \n",
       "1        5.0       4.0  4611.0  96337.0   2589352.0  32250.78  261.0  6037.0   \n",
       "2        2.0       4.0  1902.0  96469.0    607000.0   7295.24  261.0  6037.0   \n",
       "3        1.0       2.0   764.0  96229.0     38473.0    915.17  261.0  6037.0   \n",
       "4        2.0       4.0  2554.0  96339.0    355165.0   4553.51  261.0  6037.0   \n",
       "\n",
       "     latitude    longitude  \n",
       "0  34203666.0 -118454021.0  \n",
       "1  34137969.0 -118678815.0  \n",
       "2  34112028.0 -117747321.0  \n",
       "3  33834888.0 -118281058.0  \n",
       "4  34210434.0 -118644312.0  "
      ]
     },
     "execution_count": 3,
     "metadata": {},
     "output_type": "execute_result"
    }
   ],
   "source": [
    "zillow.head()"
   ]
  },
  {
   "cell_type": "code",
   "execution_count": 4,
   "metadata": {},
   "outputs": [
    {
     "data": {
      "text/html": [
       "<div>\n",
       "<style scoped>\n",
       "    .dataframe tbody tr th:only-of-type {\n",
       "        vertical-align: middle;\n",
       "    }\n",
       "\n",
       "    .dataframe tbody tr th {\n",
       "        vertical-align: top;\n",
       "    }\n",
       "\n",
       "    .dataframe thead th {\n",
       "        text-align: right;\n",
       "    }\n",
       "</style>\n",
       "<table border=\"1\" class=\"dataframe\">\n",
       "  <thead>\n",
       "    <tr style=\"text-align: right;\">\n",
       "      <th></th>\n",
       "      <th>bathrooms</th>\n",
       "      <th>bedrooms</th>\n",
       "      <th>sqft</th>\n",
       "      <th>zip</th>\n",
       "      <th>home_value</th>\n",
       "      <th>taxes</th>\n",
       "      <th>SFR</th>\n",
       "      <th>fips</th>\n",
       "      <th>latitude</th>\n",
       "      <th>longitude</th>\n",
       "    </tr>\n",
       "  </thead>\n",
       "  <tbody>\n",
       "    <tr>\n",
       "      <th>count</th>\n",
       "      <td>14990.000000</td>\n",
       "      <td>14990.000000</td>\n",
       "      <td>14990.000000</td>\n",
       "      <td>14982.000000</td>\n",
       "      <td>1.499000e+04</td>\n",
       "      <td>14989.000000</td>\n",
       "      <td>14990.0</td>\n",
       "      <td>14990.000000</td>\n",
       "      <td>1.499000e+04</td>\n",
       "      <td>1.499000e+04</td>\n",
       "    </tr>\n",
       "    <tr>\n",
       "      <th>mean</th>\n",
       "      <td>2.329153</td>\n",
       "      <td>3.316878</td>\n",
       "      <td>1943.132355</td>\n",
       "      <td>96651.749499</td>\n",
       "      <td>5.416945e+05</td>\n",
       "      <td>6597.894501</td>\n",
       "      <td>261.0</td>\n",
       "      <td>6049.381721</td>\n",
       "      <td>3.402249e+07</td>\n",
       "      <td>-1.181957e+08</td>\n",
       "    </tr>\n",
       "    <tr>\n",
       "      <th>std</th>\n",
       "      <td>1.019375</td>\n",
       "      <td>0.936250</td>\n",
       "      <td>1001.275394</td>\n",
       "      <td>4970.071943</td>\n",
       "      <td>7.309388e+05</td>\n",
       "      <td>8453.776520</td>\n",
       "      <td>0.0</td>\n",
       "      <td>21.225607</td>\n",
       "      <td>2.760549e+05</td>\n",
       "      <td>3.593028e+05</td>\n",
       "    </tr>\n",
       "    <tr>\n",
       "      <th>min</th>\n",
       "      <td>1.000000</td>\n",
       "      <td>1.000000</td>\n",
       "      <td>300.000000</td>\n",
       "      <td>95982.000000</td>\n",
       "      <td>1.050400e+04</td>\n",
       "      <td>51.260000</td>\n",
       "      <td>261.0</td>\n",
       "      <td>6037.000000</td>\n",
       "      <td>3.334085e+07</td>\n",
       "      <td>-1.193883e+08</td>\n",
       "    </tr>\n",
       "    <tr>\n",
       "      <th>25%</th>\n",
       "      <td>2.000000</td>\n",
       "      <td>3.000000</td>\n",
       "      <td>1276.000000</td>\n",
       "      <td>96208.000000</td>\n",
       "      <td>1.990028e+05</td>\n",
       "      <td>2710.810000</td>\n",
       "      <td>261.0</td>\n",
       "      <td>6037.000000</td>\n",
       "      <td>3.382366e+07</td>\n",
       "      <td>-1.184062e+08</td>\n",
       "    </tr>\n",
       "    <tr>\n",
       "      <th>50%</th>\n",
       "      <td>2.000000</td>\n",
       "      <td>3.000000</td>\n",
       "      <td>1680.000000</td>\n",
       "      <td>96414.000000</td>\n",
       "      <td>3.851740e+05</td>\n",
       "      <td>4776.080000</td>\n",
       "      <td>261.0</td>\n",
       "      <td>6037.000000</td>\n",
       "      <td>3.402708e+07</td>\n",
       "      <td>-1.181547e+08</td>\n",
       "    </tr>\n",
       "    <tr>\n",
       "      <th>75%</th>\n",
       "      <td>3.000000</td>\n",
       "      <td>4.000000</td>\n",
       "      <td>2346.000000</td>\n",
       "      <td>96996.000000</td>\n",
       "      <td>6.449650e+05</td>\n",
       "      <td>7678.440000</td>\n",
       "      <td>261.0</td>\n",
       "      <td>6059.000000</td>\n",
       "      <td>3.419064e+07</td>\n",
       "      <td>-1.179260e+08</td>\n",
       "    </tr>\n",
       "    <tr>\n",
       "      <th>max</th>\n",
       "      <td>11.000000</td>\n",
       "      <td>12.000000</td>\n",
       "      <td>15450.000000</td>\n",
       "      <td>399675.000000</td>\n",
       "      <td>2.385837e+07</td>\n",
       "      <td>276797.830000</td>\n",
       "      <td>261.0</td>\n",
       "      <td>6111.000000</td>\n",
       "      <td>3.477966e+07</td>\n",
       "      <td>-1.175554e+08</td>\n",
       "    </tr>\n",
       "  </tbody>\n",
       "</table>\n",
       "</div>"
      ],
      "text/plain": [
       "          bathrooms      bedrooms          sqft            zip    home_value  \\\n",
       "count  14990.000000  14990.000000  14990.000000   14982.000000  1.499000e+04   \n",
       "mean       2.329153      3.316878   1943.132355   96651.749499  5.416945e+05   \n",
       "std        1.019375      0.936250   1001.275394    4970.071943  7.309388e+05   \n",
       "min        1.000000      1.000000    300.000000   95982.000000  1.050400e+04   \n",
       "25%        2.000000      3.000000   1276.000000   96208.000000  1.990028e+05   \n",
       "50%        2.000000      3.000000   1680.000000   96414.000000  3.851740e+05   \n",
       "75%        3.000000      4.000000   2346.000000   96996.000000  6.449650e+05   \n",
       "max       11.000000     12.000000  15450.000000  399675.000000  2.385837e+07   \n",
       "\n",
       "               taxes      SFR          fips      latitude     longitude  \n",
       "count   14989.000000  14990.0  14990.000000  1.499000e+04  1.499000e+04  \n",
       "mean     6597.894501    261.0   6049.381721  3.402249e+07 -1.181957e+08  \n",
       "std      8453.776520      0.0     21.225607  2.760549e+05  3.593028e+05  \n",
       "min        51.260000    261.0   6037.000000  3.334085e+07 -1.193883e+08  \n",
       "25%      2710.810000    261.0   6037.000000  3.382366e+07 -1.184062e+08  \n",
       "50%      4776.080000    261.0   6037.000000  3.402708e+07 -1.181547e+08  \n",
       "75%      7678.440000    261.0   6059.000000  3.419064e+07 -1.179260e+08  \n",
       "max    276797.830000    261.0   6111.000000  3.477966e+07 -1.175554e+08  "
      ]
     },
     "execution_count": 4,
     "metadata": {},
     "output_type": "execute_result"
    }
   ],
   "source": [
    "zillow.describe()"
   ]
  },
  {
   "cell_type": "code",
   "execution_count": 5,
   "metadata": {},
   "outputs": [
    {
     "name": "stdout",
     "output_type": "stream",
     "text": [
      "<class 'pandas.core.frame.DataFrame'>\n",
      "RangeIndex: 14990 entries, 0 to 14989\n",
      "Data columns (total 10 columns):\n",
      " #   Column      Non-Null Count  Dtype  \n",
      "---  ------      --------------  -----  \n",
      " 0   bathrooms   14990 non-null  float64\n",
      " 1   bedrooms    14990 non-null  float64\n",
      " 2   sqft        14990 non-null  float64\n",
      " 3   zip         14982 non-null  float64\n",
      " 4   home_value  14990 non-null  float64\n",
      " 5   taxes       14989 non-null  float64\n",
      " 6   SFR         14990 non-null  float64\n",
      " 7   fips        14990 non-null  float64\n",
      " 8   latitude    14990 non-null  float64\n",
      " 9   longitude   14990 non-null  float64\n",
      "dtypes: float64(10)\n",
      "memory usage: 1.1 MB\n"
     ]
    }
   ],
   "source": [
    "zillow.info()"
   ]
  },
  {
   "cell_type": "code",
   "execution_count": 6,
   "metadata": {},
   "outputs": [
    {
     "data": {
      "text/plain": [
       "bathrooms     0\n",
       "bedrooms      0\n",
       "sqft          0\n",
       "zip           8\n",
       "home_value    0\n",
       "taxes         1\n",
       "SFR           0\n",
       "fips          0\n",
       "latitude      0\n",
       "longitude     0\n",
       "dtype: int64"
      ]
     },
     "execution_count": 6,
     "metadata": {},
     "output_type": "execute_result"
    }
   ],
   "source": [
    "zillow.isna().sum()"
   ]
  },
  {
   "cell_type": "code",
   "execution_count": 7,
   "metadata": {},
   "outputs": [],
   "source": [
    "# clean the data\n",
    "\n",
    "zillow = acquire.clean_zillow_data(zillow)"
   ]
  },
  {
   "cell_type": "code",
   "execution_count": 8,
   "metadata": {},
   "outputs": [
    {
     "data": {
      "text/html": [
       "<div>\n",
       "<style scoped>\n",
       "    .dataframe tbody tr th:only-of-type {\n",
       "        vertical-align: middle;\n",
       "    }\n",
       "\n",
       "    .dataframe tbody tr th {\n",
       "        vertical-align: top;\n",
       "    }\n",
       "\n",
       "    .dataframe thead th {\n",
       "        text-align: right;\n",
       "    }\n",
       "</style>\n",
       "<table border=\"1\" class=\"dataframe\">\n",
       "  <thead>\n",
       "    <tr style=\"text-align: right;\">\n",
       "      <th></th>\n",
       "      <th>bathrooms</th>\n",
       "      <th>bedrooms</th>\n",
       "      <th>sqft</th>\n",
       "      <th>zip</th>\n",
       "      <th>home_value</th>\n",
       "      <th>taxes</th>\n",
       "      <th>SFR</th>\n",
       "      <th>fips</th>\n",
       "      <th>latitude</th>\n",
       "      <th>longitude</th>\n",
       "    </tr>\n",
       "  </thead>\n",
       "  <tbody>\n",
       "    <tr>\n",
       "      <th>0</th>\n",
       "      <td>2</td>\n",
       "      <td>3</td>\n",
       "      <td>1900</td>\n",
       "      <td>96414</td>\n",
       "      <td>102890</td>\n",
       "      <td>1366.18</td>\n",
       "      <td>261</td>\n",
       "      <td>6037</td>\n",
       "      <td>34.203666</td>\n",
       "      <td>-118.454021</td>\n",
       "    </tr>\n",
       "    <tr>\n",
       "      <th>1</th>\n",
       "      <td>5</td>\n",
       "      <td>4</td>\n",
       "      <td>4611</td>\n",
       "      <td>96337</td>\n",
       "      <td>2589352</td>\n",
       "      <td>32250.78</td>\n",
       "      <td>261</td>\n",
       "      <td>6037</td>\n",
       "      <td>34.137969</td>\n",
       "      <td>-118.678815</td>\n",
       "    </tr>\n",
       "    <tr>\n",
       "      <th>2</th>\n",
       "      <td>2</td>\n",
       "      <td>4</td>\n",
       "      <td>1902</td>\n",
       "      <td>96469</td>\n",
       "      <td>607000</td>\n",
       "      <td>7295.24</td>\n",
       "      <td>261</td>\n",
       "      <td>6037</td>\n",
       "      <td>34.112028</td>\n",
       "      <td>-117.747321</td>\n",
       "    </tr>\n",
       "    <tr>\n",
       "      <th>3</th>\n",
       "      <td>1</td>\n",
       "      <td>2</td>\n",
       "      <td>764</td>\n",
       "      <td>96229</td>\n",
       "      <td>38473</td>\n",
       "      <td>915.17</td>\n",
       "      <td>261</td>\n",
       "      <td>6037</td>\n",
       "      <td>33.834888</td>\n",
       "      <td>-118.281058</td>\n",
       "    </tr>\n",
       "    <tr>\n",
       "      <th>4</th>\n",
       "      <td>2</td>\n",
       "      <td>4</td>\n",
       "      <td>2554</td>\n",
       "      <td>96339</td>\n",
       "      <td>355165</td>\n",
       "      <td>4553.51</td>\n",
       "      <td>261</td>\n",
       "      <td>6037</td>\n",
       "      <td>34.210434</td>\n",
       "      <td>-118.644312</td>\n",
       "    </tr>\n",
       "  </tbody>\n",
       "</table>\n",
       "</div>"
      ],
      "text/plain": [
       "   bathrooms  bedrooms  sqft    zip  home_value     taxes  SFR  fips  \\\n",
       "0          2         3  1900  96414      102890   1366.18  261  6037   \n",
       "1          5         4  4611  96337     2589352  32250.78  261  6037   \n",
       "2          2         4  1902  96469      607000   7295.24  261  6037   \n",
       "3          1         2   764  96229       38473    915.17  261  6037   \n",
       "4          2         4  2554  96339      355165   4553.51  261  6037   \n",
       "\n",
       "    latitude   longitude  \n",
       "0  34.203666 -118.454021  \n",
       "1  34.137969 -118.678815  \n",
       "2  34.112028 -117.747321  \n",
       "3  33.834888 -118.281058  \n",
       "4  34.210434 -118.644312  "
      ]
     },
     "execution_count": 8,
     "metadata": {},
     "output_type": "execute_result"
    }
   ],
   "source": [
    "zillow.head()"
   ]
  },
  {
   "cell_type": "code",
   "execution_count": 9,
   "metadata": {},
   "outputs": [
    {
     "name": "stdout",
     "output_type": "stream",
     "text": [
      "<class 'pandas.core.frame.DataFrame'>\n",
      "Int64Index: 14981 entries, 0 to 14989\n",
      "Data columns (total 10 columns):\n",
      " #   Column      Non-Null Count  Dtype  \n",
      "---  ------      --------------  -----  \n",
      " 0   bathrooms   14981 non-null  int64  \n",
      " 1   bedrooms    14981 non-null  int64  \n",
      " 2   sqft        14981 non-null  int64  \n",
      " 3   zip         14981 non-null  int64  \n",
      " 4   home_value  14981 non-null  int64  \n",
      " 5   taxes       14981 non-null  float64\n",
      " 6   SFR         14981 non-null  int64  \n",
      " 7   fips        14981 non-null  int64  \n",
      " 8   latitude    14981 non-null  float64\n",
      " 9   longitude   14981 non-null  float64\n",
      "dtypes: float64(3), int64(7)\n",
      "memory usage: 1.3 MB\n"
     ]
    }
   ],
   "source": [
    "zillow.info()"
   ]
  },
  {
   "cell_type": "code",
   "execution_count": 10,
   "metadata": {},
   "outputs": [
    {
     "data": {
      "application/vnd.jupyter.widget-view+json": {
       "model_id": "3f8b65fc248f4afa8121e689849a3f01",
       "version_major": 2,
       "version_minor": 0
      },
      "text/plain": [
       "HBox(children=(FloatProgress(value=0.0, description='variables', max=11.0, style=ProgressStyle(description_wid…"
      ]
     },
     "metadata": {},
     "output_type": "display_data"
    },
    {
     "name": "stdout",
     "output_type": "stream",
     "text": [
      "\n"
     ]
    },
    {
     "ename": "KeyboardInterrupt",
     "evalue": "",
     "output_type": "error",
     "traceback": [
      "\u001b[0;31m---------------------------------------------------------------------------\u001b[0m",
      "\u001b[0;31mIndexError\u001b[0m                                Traceback (most recent call last)",
      "\u001b[0;32m/usr/local/anaconda3/lib/python3.7/multiprocessing/pool.py\u001b[0m in \u001b[0;36mnext\u001b[0;34m(self, timeout)\u001b[0m\n\u001b[1;32m    732\u001b[0m             \u001b[0;32mtry\u001b[0m\u001b[0;34m:\u001b[0m\u001b[0;34m\u001b[0m\u001b[0;34m\u001b[0m\u001b[0m\n\u001b[0;32m--> 733\u001b[0;31m                 \u001b[0mitem\u001b[0m \u001b[0;34m=\u001b[0m \u001b[0mself\u001b[0m\u001b[0;34m.\u001b[0m\u001b[0m_items\u001b[0m\u001b[0;34m.\u001b[0m\u001b[0mpopleft\u001b[0m\u001b[0;34m(\u001b[0m\u001b[0;34m)\u001b[0m\u001b[0;34m\u001b[0m\u001b[0;34m\u001b[0m\u001b[0m\n\u001b[0m\u001b[1;32m    734\u001b[0m             \u001b[0;32mexcept\u001b[0m \u001b[0mIndexError\u001b[0m\u001b[0;34m:\u001b[0m\u001b[0;34m\u001b[0m\u001b[0;34m\u001b[0m\u001b[0m\n",
      "\u001b[0;31mIndexError\u001b[0m: pop from an empty deque",
      "\nDuring handling of the above exception, another exception occurred:\n",
      "\u001b[0;31mKeyboardInterrupt\u001b[0m                         Traceback (most recent call last)",
      "\u001b[0;32m<ipython-input-10-ba6b5e849ae5>\u001b[0m in \u001b[0;36m<module>\u001b[0;34m\u001b[0m\n\u001b[1;32m      1\u001b[0m \u001b[0;31m# run a pandas-profile on the df\u001b[0m\u001b[0;34m\u001b[0m\u001b[0;34m\u001b[0m\u001b[0;34m\u001b[0m\u001b[0m\n\u001b[1;32m      2\u001b[0m \u001b[0;34m\u001b[0m\u001b[0m\n\u001b[0;32m----> 3\u001b[0;31m \u001b[0mprofile\u001b[0m \u001b[0;34m=\u001b[0m \u001b[0mProfileReport\u001b[0m\u001b[0;34m(\u001b[0m\u001b[0mzillow\u001b[0m\u001b[0;34m,\u001b[0m \u001b[0mtitle\u001b[0m\u001b[0;34m=\u001b[0m\u001b[0;34m'Pandas Profiling Report'\u001b[0m\u001b[0;34m,\u001b[0m \u001b[0mhtml\u001b[0m\u001b[0;34m=\u001b[0m\u001b[0;34m{\u001b[0m\u001b[0;34m'style'\u001b[0m\u001b[0;34m:\u001b[0m\u001b[0;34m{\u001b[0m\u001b[0;34m'full_width'\u001b[0m\u001b[0;34m:\u001b[0m\u001b[0;32mTrue\u001b[0m\u001b[0;34m}\u001b[0m\u001b[0;34m}\u001b[0m\u001b[0;34m)\u001b[0m\u001b[0;34m\u001b[0m\u001b[0;34m\u001b[0m\u001b[0m\n\u001b[0m",
      "\u001b[0;32m/usr/local/anaconda3/lib/python3.7/site-packages/pandas_profiling/__init__.py\u001b[0m in \u001b[0;36m__init__\u001b[0;34m(self, df, minimal, config_file, **kwargs)\u001b[0m\n\u001b[1;32m     61\u001b[0m \u001b[0;34m\u001b[0m\u001b[0m\n\u001b[1;32m     62\u001b[0m         \u001b[0;31m# Get dataset statistics\u001b[0m\u001b[0;34m\u001b[0m\u001b[0;34m\u001b[0m\u001b[0;34m\u001b[0m\u001b[0m\n\u001b[0;32m---> 63\u001b[0;31m         \u001b[0mdescription_set\u001b[0m \u001b[0;34m=\u001b[0m \u001b[0mdescribe_df\u001b[0m\u001b[0;34m(\u001b[0m\u001b[0mdf\u001b[0m\u001b[0;34m)\u001b[0m\u001b[0;34m\u001b[0m\u001b[0;34m\u001b[0m\u001b[0m\n\u001b[0m\u001b[1;32m     64\u001b[0m \u001b[0;34m\u001b[0m\u001b[0m\n\u001b[1;32m     65\u001b[0m         \u001b[0;31m# Build report structure\u001b[0m\u001b[0;34m\u001b[0m\u001b[0;34m\u001b[0m\u001b[0;34m\u001b[0m\u001b[0m\n",
      "\u001b[0;32m/usr/local/anaconda3/lib/python3.7/site-packages/pandas_profiling/model/describe.py\u001b[0m in \u001b[0;36mdescribe\u001b[0;34m(df)\u001b[0m\n\u001b[1;32m    594\u001b[0m             \u001b[0;32mwith\u001b[0m \u001b[0mmultiprocessing\u001b[0m\u001b[0;34m.\u001b[0m\u001b[0mpool\u001b[0m\u001b[0;34m.\u001b[0m\u001b[0mThreadPool\u001b[0m\u001b[0;34m(\u001b[0m\u001b[0mpool_size\u001b[0m\u001b[0;34m)\u001b[0m \u001b[0;32mas\u001b[0m \u001b[0mexecutor\u001b[0m\u001b[0;34m:\u001b[0m\u001b[0;34m\u001b[0m\u001b[0;34m\u001b[0m\u001b[0m\n\u001b[1;32m    595\u001b[0m                 for i, (column, description) in enumerate(\n\u001b[0;32m--> 596\u001b[0;31m                     \u001b[0mexecutor\u001b[0m\u001b[0;34m.\u001b[0m\u001b[0mimap_unordered\u001b[0m\u001b[0;34m(\u001b[0m\u001b[0mmultiprocess_1d\u001b[0m\u001b[0;34m,\u001b[0m \u001b[0margs\u001b[0m\u001b[0;34m)\u001b[0m\u001b[0;34m\u001b[0m\u001b[0;34m\u001b[0m\u001b[0m\n\u001b[0m\u001b[1;32m    597\u001b[0m                 ):\n\u001b[1;32m    598\u001b[0m                     \u001b[0mseries_description\u001b[0m\u001b[0;34m[\u001b[0m\u001b[0mcolumn\u001b[0m\u001b[0;34m]\u001b[0m \u001b[0;34m=\u001b[0m \u001b[0mdescription\u001b[0m\u001b[0;34m\u001b[0m\u001b[0;34m\u001b[0m\u001b[0m\n",
      "\u001b[0;32m/usr/local/anaconda3/lib/python3.7/multiprocessing/pool.py\u001b[0m in \u001b[0;36mnext\u001b[0;34m(self, timeout)\u001b[0m\n\u001b[1;32m    735\u001b[0m                 \u001b[0;32mif\u001b[0m \u001b[0mself\u001b[0m\u001b[0;34m.\u001b[0m\u001b[0m_index\u001b[0m \u001b[0;34m==\u001b[0m \u001b[0mself\u001b[0m\u001b[0;34m.\u001b[0m\u001b[0m_length\u001b[0m\u001b[0;34m:\u001b[0m\u001b[0;34m\u001b[0m\u001b[0;34m\u001b[0m\u001b[0m\n\u001b[1;32m    736\u001b[0m                     \u001b[0;32mraise\u001b[0m \u001b[0mStopIteration\u001b[0m \u001b[0;32mfrom\u001b[0m \u001b[0;32mNone\u001b[0m\u001b[0;34m\u001b[0m\u001b[0;34m\u001b[0m\u001b[0m\n\u001b[0;32m--> 737\u001b[0;31m                 \u001b[0mself\u001b[0m\u001b[0;34m.\u001b[0m\u001b[0m_cond\u001b[0m\u001b[0;34m.\u001b[0m\u001b[0mwait\u001b[0m\u001b[0;34m(\u001b[0m\u001b[0mtimeout\u001b[0m\u001b[0;34m)\u001b[0m\u001b[0;34m\u001b[0m\u001b[0;34m\u001b[0m\u001b[0m\n\u001b[0m\u001b[1;32m    738\u001b[0m                 \u001b[0;32mtry\u001b[0m\u001b[0;34m:\u001b[0m\u001b[0;34m\u001b[0m\u001b[0;34m\u001b[0m\u001b[0m\n\u001b[1;32m    739\u001b[0m                     \u001b[0mitem\u001b[0m \u001b[0;34m=\u001b[0m \u001b[0mself\u001b[0m\u001b[0;34m.\u001b[0m\u001b[0m_items\u001b[0m\u001b[0;34m.\u001b[0m\u001b[0mpopleft\u001b[0m\u001b[0;34m(\u001b[0m\u001b[0;34m)\u001b[0m\u001b[0;34m\u001b[0m\u001b[0;34m\u001b[0m\u001b[0m\n",
      "\u001b[0;32m/usr/local/anaconda3/lib/python3.7/threading.py\u001b[0m in \u001b[0;36mwait\u001b[0;34m(self, timeout)\u001b[0m\n\u001b[1;32m    294\u001b[0m         \u001b[0;32mtry\u001b[0m\u001b[0;34m:\u001b[0m    \u001b[0;31m# restore state no matter what (e.g., KeyboardInterrupt)\u001b[0m\u001b[0;34m\u001b[0m\u001b[0;34m\u001b[0m\u001b[0m\n\u001b[1;32m    295\u001b[0m             \u001b[0;32mif\u001b[0m \u001b[0mtimeout\u001b[0m \u001b[0;32mis\u001b[0m \u001b[0;32mNone\u001b[0m\u001b[0;34m:\u001b[0m\u001b[0;34m\u001b[0m\u001b[0;34m\u001b[0m\u001b[0m\n\u001b[0;32m--> 296\u001b[0;31m                 \u001b[0mwaiter\u001b[0m\u001b[0;34m.\u001b[0m\u001b[0macquire\u001b[0m\u001b[0;34m(\u001b[0m\u001b[0;34m)\u001b[0m\u001b[0;34m\u001b[0m\u001b[0;34m\u001b[0m\u001b[0m\n\u001b[0m\u001b[1;32m    297\u001b[0m                 \u001b[0mgotit\u001b[0m \u001b[0;34m=\u001b[0m \u001b[0;32mTrue\u001b[0m\u001b[0;34m\u001b[0m\u001b[0;34m\u001b[0m\u001b[0m\n\u001b[1;32m    298\u001b[0m             \u001b[0;32melse\u001b[0m\u001b[0;34m:\u001b[0m\u001b[0;34m\u001b[0m\u001b[0;34m\u001b[0m\u001b[0m\n",
      "\u001b[0;31mKeyboardInterrupt\u001b[0m: "
     ]
    }
   ],
   "source": [
    "# run a pandas-profile on the df\n",
    "\n",
    "profile = ProfileReport(zillow, title='Pandas Profiling Report', html={'style':{'full_width':True}})"
   ]
  },
  {
   "cell_type": "code",
   "execution_count": null,
   "metadata": {},
   "outputs": [],
   "source": [
    "profile\n",
    "\n",
    "# getting some interesting findings here. not unexpected but interesting. taxes and home_value are correlated\n",
    "# zip is highly skewed\n",
    "# bedroom and bathroom interaction\n",
    "# etc."
   ]
  },
  {
   "cell_type": "code",
   "execution_count": 11,
   "metadata": {},
   "outputs": [],
   "source": [
    "# now to calculate the tax rate\n",
    "\n",
    "zillow['tax_rate'] = zillow['taxes'] / zillow['home_value']"
   ]
  },
  {
   "cell_type": "code",
   "execution_count": 12,
   "metadata": {},
   "outputs": [
    {
     "data": {
      "text/html": [
       "<div>\n",
       "<style scoped>\n",
       "    .dataframe tbody tr th:only-of-type {\n",
       "        vertical-align: middle;\n",
       "    }\n",
       "\n",
       "    .dataframe tbody tr th {\n",
       "        vertical-align: top;\n",
       "    }\n",
       "\n",
       "    .dataframe thead th {\n",
       "        text-align: right;\n",
       "    }\n",
       "</style>\n",
       "<table border=\"1\" class=\"dataframe\">\n",
       "  <thead>\n",
       "    <tr style=\"text-align: right;\">\n",
       "      <th></th>\n",
       "      <th>bathrooms</th>\n",
       "      <th>bedrooms</th>\n",
       "      <th>sqft</th>\n",
       "      <th>zip</th>\n",
       "      <th>home_value</th>\n",
       "      <th>taxes</th>\n",
       "      <th>SFR</th>\n",
       "      <th>fips</th>\n",
       "      <th>latitude</th>\n",
       "      <th>longitude</th>\n",
       "      <th>tax_rate</th>\n",
       "    </tr>\n",
       "  </thead>\n",
       "  <tbody>\n",
       "    <tr>\n",
       "      <th>0</th>\n",
       "      <td>2</td>\n",
       "      <td>3</td>\n",
       "      <td>1900</td>\n",
       "      <td>96414</td>\n",
       "      <td>102890</td>\n",
       "      <td>1366.18</td>\n",
       "      <td>261</td>\n",
       "      <td>6037</td>\n",
       "      <td>34.203666</td>\n",
       "      <td>-118.454021</td>\n",
       "      <td>0.013278</td>\n",
       "    </tr>\n",
       "    <tr>\n",
       "      <th>1</th>\n",
       "      <td>5</td>\n",
       "      <td>4</td>\n",
       "      <td>4611</td>\n",
       "      <td>96337</td>\n",
       "      <td>2589352</td>\n",
       "      <td>32250.78</td>\n",
       "      <td>261</td>\n",
       "      <td>6037</td>\n",
       "      <td>34.137969</td>\n",
       "      <td>-118.678815</td>\n",
       "      <td>0.012455</td>\n",
       "    </tr>\n",
       "    <tr>\n",
       "      <th>2</th>\n",
       "      <td>2</td>\n",
       "      <td>4</td>\n",
       "      <td>1902</td>\n",
       "      <td>96469</td>\n",
       "      <td>607000</td>\n",
       "      <td>7295.24</td>\n",
       "      <td>261</td>\n",
       "      <td>6037</td>\n",
       "      <td>34.112028</td>\n",
       "      <td>-117.747321</td>\n",
       "      <td>0.012019</td>\n",
       "    </tr>\n",
       "    <tr>\n",
       "      <th>3</th>\n",
       "      <td>1</td>\n",
       "      <td>2</td>\n",
       "      <td>764</td>\n",
       "      <td>96229</td>\n",
       "      <td>38473</td>\n",
       "      <td>915.17</td>\n",
       "      <td>261</td>\n",
       "      <td>6037</td>\n",
       "      <td>33.834888</td>\n",
       "      <td>-118.281058</td>\n",
       "      <td>0.023787</td>\n",
       "    </tr>\n",
       "    <tr>\n",
       "      <th>4</th>\n",
       "      <td>2</td>\n",
       "      <td>4</td>\n",
       "      <td>2554</td>\n",
       "      <td>96339</td>\n",
       "      <td>355165</td>\n",
       "      <td>4553.51</td>\n",
       "      <td>261</td>\n",
       "      <td>6037</td>\n",
       "      <td>34.210434</td>\n",
       "      <td>-118.644312</td>\n",
       "      <td>0.012821</td>\n",
       "    </tr>\n",
       "  </tbody>\n",
       "</table>\n",
       "</div>"
      ],
      "text/plain": [
       "   bathrooms  bedrooms  sqft    zip  home_value     taxes  SFR  fips  \\\n",
       "0          2         3  1900  96414      102890   1366.18  261  6037   \n",
       "1          5         4  4611  96337     2589352  32250.78  261  6037   \n",
       "2          2         4  1902  96469      607000   7295.24  261  6037   \n",
       "3          1         2   764  96229       38473    915.17  261  6037   \n",
       "4          2         4  2554  96339      355165   4553.51  261  6037   \n",
       "\n",
       "    latitude   longitude  tax_rate  \n",
       "0  34.203666 -118.454021  0.013278  \n",
       "1  34.137969 -118.678815  0.012455  \n",
       "2  34.112028 -117.747321  0.012019  \n",
       "3  33.834888 -118.281058  0.023787  \n",
       "4  34.210434 -118.644312  0.012821  "
      ]
     },
     "execution_count": 12,
     "metadata": {},
     "output_type": "execute_result"
    }
   ],
   "source": [
    "zillow.head()"
   ]
  },
  {
   "cell_type": "code",
   "execution_count": 13,
   "metadata": {},
   "outputs": [],
   "source": [
    "# now to add the county for the FIPS numbers provided from the db\n",
    "# using this resource here\n",
    "# https://www.google.com/url?sa=t&rct=j&q=&esrc=s&source=web&cd=2&ved=2ahUKEwi27cfmn9noAhVNnKwKHSFhBNgQFjABegQIBRAB&url=https%3A%2F%2Fwww2.census.gov%2Fprograms-surveys%2Fpopest%2Fgeographies%2F2017%2Fall-geocodes-v2017.xlsx&usg=AOvVaw1o_RYNM9evsn9LJdV2iXC1\n",
    "# it will download an excel file of the 2017 fips codes, as they can change annually\n",
    "\n",
    "zillow['county_name'] = zillow['fips'].map({6037: 'Los Angeles', 6059: 'Orange', 6111: 'Ventura'})"
   ]
  },
  {
   "cell_type": "code",
   "execution_count": 14,
   "metadata": {},
   "outputs": [
    {
     "data": {
      "text/html": [
       "<div>\n",
       "<style scoped>\n",
       "    .dataframe tbody tr th:only-of-type {\n",
       "        vertical-align: middle;\n",
       "    }\n",
       "\n",
       "    .dataframe tbody tr th {\n",
       "        vertical-align: top;\n",
       "    }\n",
       "\n",
       "    .dataframe thead th {\n",
       "        text-align: right;\n",
       "    }\n",
       "</style>\n",
       "<table border=\"1\" class=\"dataframe\">\n",
       "  <thead>\n",
       "    <tr style=\"text-align: right;\">\n",
       "      <th></th>\n",
       "      <th>bathrooms</th>\n",
       "      <th>bedrooms</th>\n",
       "      <th>sqft</th>\n",
       "      <th>zip</th>\n",
       "      <th>home_value</th>\n",
       "      <th>taxes</th>\n",
       "      <th>SFR</th>\n",
       "      <th>fips</th>\n",
       "      <th>latitude</th>\n",
       "      <th>longitude</th>\n",
       "      <th>tax_rate</th>\n",
       "      <th>county_name</th>\n",
       "    </tr>\n",
       "  </thead>\n",
       "  <tbody>\n",
       "    <tr>\n",
       "      <th>3082</th>\n",
       "      <td>2</td>\n",
       "      <td>4</td>\n",
       "      <td>1553</td>\n",
       "      <td>97318</td>\n",
       "      <td>165683</td>\n",
       "      <td>2932.33</td>\n",
       "      <td>261</td>\n",
       "      <td>6037</td>\n",
       "      <td>34.668709</td>\n",
       "      <td>-118.074101</td>\n",
       "      <td>0.017698</td>\n",
       "      <td>Los Angeles</td>\n",
       "    </tr>\n",
       "    <tr>\n",
       "      <th>3194</th>\n",
       "      <td>4</td>\n",
       "      <td>5</td>\n",
       "      <td>2968</td>\n",
       "      <td>96395</td>\n",
       "      <td>783227</td>\n",
       "      <td>11738.03</td>\n",
       "      <td>261</td>\n",
       "      <td>6037</td>\n",
       "      <td>34.390870</td>\n",
       "      <td>-118.598421</td>\n",
       "      <td>0.014987</td>\n",
       "      <td>Los Angeles</td>\n",
       "    </tr>\n",
       "    <tr>\n",
       "      <th>1504</th>\n",
       "      <td>2</td>\n",
       "      <td>3</td>\n",
       "      <td>1374</td>\n",
       "      <td>96494</td>\n",
       "      <td>93771</td>\n",
       "      <td>1298.31</td>\n",
       "      <td>261</td>\n",
       "      <td>6037</td>\n",
       "      <td>34.114339</td>\n",
       "      <td>-117.773887</td>\n",
       "      <td>0.013846</td>\n",
       "      <td>Los Angeles</td>\n",
       "    </tr>\n",
       "    <tr>\n",
       "      <th>1373</th>\n",
       "      <td>2</td>\n",
       "      <td>3</td>\n",
       "      <td>1102</td>\n",
       "      <td>96474</td>\n",
       "      <td>432541</td>\n",
       "      <td>5305.95</td>\n",
       "      <td>261</td>\n",
       "      <td>6037</td>\n",
       "      <td>34.094840</td>\n",
       "      <td>-117.888606</td>\n",
       "      <td>0.012267</td>\n",
       "      <td>Los Angeles</td>\n",
       "    </tr>\n",
       "    <tr>\n",
       "      <th>12784</th>\n",
       "      <td>2</td>\n",
       "      <td>3</td>\n",
       "      <td>1929</td>\n",
       "      <td>96987</td>\n",
       "      <td>662742</td>\n",
       "      <td>6654.36</td>\n",
       "      <td>261</td>\n",
       "      <td>6059</td>\n",
       "      <td>33.552169</td>\n",
       "      <td>-117.703928</td>\n",
       "      <td>0.010041</td>\n",
       "      <td>Orange</td>\n",
       "    </tr>\n",
       "    <tr>\n",
       "      <th>12043</th>\n",
       "      <td>2</td>\n",
       "      <td>3</td>\n",
       "      <td>1557</td>\n",
       "      <td>96987</td>\n",
       "      <td>83003</td>\n",
       "      <td>787.80</td>\n",
       "      <td>261</td>\n",
       "      <td>6059</td>\n",
       "      <td>33.533620</td>\n",
       "      <td>-117.698593</td>\n",
       "      <td>0.009491</td>\n",
       "      <td>Orange</td>\n",
       "    </tr>\n",
       "    <tr>\n",
       "      <th>13589</th>\n",
       "      <td>1</td>\n",
       "      <td>1</td>\n",
       "      <td>623</td>\n",
       "      <td>97048</td>\n",
       "      <td>116672</td>\n",
       "      <td>1860.14</td>\n",
       "      <td>261</td>\n",
       "      <td>6059</td>\n",
       "      <td>33.776034</td>\n",
       "      <td>-117.973533</td>\n",
       "      <td>0.015943</td>\n",
       "      <td>Orange</td>\n",
       "    </tr>\n",
       "    <tr>\n",
       "      <th>11067</th>\n",
       "      <td>2</td>\n",
       "      <td>4</td>\n",
       "      <td>1933</td>\n",
       "      <td>96974</td>\n",
       "      <td>645557</td>\n",
       "      <td>6483.38</td>\n",
       "      <td>261</td>\n",
       "      <td>6059</td>\n",
       "      <td>33.575517</td>\n",
       "      <td>-117.730726</td>\n",
       "      <td>0.010043</td>\n",
       "      <td>Orange</td>\n",
       "    </tr>\n",
       "    <tr>\n",
       "      <th>4446</th>\n",
       "      <td>3</td>\n",
       "      <td>3</td>\n",
       "      <td>3283</td>\n",
       "      <td>96027</td>\n",
       "      <td>1417529</td>\n",
       "      <td>17109.29</td>\n",
       "      <td>261</td>\n",
       "      <td>6037</td>\n",
       "      <td>34.102657</td>\n",
       "      <td>-118.358923</td>\n",
       "      <td>0.012070</td>\n",
       "      <td>Los Angeles</td>\n",
       "    </tr>\n",
       "    <tr>\n",
       "      <th>9057</th>\n",
       "      <td>1</td>\n",
       "      <td>2</td>\n",
       "      <td>884</td>\n",
       "      <td>96284</td>\n",
       "      <td>241368</td>\n",
       "      <td>2990.28</td>\n",
       "      <td>261</td>\n",
       "      <td>6037</td>\n",
       "      <td>34.260500</td>\n",
       "      <td>-118.300128</td>\n",
       "      <td>0.012389</td>\n",
       "      <td>Los Angeles</td>\n",
       "    </tr>\n",
       "    <tr>\n",
       "      <th>10284</th>\n",
       "      <td>2</td>\n",
       "      <td>4</td>\n",
       "      <td>1318</td>\n",
       "      <td>96965</td>\n",
       "      <td>554788</td>\n",
       "      <td>6463.80</td>\n",
       "      <td>261</td>\n",
       "      <td>6059</td>\n",
       "      <td>33.750581</td>\n",
       "      <td>-118.017523</td>\n",
       "      <td>0.011651</td>\n",
       "      <td>Orange</td>\n",
       "    </tr>\n",
       "    <tr>\n",
       "      <th>2239</th>\n",
       "      <td>2</td>\n",
       "      <td>4</td>\n",
       "      <td>2409</td>\n",
       "      <td>96030</td>\n",
       "      <td>947788</td>\n",
       "      <td>11454.67</td>\n",
       "      <td>261</td>\n",
       "      <td>6037</td>\n",
       "      <td>34.075294</td>\n",
       "      <td>-118.488434</td>\n",
       "      <td>0.012086</td>\n",
       "      <td>Los Angeles</td>\n",
       "    </tr>\n",
       "    <tr>\n",
       "      <th>14284</th>\n",
       "      <td>2</td>\n",
       "      <td>3</td>\n",
       "      <td>2482</td>\n",
       "      <td>97083</td>\n",
       "      <td>329763</td>\n",
       "      <td>3498.34</td>\n",
       "      <td>261</td>\n",
       "      <td>6111</td>\n",
       "      <td>34.289359</td>\n",
       "      <td>-119.222359</td>\n",
       "      <td>0.010609</td>\n",
       "      <td>Ventura</td>\n",
       "    </tr>\n",
       "    <tr>\n",
       "      <th>1852</th>\n",
       "      <td>2</td>\n",
       "      <td>3</td>\n",
       "      <td>1420</td>\n",
       "      <td>96159</td>\n",
       "      <td>529171</td>\n",
       "      <td>6091.38</td>\n",
       "      <td>261</td>\n",
       "      <td>6037</td>\n",
       "      <td>33.816155</td>\n",
       "      <td>-118.324931</td>\n",
       "      <td>0.011511</td>\n",
       "      <td>Los Angeles</td>\n",
       "    </tr>\n",
       "    <tr>\n",
       "      <th>6888</th>\n",
       "      <td>3</td>\n",
       "      <td>4</td>\n",
       "      <td>1748</td>\n",
       "      <td>96027</td>\n",
       "      <td>395304</td>\n",
       "      <td>4979.21</td>\n",
       "      <td>261</td>\n",
       "      <td>6037</td>\n",
       "      <td>34.121092</td>\n",
       "      <td>-118.356265</td>\n",
       "      <td>0.012596</td>\n",
       "      <td>Los Angeles</td>\n",
       "    </tr>\n",
       "    <tr>\n",
       "      <th>11229</th>\n",
       "      <td>4</td>\n",
       "      <td>3</td>\n",
       "      <td>3324</td>\n",
       "      <td>97043</td>\n",
       "      <td>899302</td>\n",
       "      <td>10088.10</td>\n",
       "      <td>261</td>\n",
       "      <td>6059</td>\n",
       "      <td>33.899543</td>\n",
       "      <td>-117.887043</td>\n",
       "      <td>0.011218</td>\n",
       "      <td>Orange</td>\n",
       "    </tr>\n",
       "    <tr>\n",
       "      <th>13851</th>\n",
       "      <td>1</td>\n",
       "      <td>2</td>\n",
       "      <td>912</td>\n",
       "      <td>97107</td>\n",
       "      <td>374480</td>\n",
       "      <td>5403.10</td>\n",
       "      <td>261</td>\n",
       "      <td>6111</td>\n",
       "      <td>34.231163</td>\n",
       "      <td>-119.166674</td>\n",
       "      <td>0.014428</td>\n",
       "      <td>Ventura</td>\n",
       "    </tr>\n",
       "    <tr>\n",
       "      <th>11726</th>\n",
       "      <td>3</td>\n",
       "      <td>3</td>\n",
       "      <td>2148</td>\n",
       "      <td>96946</td>\n",
       "      <td>690722</td>\n",
       "      <td>8138.36</td>\n",
       "      <td>261</td>\n",
       "      <td>6059</td>\n",
       "      <td>33.688616</td>\n",
       "      <td>-117.661509</td>\n",
       "      <td>0.011782</td>\n",
       "      <td>Orange</td>\n",
       "    </tr>\n",
       "    <tr>\n",
       "      <th>12559</th>\n",
       "      <td>2</td>\n",
       "      <td>4</td>\n",
       "      <td>3259</td>\n",
       "      <td>96978</td>\n",
       "      <td>2050000</td>\n",
       "      <td>21789.74</td>\n",
       "      <td>261</td>\n",
       "      <td>6059</td>\n",
       "      <td>33.629819</td>\n",
       "      <td>-117.894956</td>\n",
       "      <td>0.010629</td>\n",
       "      <td>Orange</td>\n",
       "    </tr>\n",
       "    <tr>\n",
       "      <th>3748</th>\n",
       "      <td>2</td>\n",
       "      <td>4</td>\n",
       "      <td>1648</td>\n",
       "      <td>96488</td>\n",
       "      <td>264127</td>\n",
       "      <td>3488.51</td>\n",
       "      <td>261</td>\n",
       "      <td>6037</td>\n",
       "      <td>34.015168</td>\n",
       "      <td>-117.917694</td>\n",
       "      <td>0.013208</td>\n",
       "      <td>Los Angeles</td>\n",
       "    </tr>\n",
       "  </tbody>\n",
       "</table>\n",
       "</div>"
      ],
      "text/plain": [
       "       bathrooms  bedrooms  sqft    zip  home_value     taxes  SFR  fips  \\\n",
       "3082           2         4  1553  97318      165683   2932.33  261  6037   \n",
       "3194           4         5  2968  96395      783227  11738.03  261  6037   \n",
       "1504           2         3  1374  96494       93771   1298.31  261  6037   \n",
       "1373           2         3  1102  96474      432541   5305.95  261  6037   \n",
       "12784          2         3  1929  96987      662742   6654.36  261  6059   \n",
       "12043          2         3  1557  96987       83003    787.80  261  6059   \n",
       "13589          1         1   623  97048      116672   1860.14  261  6059   \n",
       "11067          2         4  1933  96974      645557   6483.38  261  6059   \n",
       "4446           3         3  3283  96027     1417529  17109.29  261  6037   \n",
       "9057           1         2   884  96284      241368   2990.28  261  6037   \n",
       "10284          2         4  1318  96965      554788   6463.80  261  6059   \n",
       "2239           2         4  2409  96030      947788  11454.67  261  6037   \n",
       "14284          2         3  2482  97083      329763   3498.34  261  6111   \n",
       "1852           2         3  1420  96159      529171   6091.38  261  6037   \n",
       "6888           3         4  1748  96027      395304   4979.21  261  6037   \n",
       "11229          4         3  3324  97043      899302  10088.10  261  6059   \n",
       "13851          1         2   912  97107      374480   5403.10  261  6111   \n",
       "11726          3         3  2148  96946      690722   8138.36  261  6059   \n",
       "12559          2         4  3259  96978     2050000  21789.74  261  6059   \n",
       "3748           2         4  1648  96488      264127   3488.51  261  6037   \n",
       "\n",
       "        latitude   longitude  tax_rate  county_name  \n",
       "3082   34.668709 -118.074101  0.017698  Los Angeles  \n",
       "3194   34.390870 -118.598421  0.014987  Los Angeles  \n",
       "1504   34.114339 -117.773887  0.013846  Los Angeles  \n",
       "1373   34.094840 -117.888606  0.012267  Los Angeles  \n",
       "12784  33.552169 -117.703928  0.010041       Orange  \n",
       "12043  33.533620 -117.698593  0.009491       Orange  \n",
       "13589  33.776034 -117.973533  0.015943       Orange  \n",
       "11067  33.575517 -117.730726  0.010043       Orange  \n",
       "4446   34.102657 -118.358923  0.012070  Los Angeles  \n",
       "9057   34.260500 -118.300128  0.012389  Los Angeles  \n",
       "10284  33.750581 -118.017523  0.011651       Orange  \n",
       "2239   34.075294 -118.488434  0.012086  Los Angeles  \n",
       "14284  34.289359 -119.222359  0.010609      Ventura  \n",
       "1852   33.816155 -118.324931  0.011511  Los Angeles  \n",
       "6888   34.121092 -118.356265  0.012596  Los Angeles  \n",
       "11229  33.899543 -117.887043  0.011218       Orange  \n",
       "13851  34.231163 -119.166674  0.014428      Ventura  \n",
       "11726  33.688616 -117.661509  0.011782       Orange  \n",
       "12559  33.629819 -117.894956  0.010629       Orange  \n",
       "3748   34.015168 -117.917694  0.013208  Los Angeles  "
      ]
     },
     "execution_count": 14,
     "metadata": {},
     "output_type": "execute_result"
    }
   ],
   "source": [
    "# checking to see a spread across the data for county_name visiiblity\n",
    "zillow.sample(20)"
   ]
  },
  {
   "cell_type": "code",
   "execution_count": 15,
   "metadata": {},
   "outputs": [],
   "source": [
    "# add to.csv if time allows"
   ]
  },
  {
   "cell_type": "code",
   "execution_count": 16,
   "metadata": {},
   "outputs": [],
   "source": [
    "# Create Distributions of the Tax Rates by County:\n",
    "\n",
    "# Using the above resource we found a breakdown of fips numbers form 2017\n",
    "# with this information we know all the counties are in California\n",
    "\n",
    "# Below is a breakdown of the county representation in our data, and the corresponding tax rates and distribution.\n",
    "\n",
    "county_distribution = pd.DataFrame(zillow.groupby('county_name').county_name.count())\n",
    "county_distribution.columns = ['count']"
   ]
  },
  {
   "cell_type": "code",
   "execution_count": 17,
   "metadata": {},
   "outputs": [
    {
     "data": {
      "text/html": [
       "<div>\n",
       "<style scoped>\n",
       "    .dataframe tbody tr th:only-of-type {\n",
       "        vertical-align: middle;\n",
       "    }\n",
       "\n",
       "    .dataframe tbody tr th {\n",
       "        vertical-align: top;\n",
       "    }\n",
       "\n",
       "    .dataframe thead th {\n",
       "        text-align: right;\n",
       "    }\n",
       "</style>\n",
       "<table border=\"1\" class=\"dataframe\">\n",
       "  <thead>\n",
       "    <tr style=\"text-align: right;\">\n",
       "      <th></th>\n",
       "      <th>count</th>\n",
       "    </tr>\n",
       "    <tr>\n",
       "      <th>county_name</th>\n",
       "      <th></th>\n",
       "    </tr>\n",
       "  </thead>\n",
       "  <tbody>\n",
       "    <tr>\n",
       "      <th>Los Angeles</th>\n",
       "      <td>9601</td>\n",
       "    </tr>\n",
       "    <tr>\n",
       "      <th>Orange</th>\n",
       "      <td>4093</td>\n",
       "    </tr>\n",
       "    <tr>\n",
       "      <th>Ventura</th>\n",
       "      <td>1287</td>\n",
       "    </tr>\n",
       "  </tbody>\n",
       "</table>\n",
       "</div>"
      ],
      "text/plain": [
       "             count\n",
       "county_name       \n",
       "Los Angeles   9601\n",
       "Orange        4093\n",
       "Ventura       1287"
      ]
     },
     "execution_count": 17,
     "metadata": {},
     "output_type": "execute_result"
    }
   ],
   "source": [
    "county_distribution"
   ]
  },
  {
   "cell_type": "code",
   "execution_count": 18,
   "metadata": {},
   "outputs": [],
   "source": [
    "county_distribution['frequency'] = zillow['county_name'].value_counts(normalize=True)"
   ]
  },
  {
   "cell_type": "code",
   "execution_count": 19,
   "metadata": {},
   "outputs": [
    {
     "data": {
      "text/html": [
       "<div>\n",
       "<style scoped>\n",
       "    .dataframe tbody tr th:only-of-type {\n",
       "        vertical-align: middle;\n",
       "    }\n",
       "\n",
       "    .dataframe tbody tr th {\n",
       "        vertical-align: top;\n",
       "    }\n",
       "\n",
       "    .dataframe thead th {\n",
       "        text-align: right;\n",
       "    }\n",
       "</style>\n",
       "<table border=\"1\" class=\"dataframe\">\n",
       "  <thead>\n",
       "    <tr style=\"text-align: right;\">\n",
       "      <th></th>\n",
       "      <th>count</th>\n",
       "      <th>frequency</th>\n",
       "    </tr>\n",
       "    <tr>\n",
       "      <th>county_name</th>\n",
       "      <th></th>\n",
       "      <th></th>\n",
       "    </tr>\n",
       "  </thead>\n",
       "  <tbody>\n",
       "    <tr>\n",
       "      <th>Los Angeles</th>\n",
       "      <td>9601</td>\n",
       "      <td>0.640878</td>\n",
       "    </tr>\n",
       "    <tr>\n",
       "      <th>Orange</th>\n",
       "      <td>4093</td>\n",
       "      <td>0.273213</td>\n",
       "    </tr>\n",
       "    <tr>\n",
       "      <th>Ventura</th>\n",
       "      <td>1287</td>\n",
       "      <td>0.085909</td>\n",
       "    </tr>\n",
       "  </tbody>\n",
       "</table>\n",
       "</div>"
      ],
      "text/plain": [
       "             count  frequency\n",
       "county_name                  \n",
       "Los Angeles   9601   0.640878\n",
       "Orange        4093   0.273213\n",
       "Ventura       1287   0.085909"
      ]
     },
     "execution_count": 19,
     "metadata": {},
     "output_type": "execute_result"
    }
   ],
   "source": [
    "county_distribution"
   ]
  },
  {
   "cell_type": "code",
   "execution_count": 20,
   "metadata": {},
   "outputs": [],
   "source": [
    "county_distribution['percentage'] = round(county_distribution['frequency'] * 100)"
   ]
  },
  {
   "cell_type": "code",
   "execution_count": 21,
   "metadata": {},
   "outputs": [
    {
     "data": {
      "text/html": [
       "<div>\n",
       "<style scoped>\n",
       "    .dataframe tbody tr th:only-of-type {\n",
       "        vertical-align: middle;\n",
       "    }\n",
       "\n",
       "    .dataframe tbody tr th {\n",
       "        vertical-align: top;\n",
       "    }\n",
       "\n",
       "    .dataframe thead th {\n",
       "        text-align: right;\n",
       "    }\n",
       "</style>\n",
       "<table border=\"1\" class=\"dataframe\">\n",
       "  <thead>\n",
       "    <tr style=\"text-align: right;\">\n",
       "      <th></th>\n",
       "      <th>count</th>\n",
       "      <th>frequency</th>\n",
       "      <th>percentage</th>\n",
       "    </tr>\n",
       "    <tr>\n",
       "      <th>county_name</th>\n",
       "      <th></th>\n",
       "      <th></th>\n",
       "      <th></th>\n",
       "    </tr>\n",
       "  </thead>\n",
       "  <tbody>\n",
       "    <tr>\n",
       "      <th>Los Angeles</th>\n",
       "      <td>9601</td>\n",
       "      <td>0.640878</td>\n",
       "      <td>64.0</td>\n",
       "    </tr>\n",
       "    <tr>\n",
       "      <th>Orange</th>\n",
       "      <td>4093</td>\n",
       "      <td>0.273213</td>\n",
       "      <td>27.0</td>\n",
       "    </tr>\n",
       "    <tr>\n",
       "      <th>Ventura</th>\n",
       "      <td>1287</td>\n",
       "      <td>0.085909</td>\n",
       "      <td>9.0</td>\n",
       "    </tr>\n",
       "  </tbody>\n",
       "</table>\n",
       "</div>"
      ],
      "text/plain": [
       "             count  frequency  percentage\n",
       "county_name                              \n",
       "Los Angeles   9601   0.640878        64.0\n",
       "Orange        4093   0.273213        27.0\n",
       "Ventura       1287   0.085909         9.0"
      ]
     },
     "execution_count": 21,
     "metadata": {},
     "output_type": "execute_result"
    }
   ],
   "source": [
    "county_distribution"
   ]
  },
  {
   "cell_type": "code",
   "execution_count": 22,
   "metadata": {},
   "outputs": [],
   "source": [
    "# looked at the count of properties in each county, and my df is made up of 64% Los Angeles County \n",
    "# properties, 27% Orange County, and 9% Ventura County."
   ]
  },
  {
   "cell_type": "code",
   "execution_count": 23,
   "metadata": {},
   "outputs": [],
   "source": [
    "county_median_tax_rate = pd.DataFrame(round(zillow.groupby('county_name').tax_rate.median(), 3) * 100)\n",
    "county_median_tax_rate.columns = ['tax_rate']"
   ]
  },
  {
   "cell_type": "code",
   "execution_count": 24,
   "metadata": {},
   "outputs": [
    {
     "data": {
      "text/html": [
       "<div>\n",
       "<style scoped>\n",
       "    .dataframe tbody tr th:only-of-type {\n",
       "        vertical-align: middle;\n",
       "    }\n",
       "\n",
       "    .dataframe tbody tr th {\n",
       "        vertical-align: top;\n",
       "    }\n",
       "\n",
       "    .dataframe thead th {\n",
       "        text-align: right;\n",
       "    }\n",
       "</style>\n",
       "<table border=\"1\" class=\"dataframe\">\n",
       "  <thead>\n",
       "    <tr style=\"text-align: right;\">\n",
       "      <th></th>\n",
       "      <th>tax_rate</th>\n",
       "    </tr>\n",
       "    <tr>\n",
       "      <th>county_name</th>\n",
       "      <th></th>\n",
       "    </tr>\n",
       "  </thead>\n",
       "  <tbody>\n",
       "    <tr>\n",
       "      <th>Los Angeles</th>\n",
       "      <td>1.3</td>\n",
       "    </tr>\n",
       "    <tr>\n",
       "      <th>Orange</th>\n",
       "      <td>1.2</td>\n",
       "    </tr>\n",
       "    <tr>\n",
       "      <th>Ventura</th>\n",
       "      <td>1.1</td>\n",
       "    </tr>\n",
       "  </tbody>\n",
       "</table>\n",
       "</div>"
      ],
      "text/plain": [
       "             tax_rate\n",
       "county_name          \n",
       "Los Angeles       1.3\n",
       "Orange            1.2\n",
       "Ventura           1.1"
      ]
     },
     "execution_count": 24,
     "metadata": {},
     "output_type": "execute_result"
    }
   ],
   "source": [
    "county_median_tax_rate"
   ]
  },
  {
   "cell_type": "markdown",
   "metadata": {},
   "source": [
    "### regarding tax rates, it seems that LA county has the high tax rate, but there isn't too much of a difference between the rates"
   ]
  },
  {
   "cell_type": "code",
   "execution_count": 25,
   "metadata": {},
   "outputs": [],
   "source": [
    "# lets visualize this data\n",
    "los_angeles_tax_dist = zillow[zillow.county_name == \"Los Angeles\"].tax_rate\n",
    "orange_tax_dist = zillow[zillow.county_name == \"Orange\"].tax_rate\n",
    "ventura_tax_dist = zillow[zillow.county_name == \"Ventura\"].tax_rate"
   ]
  },
  {
   "cell_type": "code",
   "execution_count": 26,
   "metadata": {},
   "outputs": [
    {
     "data": {
      "text/plain": [
       "Text(0.5, 1.0, '2017 Tax Distribution for Los Angeles County')"
      ]
     },
     "execution_count": 26,
     "metadata": {},
     "output_type": "execute_result"
    },
    {
     "data": {
      "image/png": "[encoded data removed]",
      "text/plain": [
       "<Figure size 432x288 with 1 Axes>"
      ]
     },
     "metadata": {
      "needs_background": "light"
     },
     "output_type": "display_data"
    }
   ],
   "source": [
    "sns.distplot(los_angeles_tax_dist, color = 'Red')\n",
    "plt.xlim(0, 0.04)\n",
    "plt.ylabel('count')\n",
    "plt.title('2017 Tax Distribution for Los Angeles County')"
   ]
  },
  {
   "cell_type": "code",
   "execution_count": 27,
   "metadata": {},
   "outputs": [
    {
     "data": {
      "text/plain": [
       "Text(0.5, 1.0, '2017 Tax Distribution for Orange County')"
      ]
     },
     "execution_count": 27,
     "metadata": {},
     "output_type": "execute_result"
    },
    {
     "data": {
      "image/png": "[encoded data removed]",
      "text/plain": [
       "<Figure size 432x288 with 1 Axes>"
      ]
     },
     "metadata": {
      "needs_background": "light"
     },
     "output_type": "display_data"
    }
   ],
   "source": [
    "sns.distplot(orange_tax_dist, color = 'Orange')\n",
    "plt.xlim(0, 0.04)\n",
    "plt.ylabel('count')\n",
    "plt.title('2017 Tax Distribution for Orange County')"
   ]
  },
  {
   "cell_type": "code",
   "execution_count": 28,
   "metadata": {},
   "outputs": [
    {
     "data": {
      "text/plain": [
       "Text(0.5, 1.0, '2017 Tax Distribution for Orange County')"
      ]
     },
     "execution_count": 28,
     "metadata": {},
     "output_type": "execute_result"
    },
    {
     "data": {
      "image/png": "[encoded data removed]",
      "text/plain": [
       "<Figure size 432x288 with 1 Axes>"
      ]
     },
     "metadata": {
      "needs_background": "light"
     },
     "output_type": "display_data"
    }
   ],
   "source": [
    "sns.distplot(ventura_tax_dist, color = 'Blue')\n",
    "plt.xlim(0, 0.04)\n",
    "plt.ylabel('count')\n",
    "plt.title('2017 Tax Distribution for Orange County')"
   ]
  },
  {
   "cell_type": "code",
   "execution_count": 34,
   "metadata": {},
   "outputs": [],
   "source": [
    "# spliting the data into train, test\n",
    "# 80/20 train to test\n",
    "# setting seed at 19 for reproducibilty\n",
    "\n",
    "train, test = split_scale.split_my_data(zillow, .8, 19)"
   ]
  },
  {
   "cell_type": "code",
   "execution_count": 35,
   "metadata": {},
   "outputs": [
    {
     "data": {
      "text/html": [
       "<div>\n",
       "<style scoped>\n",
       "    .dataframe tbody tr th:only-of-type {\n",
       "        vertical-align: middle;\n",
       "    }\n",
       "\n",
       "    .dataframe tbody tr th {\n",
       "        vertical-align: top;\n",
       "    }\n",
       "\n",
       "    .dataframe thead th {\n",
       "        text-align: right;\n",
       "    }\n",
       "</style>\n",
       "<table border=\"1\" class=\"dataframe\">\n",
       "  <thead>\n",
       "    <tr style=\"text-align: right;\">\n",
       "      <th></th>\n",
       "      <th>bathrooms</th>\n",
       "      <th>bedrooms</th>\n",
       "      <th>sqft</th>\n",
       "      <th>zip</th>\n",
       "      <th>home_value</th>\n",
       "      <th>taxes</th>\n",
       "      <th>SFR</th>\n",
       "      <th>fips</th>\n",
       "      <th>latitude</th>\n",
       "      <th>longitude</th>\n",
       "      <th>tax_rate</th>\n",
       "      <th>county_name</th>\n",
       "    </tr>\n",
       "  </thead>\n",
       "  <tbody>\n",
       "    <tr>\n",
       "      <th>2473</th>\n",
       "      <td>2</td>\n",
       "      <td>2</td>\n",
       "      <td>1028</td>\n",
       "      <td>95987</td>\n",
       "      <td>49256</td>\n",
       "      <td>650.57</td>\n",
       "      <td>261</td>\n",
       "      <td>6037</td>\n",
       "      <td>34.054722</td>\n",
       "      <td>-118.293726</td>\n",
       "      <td>0.013208</td>\n",
       "      <td>Los Angeles</td>\n",
       "    </tr>\n",
       "    <tr>\n",
       "      <th>881</th>\n",
       "      <td>1</td>\n",
       "      <td>3</td>\n",
       "      <td>1779</td>\n",
       "      <td>96193</td>\n",
       "      <td>446000</td>\n",
       "      <td>5658.06</td>\n",
       "      <td>261</td>\n",
       "      <td>6037</td>\n",
       "      <td>33.897191</td>\n",
       "      <td>-118.073931</td>\n",
       "      <td>0.012686</td>\n",
       "      <td>Los Angeles</td>\n",
       "    </tr>\n",
       "    <tr>\n",
       "      <th>9554</th>\n",
       "      <td>2</td>\n",
       "      <td>3</td>\n",
       "      <td>1380</td>\n",
       "      <td>96451</td>\n",
       "      <td>322756</td>\n",
       "      <td>4054.12</td>\n",
       "      <td>261</td>\n",
       "      <td>6037</td>\n",
       "      <td>34.193206</td>\n",
       "      <td>-118.419501</td>\n",
       "      <td>0.012561</td>\n",
       "      <td>Los Angeles</td>\n",
       "    </tr>\n",
       "    <tr>\n",
       "      <th>8611</th>\n",
       "      <td>1</td>\n",
       "      <td>3</td>\n",
       "      <td>1850</td>\n",
       "      <td>95992</td>\n",
       "      <td>361000</td>\n",
       "      <td>4500.39</td>\n",
       "      <td>261</td>\n",
       "      <td>6037</td>\n",
       "      <td>34.016274</td>\n",
       "      <td>-118.251801</td>\n",
       "      <td>0.012466</td>\n",
       "      <td>Los Angeles</td>\n",
       "    </tr>\n",
       "    <tr>\n",
       "      <th>4082</th>\n",
       "      <td>2</td>\n",
       "      <td>3</td>\n",
       "      <td>1330</td>\n",
       "      <td>96522</td>\n",
       "      <td>72642</td>\n",
       "      <td>1178.41</td>\n",
       "      <td>261</td>\n",
       "      <td>6037</td>\n",
       "      <td>33.996883</td>\n",
       "      <td>-117.858115</td>\n",
       "      <td>0.016222</td>\n",
       "      <td>Los Angeles</td>\n",
       "    </tr>\n",
       "  </tbody>\n",
       "</table>\n",
       "</div>"
      ],
      "text/plain": [
       "      bathrooms  bedrooms  sqft    zip  home_value    taxes  SFR  fips  \\\n",
       "2473          2         2  1028  95987       49256   650.57  261  6037   \n",
       "881           1         3  1779  96193      446000  5658.06  261  6037   \n",
       "9554          2         3  1380  96451      322756  4054.12  261  6037   \n",
       "8611          1         3  1850  95992      361000  4500.39  261  6037   \n",
       "4082          2         3  1330  96522       72642  1178.41  261  6037   \n",
       "\n",
       "       latitude   longitude  tax_rate  county_name  \n",
       "2473  34.054722 -118.293726  0.013208  Los Angeles  \n",
       "881   33.897191 -118.073931  0.012686  Los Angeles  \n",
       "9554  34.193206 -118.419501  0.012561  Los Angeles  \n",
       "8611  34.016274 -118.251801  0.012466  Los Angeles  \n",
       "4082  33.996883 -117.858115  0.016222  Los Angeles  "
      ]
     },
     "execution_count": 35,
     "metadata": {},
     "output_type": "execute_result"
    }
   ],
   "source": [
    "train.head()"
   ]
  },
  {
   "cell_type": "code",
   "execution_count": 36,
   "metadata": {
    "scrolled": true
   },
   "outputs": [
    {
     "data": {
      "text/plain": [
       "(11984, 12)"
      ]
     },
     "execution_count": 36,
     "metadata": {},
     "output_type": "execute_result"
    }
   ],
   "source": [
    "train.shape"
   ]
  },
  {
   "cell_type": "code",
   "execution_count": 55,
   "metadata": {},
   "outputs": [
    {
     "name": "stdout",
     "output_type": "stream",
     "text": [
      "<class 'pandas.core.frame.DataFrame'>\n",
      "Int64Index: 11984 entries, 2473 to 13923\n",
      "Data columns (total 12 columns):\n",
      " #   Column       Non-Null Count  Dtype  \n",
      "---  ------       --------------  -----  \n",
      " 0   bathrooms    11984 non-null  int64  \n",
      " 1   bedrooms     11984 non-null  int64  \n",
      " 2   sqft         11984 non-null  int64  \n",
      " 3   zip          11984 non-null  int64  \n",
      " 4   home_value   11984 non-null  int64  \n",
      " 5   taxes        11984 non-null  float64\n",
      " 6   SFR          11984 non-null  int64  \n",
      " 7   fips         11984 non-null  int64  \n",
      " 8   latitude     11984 non-null  float64\n",
      " 9   longitude    11984 non-null  float64\n",
      " 10  tax_rate     11984 non-null  float64\n",
      " 11  county_name  11984 non-null  object \n",
      "dtypes: float64(4), int64(7), object(1)\n",
      "memory usage: 1.2+ MB\n"
     ]
    }
   ],
   "source": [
    "train.info()"
   ]
  },
  {
   "cell_type": "code",
   "execution_count": 39,
   "metadata": {},
   "outputs": [],
   "source": [
    "# split our data into X and y train/test\n",
    "\n",
    "X_train = train[['sqft', 'bedrooms', 'bathrooms']]\n",
    "X_test = test[['sqft', 'bedrooms', 'bathrooms']]\n",
    "y_train = train[['home_value']]\n",
    "y_test = test[['home_value']]"
   ]
  },
  {
   "cell_type": "code",
   "execution_count": 40,
   "metadata": {
    "scrolled": true
   },
   "outputs": [
    {
     "data": {
      "text/html": [
       "<div>\n",
       "<style scoped>\n",
       "    .dataframe tbody tr th:only-of-type {\n",
       "        vertical-align: middle;\n",
       "    }\n",
       "\n",
       "    .dataframe tbody tr th {\n",
       "        vertical-align: top;\n",
       "    }\n",
       "\n",
       "    .dataframe thead th {\n",
       "        text-align: right;\n",
       "    }\n",
       "</style>\n",
       "<table border=\"1\" class=\"dataframe\">\n",
       "  <thead>\n",
       "    <tr style=\"text-align: right;\">\n",
       "      <th></th>\n",
       "      <th>sqft</th>\n",
       "      <th>bedrooms</th>\n",
       "      <th>bathrooms</th>\n",
       "    </tr>\n",
       "  </thead>\n",
       "  <tbody>\n",
       "    <tr>\n",
       "      <th>2473</th>\n",
       "      <td>1028</td>\n",
       "      <td>2</td>\n",
       "      <td>2</td>\n",
       "    </tr>\n",
       "    <tr>\n",
       "      <th>881</th>\n",
       "      <td>1779</td>\n",
       "      <td>3</td>\n",
       "      <td>1</td>\n",
       "    </tr>\n",
       "    <tr>\n",
       "      <th>9554</th>\n",
       "      <td>1380</td>\n",
       "      <td>3</td>\n",
       "      <td>2</td>\n",
       "    </tr>\n",
       "    <tr>\n",
       "      <th>8611</th>\n",
       "      <td>1850</td>\n",
       "      <td>3</td>\n",
       "      <td>1</td>\n",
       "    </tr>\n",
       "    <tr>\n",
       "      <th>4082</th>\n",
       "      <td>1330</td>\n",
       "      <td>3</td>\n",
       "      <td>2</td>\n",
       "    </tr>\n",
       "  </tbody>\n",
       "</table>\n",
       "</div>"
      ],
      "text/plain": [
       "      sqft  bedrooms  bathrooms\n",
       "2473  1028         2          2\n",
       "881   1779         3          1\n",
       "9554  1380         3          2\n",
       "8611  1850         3          1\n",
       "4082  1330         3          2"
      ]
     },
     "execution_count": 40,
     "metadata": {},
     "output_type": "execute_result"
    }
   ],
   "source": [
    "X_train.head()"
   ]
  },
  {
   "cell_type": "code",
   "execution_count": 41,
   "metadata": {},
   "outputs": [
    {
     "data": {
      "text/html": [
       "<div>\n",
       "<style scoped>\n",
       "    .dataframe tbody tr th:only-of-type {\n",
       "        vertical-align: middle;\n",
       "    }\n",
       "\n",
       "    .dataframe tbody tr th {\n",
       "        vertical-align: top;\n",
       "    }\n",
       "\n",
       "    .dataframe thead th {\n",
       "        text-align: right;\n",
       "    }\n",
       "</style>\n",
       "<table border=\"1\" class=\"dataframe\">\n",
       "  <thead>\n",
       "    <tr style=\"text-align: right;\">\n",
       "      <th></th>\n",
       "      <th>home_value</th>\n",
       "    </tr>\n",
       "  </thead>\n",
       "  <tbody>\n",
       "    <tr>\n",
       "      <th>2473</th>\n",
       "      <td>49256</td>\n",
       "    </tr>\n",
       "    <tr>\n",
       "      <th>881</th>\n",
       "      <td>446000</td>\n",
       "    </tr>\n",
       "    <tr>\n",
       "      <th>9554</th>\n",
       "      <td>322756</td>\n",
       "    </tr>\n",
       "    <tr>\n",
       "      <th>8611</th>\n",
       "      <td>361000</td>\n",
       "    </tr>\n",
       "    <tr>\n",
       "      <th>4082</th>\n",
       "      <td>72642</td>\n",
       "    </tr>\n",
       "  </tbody>\n",
       "</table>\n",
       "</div>"
      ],
      "text/plain": [
       "      home_value\n",
       "2473       49256\n",
       "881       446000\n",
       "9554      322756\n",
       "8611      361000\n",
       "4082       72642"
      ]
     },
     "execution_count": 41,
     "metadata": {},
     "output_type": "execute_result"
    }
   ],
   "source": [
    "y_train.head()"
   ]
  },
  {
   "cell_type": "markdown",
   "metadata": {},
   "source": [
    "# Data exploration\n",
    "\n",
    "## Goal: Address each of the questions you posed in your planning and brainstorming and any others you have come up with along the way through visual or statistical analysis.\n",
    "\n",
    "### Which independent variables do you think influence the value of a home?\n",
    "\n",
    "The general hypothesis is that the variables that influence the value of home are square feet, bedrooms, and bathrooms.\n",
    "\n",
    "More square footage, or room count, the higher the potential value.\n",
    "\n",
    "This seems to be a overly simplistic, as home ammenties, location, schools in the area, etc. will have additional influence, and potentially more.\n",
    "\n",
    "However, for the team deliverables we will look at these three variables."
   ]
  },
  {
   "cell_type": "code",
   "execution_count": 57,
   "metadata": {},
   "outputs": [
    {
     "data": {
      "image/png": "[encoded data removed]",
      "text/plain": [
       "<Figure size 720x720 with 2 Axes>"
      ]
     },
     "metadata": {
      "needs_background": "light"
     },
     "output_type": "display_data"
    }
   ],
   "source": [
    "plt.figure(figsize=(10,10))\n",
    "cor = train[['bathrooms','bedrooms','sqft','tax_rate', 'home_value', 'taxes']].corr()\n",
    "sns.heatmap(cor,annot=True,cmap=plt.cm.Blues)\n",
    "plt.show()"
   ]
  },
  {
   "cell_type": "code",
   "execution_count": 59,
   "metadata": {
    "scrolled": false
   },
   "outputs": [
    {
     "name": "stdout",
     "output_type": "stream",
     "text": [
      "1      177\n",
      "2     2349\n",
      "3     6662\n",
      "4     4420\n",
      "5     1155\n",
      "6      183\n",
      "7       27\n",
      "8        1\n",
      "9        2\n",
      "10       1\n",
      "11       1\n",
      "12       3\n",
      "Name: bedrooms, dtype: int64\n"
     ]
    },
    {
     "data": {
      "text/plain": [
       "<matplotlib.axes._subplots.AxesSubplot at 0x1201d3410>"
      ]
     },
     "execution_count": 59,
     "metadata": {},
     "output_type": "execute_result"
    },
    {
     "data": {
      "image/png": "[encoded data removed]",
      "text/plain": [
       "<Figure size 432x288 with 1 Axes>"
      ]
     },
     "metadata": {
      "needs_background": "light"
     },
     "output_type": "display_data"
    }
   ],
   "source": [
    "sns.distplot(zillow.bedrooms)"
   ]
  },
  {
   "cell_type": "code",
   "execution_count": 61,
   "metadata": {},
   "outputs": [
    {
     "data": {
      "text/plain": [
       "<matplotlib.axes._subplots.AxesSubplot at 0x12a70e210>"
      ]
     },
     "execution_count": 61,
     "metadata": {},
     "output_type": "execute_result"
    },
    {
     "data": {
      "image/png": "[encoded data removed]",
      "text/plain": [
       "<Figure size 432x288 with 1 Axes>"
      ]
     },
     "metadata": {
      "needs_background": "light"
     },
     "output_type": "display_data"
    }
   ],
   "source": [
    "sns.distplot(zillow.bathrooms)"
   ]
  },
  {
   "cell_type": "code",
   "execution_count": 62,
   "metadata": {},
   "outputs": [
    {
     "data": {
      "text/plain": [
       "<matplotlib.axes._subplots.AxesSubplot at 0x12923ad50>"
      ]
     },
     "execution_count": 62,
     "metadata": {},
     "output_type": "execute_result"
    },
    {
     "data": {
      "image/png": "[encoded data removed]",
      "text/plain": [
       "<Figure size 432x288 with 1 Axes>"
      ]
     },
     "metadata": {
      "needs_background": "light"
     },
     "output_type": "display_data"
    }
   ],
   "source": [
    "sns.distplot(zillow.sqft)"
   ]
  },
  {
   "cell_type": "code",
   "execution_count": 53,
   "metadata": {},
   "outputs": [
    {
     "data": {
      "text/plain": [
       "(0.0, 7.0)"
      ]
     },
     "execution_count": 53,
     "metadata": {},
     "output_type": "execute_result"
    },
    {
     "data": {
      "image/png": "[encoded data removed]",
      "text/plain": [
       "<Figure size 864x432 with 2 Axes>"
      ]
     },
     "metadata": {
      "needs_background": "light"
     },
     "output_type": "display_data"
    }
   ],
   "source": [
    "plt.figure(figsize=(12,6))\n",
    "sns.heatmap(train.corr(), cmap='Greens', annot=True)\n",
    "plt.ylim(0, 7)"
   ]
  },
  {
   "cell_type": "code",
   "execution_count": 71,
   "metadata": {},
   "outputs": [
    {
     "data": {
      "text/plain": [
       "<matplotlib.axes._subplots.AxesSubplot at 0x12923a5d0>"
      ]
     },
     "execution_count": 71,
     "metadata": {},
     "output_type": "execute_result"
    },
    {
     "data": {
      "image/png": "[encoded data removed]",
      "text/plain": [
       "<Figure size 1152x792 with 2 Axes>"
      ]
     },
     "metadata": {
      "needs_background": "light"
     },
     "output_type": "display_data"
    }
   ],
   "source": [
    "plt.figure(figsize = (16,11))\n",
    "sns.heatmap(train.corr(), cmap = 'Blues', annot = True )"
   ]
  },
  {
   "cell_type": "markdown",
   "metadata": {},
   "source": [
    "Run at least 1 t-test and 1 correlation test (but as many as you need!)"
   ]
  },
  {
   "cell_type": "markdown",
   "metadata": {},
   "source": [
    "### Is there a difference in home value between 1 or 3 bedrooms?\n",
    "\n",
    "> $H_0$: There is no difference in home value between having 1 bedroom vs 3 bedrooms\n",
    "\n",
    "> $H_a$: There is a difference in home value between having 1 bedroom vs 3 bedrooms"
   ]
  },
  {
   "cell_type": "code",
   "execution_count": 76,
   "metadata": {},
   "outputs": [
    {
     "data": {
      "text/plain": [
       "(-2.126241778994122, 0.03352839302443865)"
      ]
     },
     "execution_count": 76,
     "metadata": {},
     "output_type": "execute_result"
    }
   ],
   "source": [
    "alpha = .05\n",
    "\n",
    "x1 = train[train.bedrooms == 1].home_value\n",
    "x2 = train[train.bedrooms == 3].home_value\n",
    "\n",
    "r, p = ttest_ind(x1, x2)\n",
    "r, p"
   ]
  },
  {
   "cell_type": "code",
   "execution_count": 78,
   "metadata": {},
   "outputs": [
    {
     "name": "stdout",
     "output_type": "stream",
     "text": [
      "\n",
      "Because p (0.0335) > alpha (.05), we reject the null hypothesis that \n",
      "there is a difference in home value between having 1 bedroom vs 3 bedrooms.\n",
      "\n"
     ]
    }
   ],
   "source": [
    "print(f'''\n",
    "Because p ({p:.4f}) > alpha (.05), we reject the null hypothesis that \n",
    "there is a difference in home value between having 1 bedroom vs 3 bedrooms.\n",
    "''')"
   ]
  },
  {
   "cell_type": "markdown",
   "metadata": {},
   "source": [
    "### Does sqft correlate with home vale?\n",
    "\n",
    "> $H_0$: There is no linear relationship between sqft and home value\n",
    "\n",
    "> $H_a$: There is a linear relationship between sqft and home value"
   ]
  },
  {
   "cell_type": "code",
   "execution_count": 84,
   "metadata": {},
   "outputs": [
    {
     "name": "stdout",
     "output_type": "stream",
     "text": [
      "r = 0.6041151990805946\n",
      "p = 0.0\n"
     ]
    }
   ],
   "source": [
    "x = train.sqft\n",
    "y = train.home_value\n",
    "\n",
    "r, p = pearsonr(x, y)\n",
    "\n",
    "print('r =', r)\n",
    "print('p =', p)"
   ]
  },
  {
   "cell_type": "code",
   "execution_count": 86,
   "metadata": {},
   "outputs": [
    {
     "name": "stdout",
     "output_type": "stream",
     "text": [
      "\n",
      "Because p (0.0) > alpha (.05), we reject the null hypothesis that there is no linear relationship\n",
      "between sqft and home value.\n",
      "\n"
     ]
    }
   ],
   "source": [
    "print(f'''\n",
    "Because p ({p:.1f}) > alpha (.05), we reject the null hypothesis that there is no linear relationship\n",
    "between sqft and home value.\n",
    "''')"
   ]
  },
  {
   "cell_type": "code",
   "execution_count": 79,
   "metadata": {
    "scrolled": false
   },
   "outputs": [
    {
     "data": {
      "application/vnd.jupyter.widget-view+json": {
       "model_id": "ca06a524f8eb45688189df6751704a80",
       "version_major": 2,
       "version_minor": 0
      },
      "text/plain": [
       "Map(configuration={'api_key': None}, data_bounds=[(33.470286350631035, -118.91369264051497), (34.5745974552562…"
      ]
     },
     "metadata": {},
     "output_type": "display_data"
    }
   ],
   "source": [
    "# Fun visual using lat and long\n",
    "\n",
    "fig = gmaps.Map(layout={'width': '1000px', 'height': '400px', 'padding': '10px'})\n",
    "fig.add_layer(gmaps.heatmap_layer(zillow[['latitude', 'longitude']], weights=zillow['home_value']))\n",
    "fig"
   ]
  },
  {
   "cell_type": "markdown",
   "metadata": {},
   "source": [
    "# Modeling\n",
    "\n",
    "## Goal: develop a regression model that performs better than a baseline."
   ]
  },
  {
   "cell_type": "code",
   "execution_count": 87,
   "metadata": {},
   "outputs": [],
   "source": [
    "# first I want to create dataframe to contain our actual values and model performance\n",
    "\n",
    "predictions_train=pd.DataFrame({'actual':y_train.home_value})"
   ]
  },
  {
   "cell_type": "code",
   "execution_count": 88,
   "metadata": {},
   "outputs": [
    {
     "data": {
      "text/html": [
       "<div>\n",
       "<style scoped>\n",
       "    .dataframe tbody tr th:only-of-type {\n",
       "        vertical-align: middle;\n",
       "    }\n",
       "\n",
       "    .dataframe tbody tr th {\n",
       "        vertical-align: top;\n",
       "    }\n",
       "\n",
       "    .dataframe thead th {\n",
       "        text-align: right;\n",
       "    }\n",
       "</style>\n",
       "<table border=\"1\" class=\"dataframe\">\n",
       "  <thead>\n",
       "    <tr style=\"text-align: right;\">\n",
       "      <th></th>\n",
       "      <th>actual</th>\n",
       "    </tr>\n",
       "  </thead>\n",
       "  <tbody>\n",
       "    <tr>\n",
       "      <th>2473</th>\n",
       "      <td>49256</td>\n",
       "    </tr>\n",
       "    <tr>\n",
       "      <th>881</th>\n",
       "      <td>446000</td>\n",
       "    </tr>\n",
       "    <tr>\n",
       "      <th>9554</th>\n",
       "      <td>322756</td>\n",
       "    </tr>\n",
       "    <tr>\n",
       "      <th>8611</th>\n",
       "      <td>361000</td>\n",
       "    </tr>\n",
       "    <tr>\n",
       "      <th>4082</th>\n",
       "      <td>72642</td>\n",
       "    </tr>\n",
       "  </tbody>\n",
       "</table>\n",
       "</div>"
      ],
      "text/plain": [
       "      actual\n",
       "2473   49256\n",
       "881   446000\n",
       "9554  322756\n",
       "8611  361000\n",
       "4082   72642"
      ]
     },
     "execution_count": 88,
     "metadata": {},
     "output_type": "execute_result"
    }
   ],
   "source": [
    "predictions_train.head()"
   ]
  },
  {
   "cell_type": "code",
   "execution_count": 93,
   "metadata": {},
   "outputs": [],
   "source": [
    "# we will create a baseline, so we have something to measure model performance against\n",
    "\n",
    "baseline_train = np.array([y_train.mean()[0]]*len(y_train))\n",
    "predictions_train['baseline'] = baseline_train"
   ]
  },
  {
   "cell_type": "code",
   "execution_count": 94,
   "metadata": {},
   "outputs": [
    {
     "data": {
      "text/html": [
       "<div>\n",
       "<style scoped>\n",
       "    .dataframe tbody tr th:only-of-type {\n",
       "        vertical-align: middle;\n",
       "    }\n",
       "\n",
       "    .dataframe tbody tr th {\n",
       "        vertical-align: top;\n",
       "    }\n",
       "\n",
       "    .dataframe thead th {\n",
       "        text-align: right;\n",
       "    }\n",
       "</style>\n",
       "<table border=\"1\" class=\"dataframe\">\n",
       "  <thead>\n",
       "    <tr style=\"text-align: right;\">\n",
       "      <th></th>\n",
       "      <th>actual</th>\n",
       "      <th>baseline</th>\n",
       "    </tr>\n",
       "  </thead>\n",
       "  <tbody>\n",
       "    <tr>\n",
       "      <th>2473</th>\n",
       "      <td>49256</td>\n",
       "      <td>539994.634179</td>\n",
       "    </tr>\n",
       "    <tr>\n",
       "      <th>881</th>\n",
       "      <td>446000</td>\n",
       "      <td>539994.634179</td>\n",
       "    </tr>\n",
       "    <tr>\n",
       "      <th>9554</th>\n",
       "      <td>322756</td>\n",
       "      <td>539994.634179</td>\n",
       "    </tr>\n",
       "    <tr>\n",
       "      <th>8611</th>\n",
       "      <td>361000</td>\n",
       "      <td>539994.634179</td>\n",
       "    </tr>\n",
       "    <tr>\n",
       "      <th>4082</th>\n",
       "      <td>72642</td>\n",
       "      <td>539994.634179</td>\n",
       "    </tr>\n",
       "  </tbody>\n",
       "</table>\n",
       "</div>"
      ],
      "text/plain": [
       "      actual       baseline\n",
       "2473   49256  539994.634179\n",
       "881   446000  539994.634179\n",
       "9554  322756  539994.634179\n",
       "8611  361000  539994.634179\n",
       "4082   72642  539994.634179"
      ]
     },
     "execution_count": 94,
     "metadata": {},
     "output_type": "execute_result"
    }
   ],
   "source": [
    "predictions_train.head()"
   ]
  },
  {
   "cell_type": "code",
   "execution_count": 95,
   "metadata": {},
   "outputs": [],
   "source": [
    "lm = LinearRegression()\n",
    "\n",
    "lm.fit(X_train,y_train)\n",
    "\n",
    "lm_predictions=lm.predict(X_train)\n",
    "\n",
    "predictions_train['lm']= lm_predictions"
   ]
  },
  {
   "cell_type": "code",
   "execution_count": 96,
   "metadata": {},
   "outputs": [
    {
     "data": {
      "text/html": [
       "<div>\n",
       "<style scoped>\n",
       "    .dataframe tbody tr th:only-of-type {\n",
       "        vertical-align: middle;\n",
       "    }\n",
       "\n",
       "    .dataframe tbody tr th {\n",
       "        vertical-align: top;\n",
       "    }\n",
       "\n",
       "    .dataframe thead th {\n",
       "        text-align: right;\n",
       "    }\n",
       "</style>\n",
       "<table border=\"1\" class=\"dataframe\">\n",
       "  <thead>\n",
       "    <tr style=\"text-align: right;\">\n",
       "      <th></th>\n",
       "      <th>actual</th>\n",
       "      <th>baseline</th>\n",
       "      <th>lm</th>\n",
       "    </tr>\n",
       "  </thead>\n",
       "  <tbody>\n",
       "    <tr>\n",
       "      <th>2473</th>\n",
       "      <td>49256</td>\n",
       "      <td>539994.634179</td>\n",
       "      <td>296718.848648</td>\n",
       "    </tr>\n",
       "    <tr>\n",
       "      <th>881</th>\n",
       "      <td>446000</td>\n",
       "      <td>539994.634179</td>\n",
       "      <td>414698.008468</td>\n",
       "    </tr>\n",
       "    <tr>\n",
       "      <th>9554</th>\n",
       "      <td>322756</td>\n",
       "      <td>539994.634179</td>\n",
       "      <td>309678.683321</td>\n",
       "    </tr>\n",
       "    <tr>\n",
       "      <th>8611</th>\n",
       "      <td>361000</td>\n",
       "      <td>539994.634179</td>\n",
       "      <td>447129.657347</td>\n",
       "    </tr>\n",
       "    <tr>\n",
       "      <th>4082</th>\n",
       "      <td>72642</td>\n",
       "      <td>539994.634179</td>\n",
       "      <td>286839.493970</td>\n",
       "    </tr>\n",
       "  </tbody>\n",
       "</table>\n",
       "</div>"
      ],
      "text/plain": [
       "      actual       baseline             lm\n",
       "2473   49256  539994.634179  296718.848648\n",
       "881   446000  539994.634179  414698.008468\n",
       "9554  322756  539994.634179  309678.683321\n",
       "8611  361000  539994.634179  447129.657347\n",
       "4082   72642  539994.634179  286839.493970"
      ]
     },
     "execution_count": 96,
     "metadata": {},
     "output_type": "execute_result"
    }
   ],
   "source": [
    "predictions_train.head()"
   ]
  },
  {
   "cell_type": "code",
   "execution_count": 99,
   "metadata": {},
   "outputs": [],
   "source": [
    "predictions_train['residuals'] = predictions_train.lm - predictions_train.actual"
   ]
  },
  {
   "cell_type": "code",
   "execution_count": 100,
   "metadata": {},
   "outputs": [
    {
     "data": {
      "text/html": [
       "<div>\n",
       "<style scoped>\n",
       "    .dataframe tbody tr th:only-of-type {\n",
       "        vertical-align: middle;\n",
       "    }\n",
       "\n",
       "    .dataframe tbody tr th {\n",
       "        vertical-align: top;\n",
       "    }\n",
       "\n",
       "    .dataframe thead th {\n",
       "        text-align: right;\n",
       "    }\n",
       "</style>\n",
       "<table border=\"1\" class=\"dataframe\">\n",
       "  <thead>\n",
       "    <tr style=\"text-align: right;\">\n",
       "      <th></th>\n",
       "      <th>actual</th>\n",
       "      <th>baseline</th>\n",
       "      <th>lm</th>\n",
       "      <th>residuals</th>\n",
       "    </tr>\n",
       "  </thead>\n",
       "  <tbody>\n",
       "    <tr>\n",
       "      <th>2473</th>\n",
       "      <td>49256</td>\n",
       "      <td>539994.634179</td>\n",
       "      <td>296718.848648</td>\n",
       "      <td>247462.848648</td>\n",
       "    </tr>\n",
       "    <tr>\n",
       "      <th>881</th>\n",
       "      <td>446000</td>\n",
       "      <td>539994.634179</td>\n",
       "      <td>414698.008468</td>\n",
       "      <td>-31301.991532</td>\n",
       "    </tr>\n",
       "    <tr>\n",
       "      <th>9554</th>\n",
       "      <td>322756</td>\n",
       "      <td>539994.634179</td>\n",
       "      <td>309678.683321</td>\n",
       "      <td>-13077.316679</td>\n",
       "    </tr>\n",
       "    <tr>\n",
       "      <th>8611</th>\n",
       "      <td>361000</td>\n",
       "      <td>539994.634179</td>\n",
       "      <td>447129.657347</td>\n",
       "      <td>86129.657347</td>\n",
       "    </tr>\n",
       "    <tr>\n",
       "      <th>4082</th>\n",
       "      <td>72642</td>\n",
       "      <td>539994.634179</td>\n",
       "      <td>286839.493970</td>\n",
       "      <td>214197.493970</td>\n",
       "    </tr>\n",
       "  </tbody>\n",
       "</table>\n",
       "</div>"
      ],
      "text/plain": [
       "      actual       baseline             lm      residuals\n",
       "2473   49256  539994.634179  296718.848648  247462.848648\n",
       "881   446000  539994.634179  414698.008468  -31301.991532\n",
       "9554  322756  539994.634179  309678.683321  -13077.316679\n",
       "8611  361000  539994.634179  447129.657347   86129.657347\n",
       "4082   72642  539994.634179  286839.493970  214197.493970"
      ]
     },
     "execution_count": 100,
     "metadata": {},
     "output_type": "execute_result"
    }
   ],
   "source": [
    "predictions_train.head()"
   ]
  },
  {
   "cell_type": "code",
   "execution_count": 108,
   "metadata": {},
   "outputs": [
    {
     "data": {
      "text/plain": [
       "<function matplotlib.pyplot.show(*args, **kw)>"
      ]
     },
     "execution_count": 108,
     "metadata": {},
     "output_type": "execute_result"
    },
    {
     "data": {
      "image/png": "[encoded data removed]",
      "text/plain": [
       "<Figure size 1152x648 with 1 Axes>"
      ]
     },
     "metadata": {
      "needs_background": "light"
     },
     "output_type": "display_data"
    }
   ],
   "source": [
    "plt.figure(figsize=(16,9))\n",
    "\n",
    "plt.scatter(x = predictions_train.actual, y = predictions_train.residuals)\n",
    "plt.title('Residual Plot')\n",
    "plt.xlabel('actual (y)')\n",
    "plt.ylabel('Residuals')\n",
    "\n",
    "plt.show"
   ]
  },
  {
   "cell_type": "markdown",
   "metadata": {},
   "source": [
    "### Well, there is definitely something here. Let's some evaluatation to put some numbers to what we're seeing."
   ]
  },
  {
   "cell_type": "markdown",
   "metadata": {},
   "source": [
    "## Evaluate our model to get the RMSE and $R^2$ values"
   ]
  },
  {
   "cell_type": "code",
   "execution_count": 110,
   "metadata": {},
   "outputs": [
    {
     "data": {
      "text/html": [
       "<div>\n",
       "<style scoped>\n",
       "    .dataframe tbody tr th:only-of-type {\n",
       "        vertical-align: middle;\n",
       "    }\n",
       "\n",
       "    .dataframe tbody tr th {\n",
       "        vertical-align: top;\n",
       "    }\n",
       "\n",
       "    .dataframe thead th {\n",
       "        text-align: right;\n",
       "    }\n",
       "</style>\n",
       "<table border=\"1\" class=\"dataframe\">\n",
       "  <thead>\n",
       "    <tr style=\"text-align: right;\">\n",
       "      <th></th>\n",
       "      <th>actual</th>\n",
       "      <th>baseline</th>\n",
       "      <th>lm</th>\n",
       "      <th>residuals</th>\n",
       "    </tr>\n",
       "  </thead>\n",
       "  <tbody>\n",
       "    <tr>\n",
       "      <th>2473</th>\n",
       "      <td>49256</td>\n",
       "      <td>539994.634179</td>\n",
       "      <td>296718.848648</td>\n",
       "      <td>247462.848648</td>\n",
       "    </tr>\n",
       "    <tr>\n",
       "      <th>881</th>\n",
       "      <td>446000</td>\n",
       "      <td>539994.634179</td>\n",
       "      <td>414698.008468</td>\n",
       "      <td>-31301.991532</td>\n",
       "    </tr>\n",
       "    <tr>\n",
       "      <th>9554</th>\n",
       "      <td>322756</td>\n",
       "      <td>539994.634179</td>\n",
       "      <td>309678.683321</td>\n",
       "      <td>-13077.316679</td>\n",
       "    </tr>\n",
       "    <tr>\n",
       "      <th>8611</th>\n",
       "      <td>361000</td>\n",
       "      <td>539994.634179</td>\n",
       "      <td>447129.657347</td>\n",
       "      <td>86129.657347</td>\n",
       "    </tr>\n",
       "    <tr>\n",
       "      <th>4082</th>\n",
       "      <td>72642</td>\n",
       "      <td>539994.634179</td>\n",
       "      <td>286839.493970</td>\n",
       "      <td>214197.493970</td>\n",
       "    </tr>\n",
       "  </tbody>\n",
       "</table>\n",
       "</div>"
      ],
      "text/plain": [
       "      actual       baseline             lm      residuals\n",
       "2473   49256  539994.634179  296718.848648  247462.848648\n",
       "881   446000  539994.634179  414698.008468  -31301.991532\n",
       "9554  322756  539994.634179  309678.683321  -13077.316679\n",
       "8611  361000  539994.634179  447129.657347   86129.657347\n",
       "4082   72642  539994.634179  286839.493970  214197.493970"
      ]
     },
     "execution_count": 110,
     "metadata": {},
     "output_type": "execute_result"
    }
   ],
   "source": [
    "predictions_train.head()"
   ]
  },
  {
   "cell_type": "code",
   "execution_count": 113,
   "metadata": {},
   "outputs": [],
   "source": [
    "def regression_errors(df):\n",
    "    \"\"\"\n",
    "    Return a DataFrame with the SSE, ESS, TSS, MSE, RMSE for the y variable\n",
    "    \n",
    "    \"\"\"\n",
    "    #SSE\n",
    "    SSE = mean_squared_error(df.actual, df.lm) * len(df)\n",
    "    #ESS\n",
    "    ESS = sum((df.lm - df['actual'].mean())**2)\n",
    "    #TSS\n",
    "    TSS = SSE + ESS\n",
    "    #MSE\n",
    "    MSE = mean_squared_error(df.actual, df.lm)\n",
    "    #RMSE\n",
    "    RMSE = sqrt(mean_squared_error(df.actual, df.lm))\n",
    "    \n",
    "    return SSE, ESS, TSS, MSE, RMSE"
   ]
  },
  {
   "cell_type": "code",
   "execution_count": 115,
   "metadata": {},
   "outputs": [],
   "source": [
    "SSE, ESS, TSS, MSE, RMSE = regression_errors(predictions_train)"
   ]
  },
  {
   "cell_type": "code",
   "execution_count": 116,
   "metadata": {},
   "outputs": [
    {
     "name": "stdout",
     "output_type": "stream",
     "text": [
      "SSE: 3738859167955487.5\n",
      "ESS: 2355210129610850.0\n",
      "TSS: 6094069297566338.0\n",
      "MSE: 311987580770.652\n",
      "RMSE: 558558.485\n"
     ]
    }
   ],
   "source": [
    "print(f'SSE: {round(SSE, 3)}')\n",
    "print(f'ESS: {round(ESS, 3)}')\n",
    "print(f'TSS: {round(TSS, 3)}')\n",
    "print(f'MSE: {round(MSE, 3)}')\n",
    "print(f'RMSE: {round(RMSE,3)}')"
   ]
  },
  {
   "cell_type": "code",
   "execution_count": 117,
   "metadata": {},
   "outputs": [],
   "source": [
    "r2 = r2_score(predictions_train.actual, predictions_train.lm)"
   ]
  },
  {
   "cell_type": "code",
   "execution_count": 118,
   "metadata": {},
   "outputs": [
    {
     "data": {
      "text/plain": [
       "0.3864757708862221"
      ]
     },
     "execution_count": 118,
     "metadata": {},
     "output_type": "execute_result"
    }
   ],
   "source": [
    "r2"
   ]
  },
  {
   "cell_type": "code",
   "execution_count": null,
   "metadata": {},
   "outputs": [],
   "source": []
  }
 ],
 "metadata": {
  "kernelspec": {
   "display_name": "Python 3",
   "language": "python",
   "name": "python3"
  },
  "language_info": {
   "codemirror_mode": {
    "name": "ipython",
    "version": 3
   },
   "file_extension": ".py",
   "mimetype": "text/x-python",
   "name": "python",
   "nbconvert_exporter": "python",
   "pygments_lexer": "ipython3",
   "version": "3.7.4"
  }
 },
 "nbformat": 4,
 "nbformat_minor": 2
}
